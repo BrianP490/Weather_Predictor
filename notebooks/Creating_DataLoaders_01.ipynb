{
 "cells": [
  {
   "cell_type": "markdown",
   "id": "b1c7208c",
   "metadata": {},
   "source": [
    "# Creating DataLoaders\n",
    "\n",
    "### Versions\n",
    "- 01:\n",
    "    - Normalizing the Inputs\n",
    "- 00:\n",
    "    - Initial creation"
   ]
  },
  {
   "cell_type": "markdown",
   "id": "38313aff",
   "metadata": {},
   "source": [
    "## Imports"
   ]
  },
  {
   "cell_type": "code",
   "execution_count": 2,
   "id": "10f3e599",
   "metadata": {},
   "outputs": [],
   "source": [
    "from importlib.metadata import version\n",
    "import pandas as pd\n",
    "import numpy as np\n",
    "import seaborn as sn\n",
    "from pathlib import Path\n",
    "import os\n",
    "import torch\n",
    "from torch.utils.data import Dataset, DataLoader\n",
    "\n",
    "from sklearn.model_selection import train_test_split\n",
    "from sklearn.preprocessing import StandardScaler"
   ]
  },
  {
   "cell_type": "markdown",
   "id": "1bbefac4",
   "metadata": {},
   "source": [
    "## Data Preparation"
   ]
  },
  {
   "cell_type": "code",
   "execution_count": 7,
   "id": "5ba3cf4c",
   "metadata": {},
   "outputs": [],
   "source": [
    "# Login using e.g. `huggingface-cli login` to access this dataset\n",
    "# df = pd.read_csv(\"hf://datasets/MaxPrestige/CA_Weather_Fire_Dataset_Cleaned/Data/CA_Weather_Fire_Dataset_Cleaned.csv\")\n",
    "\n",
    "WEATHER_DATA_ROOT = Path(\"../Data\")\n",
    "WEATHER_PATH_ORIGINAL = WEATHER_DATA_ROOT / \"CA_Weather_Fire_Dataset_1984-2025.csv\"     # Set the data source path\n",
    "WEATHER_DATA_CLEAN=\"CA_Weather_Fire_Dataset_Cleaned.csv\"\n",
    "WEATHER_DATA_CLEAN_PATH = WEATHER_DATA_ROOT / WEATHER_DATA_CLEAN\n",
    "df = pd.read_csv(WEATHER_DATA_CLEAN_PATH, sep=',',header=0)\n"
   ]
  },
  {
   "cell_type": "code",
   "execution_count": 8,
   "id": "e2cd8704",
   "metadata": {},
   "outputs": [
    {
     "data": {
      "text/html": [
       "<div>\n",
       "<style scoped>\n",
       "    .dataframe tbody tr th:only-of-type {\n",
       "        vertical-align: middle;\n",
       "    }\n",
       "\n",
       "    .dataframe tbody tr th {\n",
       "        vertical-align: top;\n",
       "    }\n",
       "\n",
       "    .dataframe thead th {\n",
       "        text-align: right;\n",
       "    }\n",
       "</style>\n",
       "<table border=\"1\" class=\"dataframe\">\n",
       "  <thead>\n",
       "    <tr style=\"text-align: right;\">\n",
       "      <th></th>\n",
       "      <th>DAY_OF_YEAR</th>\n",
       "      <th>PRECIPITATION</th>\n",
       "      <th>LAGGED_PRECIPITATION</th>\n",
       "      <th>AVG_WIND_SPEED</th>\n",
       "      <th>MIN_TEMP</th>\n",
       "      <th>MAX_TEMP</th>\n",
       "    </tr>\n",
       "  </thead>\n",
       "  <tbody>\n",
       "    <tr>\n",
       "      <th>0</th>\n",
       "      <td>1.0</td>\n",
       "      <td>0.0</td>\n",
       "      <td>0.0</td>\n",
       "      <td>4.70</td>\n",
       "      <td>51.0</td>\n",
       "      <td>79.0</td>\n",
       "    </tr>\n",
       "    <tr>\n",
       "      <th>1</th>\n",
       "      <td>2.0</td>\n",
       "      <td>0.0</td>\n",
       "      <td>0.0</td>\n",
       "      <td>5.59</td>\n",
       "      <td>46.0</td>\n",
       "      <td>71.0</td>\n",
       "    </tr>\n",
       "    <tr>\n",
       "      <th>2</th>\n",
       "      <td>3.0</td>\n",
       "      <td>0.0</td>\n",
       "      <td>0.0</td>\n",
       "      <td>5.37</td>\n",
       "      <td>47.0</td>\n",
       "      <td>70.0</td>\n",
       "    </tr>\n",
       "    <tr>\n",
       "      <th>3</th>\n",
       "      <td>4.0</td>\n",
       "      <td>0.0</td>\n",
       "      <td>0.0</td>\n",
       "      <td>4.70</td>\n",
       "      <td>45.0</td>\n",
       "      <td>76.0</td>\n",
       "    </tr>\n",
       "    <tr>\n",
       "      <th>4</th>\n",
       "      <td>5.0</td>\n",
       "      <td>0.0</td>\n",
       "      <td>0.0</td>\n",
       "      <td>5.14</td>\n",
       "      <td>49.0</td>\n",
       "      <td>74.0</td>\n",
       "    </tr>\n",
       "    <tr>\n",
       "      <th>...</th>\n",
       "      <td>...</td>\n",
       "      <td>...</td>\n",
       "      <td>...</td>\n",
       "      <td>...</td>\n",
       "      <td>...</td>\n",
       "      <td>...</td>\n",
       "    </tr>\n",
       "    <tr>\n",
       "      <th>14983</th>\n",
       "      <td>8.0</td>\n",
       "      <td>0.0</td>\n",
       "      <td>0.0</td>\n",
       "      <td>10.51</td>\n",
       "      <td>53.0</td>\n",
       "      <td>73.0</td>\n",
       "    </tr>\n",
       "    <tr>\n",
       "      <th>14984</th>\n",
       "      <td>9.0</td>\n",
       "      <td>0.0</td>\n",
       "      <td>0.0</td>\n",
       "      <td>4.92</td>\n",
       "      <td>46.0</td>\n",
       "      <td>68.0</td>\n",
       "    </tr>\n",
       "    <tr>\n",
       "      <th>14985</th>\n",
       "      <td>10.0</td>\n",
       "      <td>0.0</td>\n",
       "      <td>0.0</td>\n",
       "      <td>3.58</td>\n",
       "      <td>46.0</td>\n",
       "      <td>70.0</td>\n",
       "    </tr>\n",
       "    <tr>\n",
       "      <th>14986</th>\n",
       "      <td>11.0</td>\n",
       "      <td>0.0</td>\n",
       "      <td>0.0</td>\n",
       "      <td>NaN</td>\n",
       "      <td>46.0</td>\n",
       "      <td>66.0</td>\n",
       "    </tr>\n",
       "    <tr>\n",
       "      <th>14987</th>\n",
       "      <td>12.0</td>\n",
       "      <td>0.0</td>\n",
       "      <td>0.0</td>\n",
       "      <td>NaN</td>\n",
       "      <td>46.0</td>\n",
       "      <td>69.0</td>\n",
       "    </tr>\n",
       "  </tbody>\n",
       "</table>\n",
       "<p>14988 rows × 6 columns</p>\n",
       "</div>"
      ],
      "text/plain": [
       "       DAY_OF_YEAR  PRECIPITATION  LAGGED_PRECIPITATION  AVG_WIND_SPEED  \\\n",
       "0              1.0            0.0                   0.0            4.70   \n",
       "1              2.0            0.0                   0.0            5.59   \n",
       "2              3.0            0.0                   0.0            5.37   \n",
       "3              4.0            0.0                   0.0            4.70   \n",
       "4              5.0            0.0                   0.0            5.14   \n",
       "...            ...            ...                   ...             ...   \n",
       "14983          8.0            0.0                   0.0           10.51   \n",
       "14984          9.0            0.0                   0.0            4.92   \n",
       "14985         10.0            0.0                   0.0            3.58   \n",
       "14986         11.0            0.0                   0.0             NaN   \n",
       "14987         12.0            0.0                   0.0             NaN   \n",
       "\n",
       "       MIN_TEMP  MAX_TEMP  \n",
       "0          51.0      79.0  \n",
       "1          46.0      71.0  \n",
       "2          47.0      70.0  \n",
       "3          45.0      76.0  \n",
       "4          49.0      74.0  \n",
       "...         ...       ...  \n",
       "14983      53.0      73.0  \n",
       "14984      46.0      68.0  \n",
       "14985      46.0      70.0  \n",
       "14986      46.0      66.0  \n",
       "14987      46.0      69.0  \n",
       "\n",
       "[14988 rows x 6 columns]"
      ]
     },
     "execution_count": 8,
     "metadata": {},
     "output_type": "execute_result"
    }
   ],
   "source": [
    "df"
   ]
  },
  {
   "cell_type": "code",
   "execution_count": 9,
   "id": "e98f011b",
   "metadata": {},
   "outputs": [],
   "source": [
    "DATA_SPLITS_DIR = WEATHER_DATA_ROOT / \"DataSplits\""
   ]
  },
  {
   "cell_type": "code",
   "execution_count": 10,
   "id": "775b403c",
   "metadata": {},
   "outputs": [],
   "source": [
    "TRAIN_DATA_PATH = DATA_SPLITS_DIR / \"train.csv\"\n",
    "TEST_DATA_PATH = DATA_SPLITS_DIR / \"test.csv\"\n",
    "VALIDATION_DATA_PATH = DATA_SPLITS_DIR / \"val.csv\"\n"
   ]
  },
  {
   "cell_type": "code",
   "execution_count": 11,
   "id": "5a1546db",
   "metadata": {},
   "outputs": [],
   "source": [
    "os.makedirs(DATA_SPLITS_DIR, exist_ok=True)"
   ]
  },
  {
   "cell_type": "code",
   "execution_count": 16,
   "id": "99235ae3",
   "metadata": {},
   "outputs": [],
   "source": [
    "features = [\"DAY_OF_YEAR\", \"PRECIPITATION\", \"LAGGED_PRECIPITATION\", \"AVG_WIND_SPEED\", \"MIN_TEMP\"]\n",
    "target = \"MAX_TEMP\"\n",
    "X = df[features]\n",
    "y = df[target]\n",
    "\n",
    "# split your data before scaling, shuffling the data\n",
    "X_train, X_temp, y_train, y_temp = train_test_split(X, y, test_size=0.2, random_state=42)\n",
    "X_test, X_validation, y_test, y_validation = train_test_split(X_temp, y_temp, test_size=0.5, random_state=42)\n",
    "\n",
    "# Initialize the StandardScaler\n",
    "scaler = StandardScaler()\n",
    "\n",
    "# Fit the scaler on the training data ONLY. Need to use the scaler on all inputs that the model receives.\n",
    "# This means the mean and standard deviation are calculated from the training set.\n",
    "scaler.fit(X_train)\n",
    "\n",
    "# Transform the training, validation, and test data using the fitted scaler\n",
    "X_train_scaled = scaler.transform(X_train)\n",
    "X_test_scaled = scaler.transform(X_test)\n",
    "X_val_scaled = scaler.transform(X_validation)"
   ]
  },
  {
   "cell_type": "code",
   "execution_count": 17,
   "id": "2c5125e6",
   "metadata": {},
   "outputs": [],
   "source": [
    "X_train_df = pd.DataFrame(X_train_scaled, columns=features)\n",
    "X_test_df = pd.DataFrame(X_test_scaled, columns=features)\n",
    "X_val_df = pd.DataFrame(X_val_scaled, columns=features)\n",
    "\n",
    "# Concatenate the features and labels back into a single DataFrame for each set\n",
    "train_data_frame = pd.concat([X_train_df, y_train.reset_index(drop=True)], axis=1)\n",
    "test_data_frame = pd.concat([X_test_df, y_test.reset_index(drop=True)], axis=1)\n",
    "val_data_frame = pd.concat([X_val_df, y_validation.reset_index(drop=True)], axis=1)"
   ]
  },
  {
   "cell_type": "code",
   "execution_count": 18,
   "id": "6e3ba996",
   "metadata": {},
   "outputs": [],
   "source": [
    "train_data_frame.to_csv(TRAIN_DATA_PATH, index=False)\n",
    "test_data_frame.to_csv(TEST_DATA_PATH, index=False)\n",
    "val_data_frame.to_csv(VALIDATION_DATA_PATH, index=False)"
   ]
  },
  {
   "cell_type": "code",
   "execution_count": 19,
   "id": "d4056970",
   "metadata": {},
   "outputs": [
    {
     "name": "stdout",
     "output_type": "stream",
     "text": [
      "length of train: 11990\n",
      "length of test: 1499\n",
      "length of val: 1499\n",
      "Sum: 14988\n"
     ]
    }
   ],
   "source": [
    "print(f\"length of train: {len(train_data_frame)}\")\n",
    "print(f\"length of test: {len(test_data_frame)}\")\n",
    "print(f\"length of val: {len(val_data_frame)}\")\n",
    "print(f\"Sum: {len(train_data_frame) +len(test_data_frame) + len(val_data_frame)}\")\n"
   ]
  },
  {
   "cell_type": "code",
   "execution_count": 20,
   "id": "61cc5f18",
   "metadata": {},
   "outputs": [],
   "source": [
    "class WeatherDataset(Dataset):\n",
    "    \"\"\"Dataset class For the CA Weather Fire Dataset\"\"\"\n",
    "    def __init__(self, csv_file=\"../Data/CA_Weather_Fire_Dataset_Cleaned.csv\"):\n",
    "        try:\n",
    "            self.data = pd.read_csv(csv_file)   # Assign a pandas data frame\n",
    "        except FileNotFoundError:\n",
    "            raise FileNotFoundError(f\"File not found: {csv_file}\")\n",
    "\n",
    "        # Define feature and label columns\n",
    "        self.feature_columns = self.data.columns.drop(\"MAX_TEMP\")\n",
    "        self.label_column = \"MAX_TEMP\"\n",
    "        \n",
    "\n",
    "    def __getitem__(self, index):\n",
    "        features = self.data.loc[index, self.feature_columns].values\n",
    "        \n",
    "        label = self.data.loc[index, self.label_column] # Extract the label for the given index\n",
    "        return (\n",
    "            torch.tensor(features, dtype=torch.float),\n",
    "            torch.tensor(label, dtype=torch.float)\n",
    "        )\n",
    "\n",
    "    def __len__(self):\n",
    "        return len(self.data)"
   ]
  },
  {
   "cell_type": "code",
   "execution_count": 21,
   "id": "1e3ad57a",
   "metadata": {},
   "outputs": [],
   "source": [
    "train_dataset = WeatherDataset(TRAIN_DATA_PATH)\n",
    "test_dataset = WeatherDataset(TEST_DATA_PATH)\n",
    "val_dataset = WeatherDataset(VALIDATION_DATA_PATH)\n"
   ]
  },
  {
   "cell_type": "code",
   "execution_count": 22,
   "id": "1cec293c",
   "metadata": {},
   "outputs": [],
   "source": [
    "batch_size=64\n",
    "num_workers=0\n",
    "pin_memory=True\n",
    "drop_last=True"
   ]
  },
  {
   "cell_type": "code",
   "execution_count": 23,
   "id": "d86fb745",
   "metadata": {},
   "outputs": [],
   "source": [
    "train_dataloader = DataLoader(dataset=train_dataset, batch_size=batch_size, num_workers=num_workers, pin_memory=pin_memory, drop_last=drop_last, shuffle=True)\n",
    "test_dataloader = DataLoader(dataset=test_dataset, batch_size=batch_size, num_workers=num_workers, pin_memory=pin_memory, drop_last=drop_last)\n",
    "val_dataloader = DataLoader(dataset=val_dataset, batch_size=batch_size, num_workers=num_workers, pin_memory=pin_memory, drop_last=drop_last)"
   ]
  }
 ],
 "metadata": {
  "kernelspec": {
   "display_name": "WP_env",
   "language": "python",
   "name": "python3"
  },
  "language_info": {
   "codemirror_mode": {
    "name": "ipython",
    "version": 3
   },
   "file_extension": ".py",
   "mimetype": "text/x-python",
   "name": "python",
   "nbconvert_exporter": "python",
   "pygments_lexer": "ipython3",
   "version": "3.10.18"
  }
 },
 "nbformat": 4,
 "nbformat_minor": 5
}
