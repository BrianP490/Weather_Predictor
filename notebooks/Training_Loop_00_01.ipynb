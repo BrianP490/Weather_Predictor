{
 "cells": [
  {
   "cell_type": "markdown",
   "id": "b1c7208c",
   "metadata": {},
   "source": [
    "# Creating Training Loop"
   ]
  },
  {
   "cell_type": "markdown",
   "id": "a5d4ff82",
   "metadata": {},
   "source": [
    "## VERSIONS\n",
    "- 00_01: \n",
    "    - Diagnosing Exploding Gradients\n",
    "- 00_00: \n",
    "    - Initial Version"
   ]
  },
  {
   "cell_type": "markdown",
   "id": "38313aff",
   "metadata": {},
   "source": [
    "## Imports"
   ]
  },
  {
   "cell_type": "code",
   "execution_count": 23,
   "id": "10f3e599",
   "metadata": {},
   "outputs": [],
   "source": [
    "# from importlib.metadata import version\n",
    "import pandas as pd\n",
    "# import seaborn as sn\n",
    "from pathlib import Path\n",
    "import os\n",
    "import torch\n",
    "from torch.utils.data import Dataset, DataLoader\n",
    "from tqdm import tqdm\n",
    "from torch.nn import Module # For type hinting\n",
    "from sklearn.model_selection import train_test_split\n",
    "from sklearn.preprocessing import StandardScaler\n",
    "import joblib"
   ]
  },
  {
   "cell_type": "markdown",
   "id": "1bbefac4",
   "metadata": {},
   "source": [
    "## Data Preparation"
   ]
  },
  {
   "cell_type": "markdown",
   "id": "20070b14",
   "metadata": {},
   "source": [
    "### Custom Dataset"
   ]
  },
  {
   "cell_type": "code",
   "execution_count": 14,
   "id": "b348b750",
   "metadata": {},
   "outputs": [],
   "source": [
    "class WeatherDataset(Dataset):\n",
    "    \"\"\"Dataset class For the CA Weather Fire Dataset\"\"\"\n",
    "    def __init__(self, csv_file=\"../Data/CA_Weather_Fire_Dataset_Cleaned.csv\"):\n",
    "        try:\n",
    "            self.data = pd.read_csv(csv_file)   # Assign a pandas data frame\n",
    "        except FileNotFoundError:\n",
    "            raise FileNotFoundError(f\"File not found: {csv_file}\")\n",
    "\n",
    "        # Define feature and label columns\n",
    "        self.feature_columns = self.data.columns.drop(\"MAX_TEMP\")\n",
    "        self.label_column = \"MAX_TEMP\"\n",
    "        \n",
    "\n",
    "    def __getitem__(self, index):\n",
    "        features = self.data.loc[index, self.feature_columns].values\n",
    "        \n",
    "        label = self.data.loc[index, self.label_column] # Extract the label for the given index\n",
    "        return (\n",
    "            torch.tensor(features, dtype=torch.float),\n",
    "            torch.tensor(label, dtype=torch.float)\n",
    "        )\n",
    "\n",
    "    def __len__(self):\n",
    "        return len(self.data)"
   ]
  },
  {
   "cell_type": "markdown",
   "id": "a9e2bb08",
   "metadata": {},
   "source": [
    "### Data Pipeline"
   ]
  },
  {
   "cell_type": "code",
   "execution_count": 15,
   "id": "81904364",
   "metadata": {},
   "outputs": [],
   "source": [
    "def data_pipeline(root_data_dir: str= \"../Data\", data_file_path: str=\"CA_Weather_Fire_Dataset_Cleaned.csv\", data_splits_dir: str=\"DataSplits\", batch_size: int=64, num_workers=0, pin_memory: bool=False, drop_last: bool=True) -> tuple[Dataset, Dataset, Dataset, DataLoader, DataLoader, DataLoader, StandardScaler]:\n",
    "    \"\"\"This function prepares the train, test, and validation datasets.\n",
    "    Args:\n",
    "        root_data_dir (str): The root of the Data Directory\n",
    "        data_file_path (str): The name of the original dataset (with .csv file extension).\n",
    "        data_splits_dir (str): Path to the train, test, and validation datasets.\n",
    "        batch_size (int): The dataloader's batch_size.\n",
    "        num_workers (int): The dataloader's number of workers.\n",
    "        pin_memory (bool): The dataloader's pin memory option.\n",
    "        drop_last (bool): The dataloader's drop_last option.\n",
    "\n",
    "    Returns: \n",
    "        train_dataset (Dataset): Dataset Class for the training dataset.\n",
    "        test_dataset (Dataset): Dataset Class for the test dataset.\n",
    "        validation_dataset (Dataset): Dataset Class for the validation dataset.\n",
    "        train_dataloader (DataLoader): The train dataloader.\n",
    "        test_dataloader (DataLoader): The test dataloader.\n",
    "        validation_dataloader (DataLoader): The validation dataloader.\n",
    "        scaler (StandardScaler): The scaler used to scale the features of the model input.\n",
    "        \"\"\"\n",
    "    \n",
    "    if not root_data_dir or not data_file_path or not data_splits_dir:  # Check for empty strings at the beginning\n",
    "        raise ValueError(\"File and directory paths cannot be empty strings.\")\n",
    "    \n",
    "    WEATHER_DATA_DIR = Path(root_data_dir)                  # Set the Data Root Directory\n",
    "\n",
    "    WEATHER_DATA_CLEAN_PATH = WEATHER_DATA_DIR / data_file_path # Set the path to the complete dataset\n",
    "\n",
    "    if WEATHER_DATA_CLEAN_PATH.exists():\n",
    "        print(f\"CSV file detected, reading from {WEATHER_DATA_CLEAN_PATH}\")\n",
    "        df = pd.read_csv(WEATHER_DATA_CLEAN_PATH)\n",
    "    else:\n",
    "        print(f\"Downloading csv file from HuggingFace\")\n",
    "        try:\n",
    "            df = pd.read_csv(\"hf://datasets/MaxPrestige/CA_Weather_Fire_Dataset_Cleaned/Data/CA_Weather_Fire_Dataset_Cleaned.csv\")  # Download and read the data into a pandas dataframe\n",
    "            os.makedirs(WEATHER_DATA_DIR, exist_ok=True)        # Create the Data Root Directory\n",
    "            df.to_csv(WEATHER_DATA_CLEAN_PATH, index=False)     # Save the file, omitting saving the index\n",
    "        except Exception as e:\n",
    "            raise RuntimeError(f\"An unexpected error occurred during data download or saving: {e}\")\n",
    "    \n",
    "    DATA_SPLITS_DIR = WEATHER_DATA_DIR / data_splits_dir\n",
    "    TRAIN_DATA_PATH = DATA_SPLITS_DIR / \"train.csv\"\n",
    "    TEST_DATA_PATH = DATA_SPLITS_DIR / \"test.csv\"\n",
    "    VALIDATION_DATA_PATH = DATA_SPLITS_DIR / \"val.csv\"\n",
    "    SCALER_PATH = DATA_SPLITS_DIR / \"scaler.joblib\"\n",
    "\n",
    "    features = ['DAY_OF_YEAR', 'PRECIPITATION', 'LAGGED_PRECIPITATION', 'AVG_WIND_SPEED', 'MIN_TEMP']\n",
    "    target = 'MAX_TEMP'\n",
    "\n",
    "    if os.path.exists(TRAIN_DATA_PATH) and os.path.exists(TEST_DATA_PATH) and os.path.exists(VALIDATION_DATA_PATH) :\n",
    "        print(f\"Train, Test, and Validation csv datasets detected in '{DATA_SPLITS_DIR}', skipping generation\")\n",
    "        scaler = joblib.load(SCALER_PATH)\n",
    "    else:\n",
    "        print(f\"Datasets not found in '{DATA_SPLITS_DIR}' or incomplete. Generating datasets...\")\n",
    "        os.makedirs(DATA_SPLITS_DIR, exist_ok=True)     # Create the Data Splits Parent Directory\n",
    "\n",
    "        X = df[features]\n",
    "        y = df[target]\n",
    "\n",
    "        # split your data before scaling, shuffling the data\n",
    "        X_train, X_temp, y_train, y_temp = train_test_split(X, y, test_size=0.2, random_state=42)\n",
    "        X_test, X_validation, y_test, y_validation = train_test_split(X_temp, y_temp, test_size=0.5, random_state=42)\n",
    "\n",
    "        # Initialize the StandardScaler\n",
    "        scaler = StandardScaler()\n",
    "\n",
    "        # Fit the scaler on the training data ONLY. Need to use the scaler on all inputs that the model receives.\n",
    "        # This means the mean and standard deviation are calculated from the training set.\n",
    "        scaler.fit(X_train)\n",
    "\n",
    "        # Transform the training, validation, and test data using the fitted scaler\n",
    "        X_train_scaled = scaler.transform(X_train)\n",
    "        X_test_scaled = scaler.transform(X_test)\n",
    "        X_validation_scaled = scaler.transform(X_validation)\n",
    "\n",
    "        # Save the fitted scaler object\n",
    "        joblib.dump(scaler, SCALER_PATH)\n",
    "\n",
    "        X_train_df = pd.DataFrame(X_train_scaled, columns=features)\n",
    "        X_test_df = pd.DataFrame(X_test_scaled, columns=features)\n",
    "        X_validation_df = pd.DataFrame(X_validation_scaled, columns=features)\n",
    "\n",
    "        # Concatenate the features and labels back into a single DataFrame for each set\n",
    "        train_data_frame = pd.concat([X_train_df, y_train.reset_index(drop=True)], axis=1)\n",
    "        test_data_frame = pd.concat([X_test_df, y_test.reset_index(drop=True)], axis=1)\n",
    "        validation_data_frame = pd.concat([X_validation_df, y_validation.reset_index(drop=True)], axis=1)\n",
    "\n",
    "        # Saving the split data to csv files\n",
    "        train_data_frame.to_csv(TRAIN_DATA_PATH, index=False)\n",
    "        test_data_frame.to_csv(TEST_DATA_PATH, index=False)\n",
    "        validation_data_frame.to_csv(VALIDATION_DATA_PATH, index=False)\n",
    "\n",
    "    print(f\"Initializing DataLoaders and Returning\")\n",
    "    # Initialize the Different Datasets\n",
    "    train_dataset = WeatherDataset(TRAIN_DATA_PATH)\n",
    "    test_dataset = WeatherDataset(TEST_DATA_PATH)\n",
    "    validation_dataset = WeatherDataset(VALIDATION_DATA_PATH)\n",
    "    # Initialize the Different DataLoaders using the Datasets\n",
    "    print(f\"Creating DataLoaders with batch_size ({batch_size}), num_workers ({num_workers}), pin_memory ({pin_memory}). Training dataset drop_last: ({drop_last})\")\n",
    "    train_dataloader = DataLoader(dataset=train_dataset, batch_size=batch_size, num_workers=num_workers, pin_memory=pin_memory, drop_last=drop_last, shuffle=True)\n",
    "    test_dataloader = DataLoader(dataset=test_dataset, batch_size=batch_size, num_workers=num_workers, pin_memory=pin_memory, drop_last=drop_last)\n",
    "    validation_dataloader = DataLoader(dataset=validation_dataset, batch_size=batch_size, num_workers=num_workers, pin_memory=pin_memory, drop_last=drop_last)\n",
    "\n",
    "    return (train_dataset, test_dataset, validation_dataset, train_dataloader, test_dataloader, validation_dataloader, scaler)\n",
    "        "
   ]
  },
  {
   "cell_type": "markdown",
   "id": "305fc881",
   "metadata": {},
   "source": [
    "## Agent Architecture"
   ]
  },
  {
   "cell_type": "markdown",
   "id": "982c2145",
   "metadata": {},
   "source": [
    "### Layer Block"
   ]
  },
  {
   "cell_type": "code",
   "execution_count": 16,
   "id": "c03975dc",
   "metadata": {},
   "outputs": [],
   "source": [
    "class LayerBlock(torch.nn.Module):\n",
    "    \"\"\"Class for the individual layer blocks.\"\"\"\n",
    "    def __init__(self, intermediate_dim=32):\n",
    "        super().__init__()\n",
    "        self.Layer1 = torch.nn.Linear(in_features=intermediate_dim, out_features=intermediate_dim)\n",
    "        self.ReLu = torch.nn.ReLU()\n",
    "\n",
    "    def forward(self, x):\n",
    "        x = self.Layer1(x)\n",
    "        x = self.ReLu(x)\n",
    "        return x"
   ]
  },
  {
   "cell_type": "markdown",
   "id": "48d1f835",
   "metadata": {},
   "source": [
    "### Weather Agent"
   ]
  },
  {
   "cell_type": "code",
   "execution_count": 17,
   "id": "c24ad4b0",
   "metadata": {},
   "outputs": [],
   "source": [
    "class WeatherAgent(torch.nn.Module):\n",
    "    \"\"\"Class for Agent Structure using multiple Layer Blocks.\"\"\"\n",
    "    def __init__(self, cfg):\n",
    "        super().__init__()\n",
    "        self.L1 = torch.nn.Linear(in_features=cfg[\"in_dim\"], out_features=cfg[\"intermediate_dim\"])\n",
    "        \n",
    "        self.Layers = torch.nn.Sequential(\n",
    "            *[LayerBlock(cfg[\"intermediate_dim\"]) for _ in range(cfg[\"num_blocks\"])]\n",
    "        )\n",
    "        self.out = torch.nn.Linear(in_features=cfg[\"intermediate_dim\"], out_features=cfg[\"out_dim\"])\n",
    "\n",
    "    def forward(self, x):\n",
    "        x = self.L1(x)\n",
    "        x = self.Layers(x)\n",
    "        x = self.out(x)\n",
    "        return x"
   ]
  },
  {
   "cell_type": "markdown",
   "id": "c3b962ab",
   "metadata": {},
   "source": [
    "## Main"
   ]
  },
  {
   "cell_type": "markdown",
   "id": "34bdd5d1",
   "metadata": {},
   "source": [
    "### Log Iteration Functions"
   ]
  },
  {
   "cell_type": "code",
   "execution_count": 18,
   "id": "c99dfaeb",
   "metadata": {},
   "outputs": [],
   "source": [
    "def log_iteration(batch_idx: int, total_batches: int, loss_value: float):\n",
    "    \"\"\"Logs the loss of the current batch.\"\"\"\n",
    "    print(f\"Epoch batch [{batch_idx}/{total_batches}] | Loss: {loss_value:.7f}\")"
   ]
  },
  {
   "cell_type": "code",
   "execution_count": 19,
   "id": "dda76fc2",
   "metadata": {},
   "outputs": [],
   "source": [
    "def log_epoch_iteration(epoch: int, avg_epoch_loss: float):\n",
    "    \"\"\"Log Current Metrics accumulated in the current epoch iteration.\n",
    "    Args:\n",
    "        epoch (int): the current iteration\n",
    "        avg_epoch_loss (float): The average loss of the current epoch\n",
    "    Returns:\n",
    "        N/A\n",
    "        \"\"\"\n",
    "    if avg_epoch_loss:\n",
    "        print(f\"=====================  [EPOCH ({epoch}) LOGGING]  =====================\")\n",
    "        print(\"| AVERAGES of THIS EPOCH:\")\n",
    "        print(f\"| ACCUMULATED LOSS: {avg_epoch_loss:.7f}\")\n",
    "        print(f\"===========================================================\")\n",
    "    \n",
    "    else:\n",
    "        print(\"No Data collected for this epoch to log\")"
   ]
  },
  {
   "cell_type": "markdown",
   "id": "f752b4c1",
   "metadata": {},
   "source": [
    "### Evaluate Model Function"
   ]
  },
  {
   "cell_type": "code",
   "execution_count": 20,
   "id": "41ec95e5",
   "metadata": {},
   "outputs": [],
   "source": [
    "def evaluate_model(model: Module, dataloader: DataLoader, current_epoch: int = None, max_epochs: int=None, device: str = 'cpu') -> float:\n",
    "    \"\"\"\n",
    "    Evaluates the model on a given dataset and returns the average loss.\n",
    "    Args:\n",
    "        model (Module): The Model.\n",
    "        dataloader (DataLoader): The dataloader to calculate average loss with.\n",
    "        current_epoch (int): The current epoch [optional].\n",
    "        max_epochs (int): The maximum number of epochs [optional].\n",
    "        device (str): The device that the calculations will take place on.\n",
    "    Returns:\n",
    "        avg_loss (float): The calculated average loss.\n",
    "    \"\"\"\n",
    "    model.eval()\n",
    "    total_loss = 0.0\n",
    "    loss_fn = torch.nn.MSELoss(reduction='sum') # Use reduction='sum' instead of 'mean' for total loss\n",
    "\n",
    "    if len(dataloader.dataset) == 0:\n",
    "        print(\"Warning: Evaluation dataset is empty. Skipping evaluation.\")\n",
    "        return float('nan')\n",
    "    \n",
    "    with torch.no_grad():\n",
    "        for batch_inputs, batch_labels in dataloader:\n",
    "            batch_inputs, batch_labels = batch_inputs.to(device), batch_labels.unsqueeze(dim=-1).to(device)\n",
    "            outputs = model(batch_inputs)\n",
    "            loss = loss_fn(outputs, batch_labels)\n",
    "            total_loss += loss.item()\n",
    "    \n",
    "    avg_loss = total_loss / len(dataloader.dataset)     # Calculate the average loss on the dataset\n",
    "\n",
    "    if current_epoch and max_epochs:   # If the function was called in the training loop\n",
    "        print(f\"===================  [Epoch ({current_epoch}/{max_epochs})]  ===================\")\n",
    "        print(f\"Entire Validation Dataset Average Loss: {avg_loss:.4f}\")\n",
    "        print(f\"====================================================\")\n",
    "\n",
    "    else:   # If the function was called outside of the training loop\n",
    "        print(f\"===============================================\")\n",
    "        print(f\"Entire Dataset Average Loss: {avg_loss:.4f} \")\n",
    "        print(f\"=====================================================\")\n",
    "            \n",
    "    return avg_loss"
   ]
  },
  {
   "cell_type": "markdown",
   "id": "af6255bf",
   "metadata": {},
   "source": [
    "### Train Model Function"
   ]
  },
  {
   "cell_type": "code",
   "execution_count": 60,
   "id": "2d4a2657",
   "metadata": {},
   "outputs": [],
   "source": [
    "def train_model(model_config: dict, train_dataloader: DataLoader, validation_dataloader: DataLoader, model: Module = None, epochs=32, learning_rate=0.0003, max_grad_norm=0.5, log_iterations=10, eval_iterations=10, device=\"cpu\") -> Module:\n",
    "    \"\"\"The Model Training function.\n",
    "\n",
    "    Args:\n",
    "        model_config (dict): The base configurations for building the policies.\n",
    "        train_dataloader (DataLoader): The dataloader for the training loop.\n",
    "        validation_dataloader (DataLoader): The dataloader for the validation loop.\n",
    "        model (WeatherAgent): The model to be trained.\n",
    "        epochs (int): The number of times the outer loop is performed.\n",
    "        learning_rate (float): The hyperparameter that affects how much the model's parameters learn on each update iteration.\n",
    "        max_grad_norm (float): Used to promote numerical stability and prevent exploding gradients.\n",
    "        log_iterations (int): Used to log information about the state of the Agent.\n",
    "        eval_iterations (int): Used to run an evaluation of the Agent.\n",
    "        device (str): The device that the model will be trained on.\n",
    "\n",
    "    Returns: \n",
    "        agent (Module): The Trained Model in evaluation mode.\n",
    "    \"\"\"\n",
    "    print(f\"Training Model on {device} with {epochs} main epochs, {learning_rate} learning rate, max_grad_norm={max_grad_norm}.\")\n",
    "    print(f\"Logging every {log_iterations} epoch iterations, evaluating every {eval_iterations} epoch iterations.\")\n",
    "\n",
    "    agent = (model if model is not None else WeatherAgent(model_config)).to(device) # Create agent if nothing was passed, otherwise, create the agent. Send agent to device.\n",
    "\n",
    "    optimizer = torch.optim.Adam(params=agent.parameters(), lr=learning_rate)   # Define the model optimization algorithm\n",
    "    loss_fn = torch.nn.MSELoss(reduction='mean')       # Define the Loss function\n",
    "\n",
    "    agent.train()   # Set agent to training mode\n",
    "    history = {'train_loss': [], 'val_loss': []}\n",
    "\n",
    "    train_dataloader_length= len(train_dataloader)\n",
    "    for epoch in tqdm(range(epochs), desc=f\">>>>>>>>>>>>>>>>>>>>>\\nMain Epoch (Outer Loop)\", leave=True):\n",
    "\n",
    "        epoch_loss_total = 0.0\n",
    "        for batch_idx, (inputs, labels) in enumerate(tqdm(train_dataloader, desc=f\"Epoch {epoch + 1}/{epochs} - Training\", leave=False)):           # Get a mini-batch of training examples from the dataloader\n",
    "            # optimizer.zero_grad(set_to_none=True)       # Clear the gradients built up; Setting to None to improve performance\n",
    "            optimizer.zero_grad()       # Clear the gradients built up; Setting to None to improve performance\n",
    "\n",
    "            inputs, labels = inputs.to(device), labels.unsqueeze(dim=-1).to(device)   # Move the inputs and labels to the device\n",
    "\n",
    "            agent_outputs = agent(inputs)       # Pass the inputs to the model and get the outputs.\n",
    "\n",
    "            # print(f\"Model Outputs:\")\n",
    "            # print(f\"{agent_outputs.squeeze()}\")\n",
    "\n",
    "            # print(f\"labels:\")\n",
    "            # print(f\"{labels.squeeze()}\")\n",
    "\n",
    "            loss = loss_fn(agent_outputs, labels)      # Calculate the mini-batch loss\n",
    "            # print(f\"Current Loss {loss.item()}\")\n",
    "            epoch_loss_total += loss.item()\n",
    "            \n",
    "            loss.backward()         # Calculate the loss with respect to the model parameters\n",
    "            torch.nn.utils.clip_grad_norm_(parameters=agent.parameters(), max_norm=max_grad_norm)   # Prevent the gradients from affecting the model parameters too much and reduce the risk of exploding gradients\n",
    "\n",
    "            # --- ADD GRADIENT MONITORING HERE ---\n",
    "            # total_norm = 0\n",
    "            # for p in agent.parameters():\n",
    "            #     if p.grad is not None:\n",
    "            #         param_norm = p.grad.data.norm(2)\n",
    "            #         total_norm += param_norm.item() ** 2\n",
    "            # total_norm = total_norm ** 0.5\n",
    "            # print(f\"Total Gradient Norm: {total_norm}\")\n",
    "            # ------------------------------------\n",
    "            optimizer.step()      # Update the model's parameters using the learning rate\n",
    "\n",
    "            # LOGGING LOSS OF CURRENT ITERATION\n",
    "            if (batch_idx + 1) % log_iterations == 0:\n",
    "                log_iteration(batch_idx=(batch_idx + 1), total_batches=train_dataloader_length, loss_value=loss.item())\n",
    "\n",
    "        # CALCULATE AND STORE THE AVERAGE EPOCH LOSS\n",
    "        epoch_avg_loss = epoch_loss_total / train_dataloader_length\n",
    "        history[\"train_loss\"].append(epoch_avg_loss)\n",
    "\n",
    "        # LOG THE AVERAGE LOSS OF THE EPOCH\n",
    "        log_epoch_iteration(epoch=epoch, avg_epoch_loss=epoch_avg_loss)\n",
    "\n",
    "        # EVALUATE THE MODEL\n",
    "        if (epoch + 1) % eval_iterations == 0:\n",
    "            val_loss = evaluate_model(model=agent, dataloader=validation_dataloader, current_epoch=(epoch + 1), max_epochs=epochs, device=device)\n",
    "            history[\"val_loss\"].append(val_loss)\n",
    "        \n",
    "    return agent.eval(), history"
   ]
  },
  {
   "cell_type": "markdown",
   "id": "975373bb",
   "metadata": {},
   "source": [
    "### Testing"
   ]
  },
  {
   "cell_type": "code",
   "execution_count": 60,
   "id": "e79b707f",
   "metadata": {},
   "outputs": [],
   "source": [
    "model_config={\n",
    "    \"in_dim\": 12,\n",
    "    \"intermediate_dim\": 32,\n",
    "    \"out_dim\": 1,\n",
    "    \"num_blocks\": 2\n",
    "}"
   ]
  },
  {
   "cell_type": "code",
   "execution_count": 48,
   "id": "6ea27aee",
   "metadata": {},
   "outputs": [],
   "source": [
    "agent = WeatherAgent(model_config)"
   ]
  },
  {
   "cell_type": "code",
   "execution_count": 49,
   "id": "7c6073e4",
   "metadata": {},
   "outputs": [
    {
     "data": {
      "text/plain": [
       "WeatherAgent(\n",
       "  (L1): Linear(in_features=12, out_features=32, bias=True)\n",
       "  (Layers): Sequential(\n",
       "    (0): LayerBlock(\n",
       "      (Layer1): Linear(in_features=32, out_features=32, bias=True)\n",
       "      (ReLu): ReLU()\n",
       "      (Layer_Norm1): LayerNorm((32,), eps=1e-05, elementwise_affine=True)\n",
       "    )\n",
       "    (1): LayerBlock(\n",
       "      (Layer1): Linear(in_features=32, out_features=32, bias=True)\n",
       "      (ReLu): ReLU()\n",
       "      (Layer_Norm1): LayerNorm((32,), eps=1e-05, elementwise_affine=True)\n",
       "    )\n",
       "  )\n",
       "  (out): Linear(in_features=32, out_features=1, bias=True)\n",
       ")"
      ]
     },
     "execution_count": 49,
     "metadata": {},
     "output_type": "execute_result"
    }
   ],
   "source": [
    "agent"
   ]
  },
  {
   "cell_type": "code",
   "execution_count": 50,
   "id": "d855a708",
   "metadata": {},
   "outputs": [],
   "source": [
    "input=torch.rand(size=(2,12))"
   ]
  },
  {
   "cell_type": "code",
   "execution_count": 51,
   "id": "b00a541f",
   "metadata": {},
   "outputs": [],
   "source": [
    "output = agent(input)"
   ]
  },
  {
   "cell_type": "code",
   "execution_count": 52,
   "id": "0d877dc2",
   "metadata": {},
   "outputs": [
    {
     "data": {
      "text/plain": [
       "tensor([[-0.8667],\n",
       "        [-0.7486]], grad_fn=<AddmmBackward0>)"
      ]
     },
     "execution_count": 52,
     "metadata": {},
     "output_type": "execute_result"
    }
   ],
   "source": [
    "output"
   ]
  },
  {
   "cell_type": "markdown",
   "id": "8551e5a3",
   "metadata": {},
   "source": [
    "## Main"
   ]
  },
  {
   "cell_type": "code",
   "execution_count": 62,
   "id": "596f6e52",
   "metadata": {},
   "outputs": [
    {
     "name": "stdout",
     "output_type": "stream",
     "text": [
      "CSV file detected, reading from ..\\Data\\CA_Weather_Fire_Dataset_Cleaned.csv\n",
      "Train, Test, and Validation csv datasets detected in '..\\Data\\DataSplits', skipping generation\n",
      "Initializing DataLoaders and Returning\n",
      "Creating DataLoaders with batch_size (128), num_workers (0), pin_memory (False). Training dataset drop_last: (True)\n"
     ]
    }
   ],
   "source": [
    "try:\n",
    "    (train_dataset, test_dataset, validation_dataset, train_dataloader, test_dataloader, validation_dataloader, scaler) = data_pipeline(batch_size=128)\n",
    "except ValueError as e:\n",
    "    print(f\"Caught an error: {e}\")"
   ]
  },
  {
   "cell_type": "code",
   "execution_count": 46,
   "id": "6da3f1c8",
   "metadata": {},
   "outputs": [],
   "source": [
    "model_config={\n",
    "    \"in_dim\": 5,\n",
    "    \"intermediate_dim\": 32,\n",
    "    \"out_dim\": 1,\n",
    "    \"num_blocks\": 1\n",
    "}"
   ]
  },
  {
   "cell_type": "code",
   "execution_count": 63,
   "id": "5037cf63",
   "metadata": {},
   "outputs": [
    {
     "name": "stdout",
     "output_type": "stream",
     "text": [
      "Training Model on cpu with 128 main epochs, 0.001 learning rate, max_grad_norm=1.0.\n",
      "Logging every 32 epoch iterations, evaluating every 8 epoch iterations.\n"
     ]
    },
    {
     "name": "stderr",
     "output_type": "stream",
     "text": [
      ">>>>>>>>>>>>>>>>>>>>>\n",
      "Main Epoch (Outer Loop):   0%|          | 0/128 [00:00<?, ?it/s]"
     ]
    },
    {
     "name": "stdout",
     "output_type": "stream",
     "text": [
      "Epoch batch [32/93] | Loss: 4946.0332031\n"
     ]
    },
    {
     "name": "stderr",
     "output_type": "stream",
     "text": []
    },
    {
     "name": "stdout",
     "output_type": "stream",
     "text": [
      "Epoch batch [64/93] | Loss: 4888.4438477\n"
     ]
    },
    {
     "name": "stderr",
     "output_type": "stream",
     "text": [
      ">>>>>>>>>>>>>>>>>>>>>\n",
      "Main Epoch (Outer Loop):   1%|          | 1/128 [00:01<02:35,  1.23s/it]"
     ]
    },
    {
     "name": "stdout",
     "output_type": "stream",
     "text": [
      "=====================  [EPOCH (0) LOGGING]  =====================\n",
      "| AVERAGES of THIS EPOCH:\n",
      "| ACCUMULATED LOSS: 4857.9211295\n",
      "===========================================================\n"
     ]
    },
    {
     "name": "stderr",
     "output_type": "stream",
     "text": []
    },
    {
     "name": "stdout",
     "output_type": "stream",
     "text": [
      "Epoch batch [32/93] | Loss: 4316.2255859\n"
     ]
    },
    {
     "name": "stderr",
     "output_type": "stream",
     "text": []
    },
    {
     "name": "stdout",
     "output_type": "stream",
     "text": [
      "Epoch batch [64/93] | Loss: 4094.7812500\n"
     ]
    },
    {
     "name": "stderr",
     "output_type": "stream",
     "text": [
      ">>>>>>>>>>>>>>>>>>>>>\n",
      "Main Epoch (Outer Loop):   2%|▏         | 2/128 [00:02<02:32,  1.21s/it]"
     ]
    },
    {
     "name": "stdout",
     "output_type": "stream",
     "text": [
      "=====================  [EPOCH (1) LOGGING]  =====================\n",
      "| AVERAGES of THIS EPOCH:\n",
      "| ACCUMULATED LOSS: 4187.8013535\n",
      "===========================================================\n"
     ]
    },
    {
     "name": "stderr",
     "output_type": "stream",
     "text": []
    },
    {
     "name": "stdout",
     "output_type": "stream",
     "text": [
      "Epoch batch [32/93] | Loss: 3164.9550781\n"
     ]
    },
    {
     "name": "stderr",
     "output_type": "stream",
     "text": []
    },
    {
     "name": "stdout",
     "output_type": "stream",
     "text": [
      "Epoch batch [64/93] | Loss: 2349.4194336\n"
     ]
    },
    {
     "name": "stderr",
     "output_type": "stream",
     "text": [
      ">>>>>>>>>>>>>>>>>>>>>\n",
      "Main Epoch (Outer Loop):   2%|▏         | 3/128 [00:03<02:33,  1.23s/it]"
     ]
    },
    {
     "name": "stdout",
     "output_type": "stream",
     "text": [
      "=====================  [EPOCH (2) LOGGING]  =====================\n",
      "| AVERAGES of THIS EPOCH:\n",
      "| ACCUMULATED LOSS: 2776.9676317\n",
      "===========================================================\n"
     ]
    },
    {
     "name": "stderr",
     "output_type": "stream",
     "text": []
    },
    {
     "name": "stdout",
     "output_type": "stream",
     "text": [
      "Epoch batch [32/93] | Loss: 1260.6616211\n"
     ]
    },
    {
     "name": "stderr",
     "output_type": "stream",
     "text": []
    },
    {
     "name": "stdout",
     "output_type": "stream",
     "text": [
      "Epoch batch [64/93] | Loss: 818.2269287\n"
     ]
    },
    {
     "name": "stderr",
     "output_type": "stream",
     "text": [
      ">>>>>>>>>>>>>>>>>>>>>\n",
      "Main Epoch (Outer Loop):   3%|▎         | 4/128 [00:04<02:32,  1.23s/it]"
     ]
    },
    {
     "name": "stdout",
     "output_type": "stream",
     "text": [
      "=====================  [EPOCH (3) LOGGING]  =====================\n",
      "| AVERAGES of THIS EPOCH:\n",
      "| ACCUMULATED LOSS: 1142.6758213\n",
      "===========================================================\n"
     ]
    },
    {
     "name": "stderr",
     "output_type": "stream",
     "text": []
    },
    {
     "name": "stdout",
     "output_type": "stream",
     "text": [
      "Epoch batch [32/93] | Loss: 239.4352417\n"
     ]
    },
    {
     "name": "stderr",
     "output_type": "stream",
     "text": []
    },
    {
     "name": "stdout",
     "output_type": "stream",
     "text": [
      "Epoch batch [64/93] | Loss: 47.5451279\n"
     ]
    },
    {
     "name": "stderr",
     "output_type": "stream",
     "text": [
      ">>>>>>>>>>>>>>>>>>>>>\n",
      "Main Epoch (Outer Loop):   4%|▍         | 5/128 [00:06<02:32,  1.24s/it]"
     ]
    },
    {
     "name": "stdout",
     "output_type": "stream",
     "text": [
      "=====================  [EPOCH (4) LOGGING]  =====================\n",
      "| AVERAGES of THIS EPOCH:\n",
      "| ACCUMULATED LOSS: 178.8793035\n",
      "===========================================================\n"
     ]
    },
    {
     "name": "stderr",
     "output_type": "stream",
     "text": []
    },
    {
     "name": "stdout",
     "output_type": "stream",
     "text": [
      "Epoch batch [32/93] | Loss: 55.9343872\n"
     ]
    },
    {
     "name": "stderr",
     "output_type": "stream",
     "text": []
    },
    {
     "name": "stdout",
     "output_type": "stream",
     "text": [
      "Epoch batch [64/93] | Loss: 96.3313217\n"
     ]
    },
    {
     "name": "stderr",
     "output_type": "stream",
     "text": [
      ">>>>>>>>>>>>>>>>>>>>>\n",
      "Main Epoch (Outer Loop):   5%|▍         | 6/128 [00:07<02:30,  1.24s/it]"
     ]
    },
    {
     "name": "stdout",
     "output_type": "stream",
     "text": [
      "=====================  [EPOCH (5) LOGGING]  =====================\n",
      "| AVERAGES of THIS EPOCH:\n",
      "| ACCUMULATED LOSS: 43.7600843\n",
      "===========================================================\n"
     ]
    },
    {
     "name": "stderr",
     "output_type": "stream",
     "text": []
    },
    {
     "name": "stdout",
     "output_type": "stream",
     "text": [
      "Epoch batch [32/93] | Loss: 33.0485840\n"
     ]
    },
    {
     "name": "stderr",
     "output_type": "stream",
     "text": []
    },
    {
     "name": "stdout",
     "output_type": "stream",
     "text": [
      "Epoch batch [64/93] | Loss: 29.3777771\n"
     ]
    },
    {
     "name": "stderr",
     "output_type": "stream",
     "text": [
      ">>>>>>>>>>>>>>>>>>>>>\n",
      "Main Epoch (Outer Loop):   5%|▌         | 7/128 [00:08<02:29,  1.23s/it]"
     ]
    },
    {
     "name": "stdout",
     "output_type": "stream",
     "text": [
      "=====================  [EPOCH (6) LOGGING]  =====================\n",
      "| AVERAGES of THIS EPOCH:\n",
      "| ACCUMULATED LOSS: 30.1769018\n",
      "===========================================================\n"
     ]
    },
    {
     "name": "stderr",
     "output_type": "stream",
     "text": []
    },
    {
     "name": "stdout",
     "output_type": "stream",
     "text": [
      "Epoch batch [32/93] | Loss: 27.5671978\n"
     ]
    },
    {
     "name": "stderr",
     "output_type": "stream",
     "text": []
    },
    {
     "name": "stdout",
     "output_type": "stream",
     "text": [
      "Epoch batch [64/93] | Loss: 31.3764534\n"
     ]
    },
    {
     "name": "stderr",
     "output_type": "stream",
     "text": [
      ">>>>>>>>>>>>>>>>>>>>>\n",
      "Main Epoch (Outer Loop):   6%|▋         | 8/128 [00:10<02:34,  1.29s/it]"
     ]
    },
    {
     "name": "stdout",
     "output_type": "stream",
     "text": [
      "=====================  [EPOCH (7) LOGGING]  =====================\n",
      "| AVERAGES of THIS EPOCH:\n",
      "| ACCUMULATED LOSS: 27.2942171\n",
      "===========================================================\n",
      "===================  [Epoch (8/128)]  ===================\n",
      "Entire Validation Dataset Average Loss: 24.9540\n",
      "====================================================\n"
     ]
    },
    {
     "name": "stderr",
     "output_type": "stream",
     "text": []
    },
    {
     "name": "stdout",
     "output_type": "stream",
     "text": [
      "Epoch batch [32/93] | Loss: 19.2429142\n"
     ]
    },
    {
     "name": "stderr",
     "output_type": "stream",
     "text": []
    },
    {
     "name": "stdout",
     "output_type": "stream",
     "text": [
      "Epoch batch [64/93] | Loss: 20.3501644\n"
     ]
    },
    {
     "name": "stderr",
     "output_type": "stream",
     "text": [
      ">>>>>>>>>>>>>>>>>>>>>\n",
      "Main Epoch (Outer Loop):   7%|▋         | 9/128 [00:11<02:31,  1.27s/it]"
     ]
    },
    {
     "name": "stdout",
     "output_type": "stream",
     "text": [
      "=====================  [EPOCH (8) LOGGING]  =====================\n",
      "| AVERAGES of THIS EPOCH:\n",
      "| ACCUMULATED LOSS: 26.7338566\n",
      "===========================================================\n"
     ]
    },
    {
     "name": "stderr",
     "output_type": "stream",
     "text": []
    },
    {
     "name": "stdout",
     "output_type": "stream",
     "text": [
      "Epoch batch [32/93] | Loss: 22.4477692\n"
     ]
    },
    {
     "name": "stderr",
     "output_type": "stream",
     "text": []
    },
    {
     "name": "stdout",
     "output_type": "stream",
     "text": [
      "Epoch batch [64/93] | Loss: 27.0698719\n"
     ]
    },
    {
     "name": "stderr",
     "output_type": "stream",
     "text": [
      ">>>>>>>>>>>>>>>>>>>>>\n",
      "Main Epoch (Outer Loop):   8%|▊         | 10/128 [00:12<02:29,  1.27s/it]"
     ]
    },
    {
     "name": "stdout",
     "output_type": "stream",
     "text": [
      "=====================  [EPOCH (9) LOGGING]  =====================\n",
      "| AVERAGES of THIS EPOCH:\n",
      "| ACCUMULATED LOSS: 26.3810931\n",
      "===========================================================\n"
     ]
    },
    {
     "name": "stderr",
     "output_type": "stream",
     "text": []
    },
    {
     "name": "stdout",
     "output_type": "stream",
     "text": [
      "Epoch batch [32/93] | Loss: 28.4738007\n"
     ]
    },
    {
     "name": "stderr",
     "output_type": "stream",
     "text": []
    },
    {
     "name": "stdout",
     "output_type": "stream",
     "text": [
      "Epoch batch [64/93] | Loss: 30.8341160\n"
     ]
    },
    {
     "name": "stderr",
     "output_type": "stream",
     "text": [
      ">>>>>>>>>>>>>>>>>>>>>\n",
      "Main Epoch (Outer Loop):   9%|▊         | 11/128 [00:13<02:25,  1.25s/it]"
     ]
    },
    {
     "name": "stdout",
     "output_type": "stream",
     "text": [
      "=====================  [EPOCH (10) LOGGING]  =====================\n",
      "| AVERAGES of THIS EPOCH:\n",
      "| ACCUMULATED LOSS: 26.1231634\n",
      "===========================================================\n"
     ]
    },
    {
     "name": "stderr",
     "output_type": "stream",
     "text": []
    },
    {
     "name": "stdout",
     "output_type": "stream",
     "text": [
      "Epoch batch [32/93] | Loss: 28.5389786\n"
     ]
    },
    {
     "name": "stderr",
     "output_type": "stream",
     "text": []
    },
    {
     "name": "stdout",
     "output_type": "stream",
     "text": [
      "Epoch batch [64/93] | Loss: 30.1054306\n"
     ]
    },
    {
     "name": "stderr",
     "output_type": "stream",
     "text": [
      ">>>>>>>>>>>>>>>>>>>>>\n",
      "Main Epoch (Outer Loop):   9%|▉         | 12/128 [00:14<02:24,  1.25s/it]"
     ]
    },
    {
     "name": "stdout",
     "output_type": "stream",
     "text": [
      "=====================  [EPOCH (11) LOGGING]  =====================\n",
      "| AVERAGES of THIS EPOCH:\n",
      "| ACCUMULATED LOSS: 25.9967004\n",
      "===========================================================\n"
     ]
    },
    {
     "name": "stderr",
     "output_type": "stream",
     "text": []
    },
    {
     "name": "stdout",
     "output_type": "stream",
     "text": [
      "Epoch batch [32/93] | Loss: 25.8754272\n"
     ]
    },
    {
     "name": "stderr",
     "output_type": "stream",
     "text": []
    },
    {
     "name": "stdout",
     "output_type": "stream",
     "text": [
      "Epoch batch [64/93] | Loss: 19.7078571\n"
     ]
    },
    {
     "name": "stderr",
     "output_type": "stream",
     "text": [
      ">>>>>>>>>>>>>>>>>>>>>\n",
      "Main Epoch (Outer Loop):  10%|█         | 13/128 [00:16<02:22,  1.24s/it]"
     ]
    },
    {
     "name": "stdout",
     "output_type": "stream",
     "text": [
      "=====================  [EPOCH (12) LOGGING]  =====================\n",
      "| AVERAGES of THIS EPOCH:\n",
      "| ACCUMULATED LOSS: 25.9472572\n",
      "===========================================================\n"
     ]
    },
    {
     "name": "stderr",
     "output_type": "stream",
     "text": []
    },
    {
     "name": "stdout",
     "output_type": "stream",
     "text": [
      "Epoch batch [32/93] | Loss: 22.0306435\n"
     ]
    },
    {
     "name": "stderr",
     "output_type": "stream",
     "text": []
    },
    {
     "name": "stdout",
     "output_type": "stream",
     "text": [
      "Epoch batch [64/93] | Loss: 27.4283733\n"
     ]
    },
    {
     "name": "stderr",
     "output_type": "stream",
     "text": [
      ">>>>>>>>>>>>>>>>>>>>>\n",
      "Main Epoch (Outer Loop):  11%|█         | 14/128 [00:17<02:22,  1.25s/it]"
     ]
    },
    {
     "name": "stdout",
     "output_type": "stream",
     "text": [
      "=====================  [EPOCH (13) LOGGING]  =====================\n",
      "| AVERAGES of THIS EPOCH:\n",
      "| ACCUMULATED LOSS: 25.8537560\n",
      "===========================================================\n"
     ]
    },
    {
     "name": "stderr",
     "output_type": "stream",
     "text": []
    },
    {
     "name": "stdout",
     "output_type": "stream",
     "text": [
      "Epoch batch [32/93] | Loss: 23.9394760\n"
     ]
    },
    {
     "name": "stderr",
     "output_type": "stream",
     "text": []
    },
    {
     "name": "stdout",
     "output_type": "stream",
     "text": [
      "Epoch batch [64/93] | Loss: 23.3594990\n"
     ]
    },
    {
     "name": "stderr",
     "output_type": "stream",
     "text": [
      ">>>>>>>>>>>>>>>>>>>>>\n",
      "Main Epoch (Outer Loop):  12%|█▏        | 15/128 [00:18<02:20,  1.25s/it]"
     ]
    },
    {
     "name": "stdout",
     "output_type": "stream",
     "text": [
      "=====================  [EPOCH (14) LOGGING]  =====================\n",
      "| AVERAGES of THIS EPOCH:\n",
      "| ACCUMULATED LOSS: 25.8289126\n",
      "===========================================================\n"
     ]
    },
    {
     "name": "stderr",
     "output_type": "stream",
     "text": []
    },
    {
     "name": "stdout",
     "output_type": "stream",
     "text": [
      "Epoch batch [32/93] | Loss: 25.2648411\n"
     ]
    },
    {
     "name": "stderr",
     "output_type": "stream",
     "text": []
    },
    {
     "name": "stdout",
     "output_type": "stream",
     "text": [
      "Epoch batch [64/93] | Loss: 27.7348595\n"
     ]
    },
    {
     "name": "stderr",
     "output_type": "stream",
     "text": [
      ">>>>>>>>>>>>>>>>>>>>>\n",
      "Main Epoch (Outer Loop):  12%|█▎        | 16/128 [00:20<02:23,  1.28s/it]"
     ]
    },
    {
     "name": "stdout",
     "output_type": "stream",
     "text": [
      "=====================  [EPOCH (15) LOGGING]  =====================\n",
      "| AVERAGES of THIS EPOCH:\n",
      "| ACCUMULATED LOSS: 25.9407900\n",
      "===========================================================\n",
      "===================  [Epoch (16/128)]  ===================\n",
      "Entire Validation Dataset Average Loss: 23.8235\n",
      "====================================================\n"
     ]
    },
    {
     "name": "stderr",
     "output_type": "stream",
     "text": []
    },
    {
     "name": "stdout",
     "output_type": "stream",
     "text": [
      "Epoch batch [32/93] | Loss: 27.8352222\n"
     ]
    },
    {
     "name": "stderr",
     "output_type": "stream",
     "text": []
    },
    {
     "name": "stdout",
     "output_type": "stream",
     "text": [
      "Epoch batch [64/93] | Loss: 24.3719501\n"
     ]
    },
    {
     "name": "stderr",
     "output_type": "stream",
     "text": [
      ">>>>>>>>>>>>>>>>>>>>>\n",
      "Main Epoch (Outer Loop):  13%|█▎        | 17/128 [00:21<02:20,  1.26s/it]"
     ]
    },
    {
     "name": "stdout",
     "output_type": "stream",
     "text": [
      "=====================  [EPOCH (16) LOGGING]  =====================\n",
      "| AVERAGES of THIS EPOCH:\n",
      "| ACCUMULATED LOSS: 25.9508305\n",
      "===========================================================\n"
     ]
    },
    {
     "name": "stderr",
     "output_type": "stream",
     "text": []
    },
    {
     "name": "stdout",
     "output_type": "stream",
     "text": [
      "Epoch batch [32/93] | Loss: 19.4641724\n"
     ]
    },
    {
     "name": "stderr",
     "output_type": "stream",
     "text": []
    },
    {
     "name": "stdout",
     "output_type": "stream",
     "text": [
      "Epoch batch [64/93] | Loss: 23.4135342\n"
     ]
    },
    {
     "name": "stderr",
     "output_type": "stream",
     "text": [
      ">>>>>>>>>>>>>>>>>>>>>\n",
      "Main Epoch (Outer Loop):  14%|█▍        | 18/128 [00:22<02:20,  1.28s/it]"
     ]
    },
    {
     "name": "stdout",
     "output_type": "stream",
     "text": [
      "=====================  [EPOCH (17) LOGGING]  =====================\n",
      "| AVERAGES of THIS EPOCH:\n",
      "| ACCUMULATED LOSS: 25.8956139\n",
      "===========================================================\n"
     ]
    },
    {
     "name": "stderr",
     "output_type": "stream",
     "text": []
    },
    {
     "name": "stdout",
     "output_type": "stream",
     "text": [
      "Epoch batch [32/93] | Loss: 27.7413998\n"
     ]
    },
    {
     "name": "stderr",
     "output_type": "stream",
     "text": []
    },
    {
     "name": "stdout",
     "output_type": "stream",
     "text": [
      "Epoch batch [64/93] | Loss: 31.3471050\n"
     ]
    },
    {
     "name": "stderr",
     "output_type": "stream",
     "text": [
      ">>>>>>>>>>>>>>>>>>>>>\n",
      "Main Epoch (Outer Loop):  15%|█▍        | 19/128 [00:23<02:17,  1.27s/it]"
     ]
    },
    {
     "name": "stdout",
     "output_type": "stream",
     "text": [
      "=====================  [EPOCH (18) LOGGING]  =====================\n",
      "| AVERAGES of THIS EPOCH:\n",
      "| ACCUMULATED LOSS: 25.8907538\n",
      "===========================================================\n"
     ]
    },
    {
     "name": "stderr",
     "output_type": "stream",
     "text": []
    },
    {
     "name": "stdout",
     "output_type": "stream",
     "text": [
      "Epoch batch [32/93] | Loss: 25.5683308\n"
     ]
    },
    {
     "name": "stderr",
     "output_type": "stream",
     "text": []
    },
    {
     "name": "stdout",
     "output_type": "stream",
     "text": [
      "Epoch batch [64/93] | Loss: 21.3399200\n"
     ]
    },
    {
     "name": "stderr",
     "output_type": "stream",
     "text": [
      ">>>>>>>>>>>>>>>>>>>>>\n",
      "Main Epoch (Outer Loop):  16%|█▌        | 20/128 [00:25<02:15,  1.26s/it]"
     ]
    },
    {
     "name": "stdout",
     "output_type": "stream",
     "text": [
      "=====================  [EPOCH (19) LOGGING]  =====================\n",
      "| AVERAGES of THIS EPOCH:\n",
      "| ACCUMULATED LOSS: 25.7123534\n",
      "===========================================================\n"
     ]
    },
    {
     "name": "stderr",
     "output_type": "stream",
     "text": []
    },
    {
     "name": "stdout",
     "output_type": "stream",
     "text": [
      "Epoch batch [32/93] | Loss: 28.2329865\n"
     ]
    },
    {
     "name": "stderr",
     "output_type": "stream",
     "text": []
    },
    {
     "name": "stdout",
     "output_type": "stream",
     "text": [
      "Epoch batch [64/93] | Loss: 26.9000244\n"
     ]
    },
    {
     "name": "stderr",
     "output_type": "stream",
     "text": [
      ">>>>>>>>>>>>>>>>>>>>>\n",
      "Main Epoch (Outer Loop):  16%|█▋        | 21/128 [00:26<02:13,  1.24s/it]"
     ]
    },
    {
     "name": "stdout",
     "output_type": "stream",
     "text": [
      "=====================  [EPOCH (20) LOGGING]  =====================\n",
      "| AVERAGES of THIS EPOCH:\n",
      "| ACCUMULATED LOSS: 25.7886540\n",
      "===========================================================\n"
     ]
    },
    {
     "name": "stderr",
     "output_type": "stream",
     "text": []
    },
    {
     "name": "stdout",
     "output_type": "stream",
     "text": [
      "Epoch batch [32/93] | Loss: 22.8769016\n"
     ]
    },
    {
     "name": "stderr",
     "output_type": "stream",
     "text": []
    },
    {
     "name": "stdout",
     "output_type": "stream",
     "text": [
      "Epoch batch [64/93] | Loss: 33.0251617\n"
     ]
    },
    {
     "name": "stderr",
     "output_type": "stream",
     "text": [
      ">>>>>>>>>>>>>>>>>>>>>\n",
      "Main Epoch (Outer Loop):  17%|█▋        | 22/128 [00:27<02:12,  1.25s/it]"
     ]
    },
    {
     "name": "stdout",
     "output_type": "stream",
     "text": [
      "=====================  [EPOCH (21) LOGGING]  =====================\n",
      "| AVERAGES of THIS EPOCH:\n",
      "| ACCUMULATED LOSS: 25.7695171\n",
      "===========================================================\n"
     ]
    },
    {
     "name": "stderr",
     "output_type": "stream",
     "text": []
    },
    {
     "name": "stdout",
     "output_type": "stream",
     "text": [
      "Epoch batch [32/93] | Loss: 19.9902267\n"
     ]
    },
    {
     "name": "stderr",
     "output_type": "stream",
     "text": []
    },
    {
     "name": "stdout",
     "output_type": "stream",
     "text": [
      "Epoch batch [64/93] | Loss: 21.6929684\n"
     ]
    },
    {
     "name": "stderr",
     "output_type": "stream",
     "text": [
      ">>>>>>>>>>>>>>>>>>>>>\n",
      "Main Epoch (Outer Loop):  18%|█▊        | 23/128 [00:28<02:10,  1.24s/it]"
     ]
    },
    {
     "name": "stdout",
     "output_type": "stream",
     "text": [
      "=====================  [EPOCH (22) LOGGING]  =====================\n",
      "| AVERAGES of THIS EPOCH:\n",
      "| ACCUMULATED LOSS: 25.8098521\n",
      "===========================================================\n"
     ]
    },
    {
     "name": "stderr",
     "output_type": "stream",
     "text": []
    },
    {
     "name": "stdout",
     "output_type": "stream",
     "text": [
      "Epoch batch [32/93] | Loss: 28.7889271\n"
     ]
    },
    {
     "name": "stderr",
     "output_type": "stream",
     "text": []
    },
    {
     "name": "stdout",
     "output_type": "stream",
     "text": [
      "Epoch batch [64/93] | Loss: 27.6690331\n"
     ]
    },
    {
     "name": "stderr",
     "output_type": "stream",
     "text": [
      ">>>>>>>>>>>>>>>>>>>>>\n",
      "Main Epoch (Outer Loop):  19%|█▉        | 24/128 [00:30<02:14,  1.29s/it]"
     ]
    },
    {
     "name": "stdout",
     "output_type": "stream",
     "text": [
      "=====================  [EPOCH (23) LOGGING]  =====================\n",
      "| AVERAGES of THIS EPOCH:\n",
      "| ACCUMULATED LOSS: 25.7877763\n",
      "===========================================================\n",
      "===================  [Epoch (24/128)]  ===================\n",
      "Entire Validation Dataset Average Loss: 24.0315\n",
      "====================================================\n"
     ]
    },
    {
     "name": "stderr",
     "output_type": "stream",
     "text": []
    },
    {
     "name": "stdout",
     "output_type": "stream",
     "text": [
      "Epoch batch [32/93] | Loss: 28.4772549\n"
     ]
    },
    {
     "name": "stderr",
     "output_type": "stream",
     "text": []
    },
    {
     "name": "stdout",
     "output_type": "stream",
     "text": [
      "Epoch batch [64/93] | Loss: 23.3137894\n"
     ]
    },
    {
     "name": "stderr",
     "output_type": "stream",
     "text": [
      ">>>>>>>>>>>>>>>>>>>>>\n",
      "Main Epoch (Outer Loop):  20%|█▉        | 25/128 [00:31<02:11,  1.27s/it]"
     ]
    },
    {
     "name": "stdout",
     "output_type": "stream",
     "text": [
      "=====================  [EPOCH (24) LOGGING]  =====================\n",
      "| AVERAGES of THIS EPOCH:\n",
      "| ACCUMULATED LOSS: 25.6684014\n",
      "===========================================================\n"
     ]
    },
    {
     "name": "stderr",
     "output_type": "stream",
     "text": []
    },
    {
     "name": "stdout",
     "output_type": "stream",
     "text": [
      "Epoch batch [32/93] | Loss: 22.9080582\n"
     ]
    },
    {
     "name": "stderr",
     "output_type": "stream",
     "text": []
    },
    {
     "name": "stdout",
     "output_type": "stream",
     "text": [
      "Epoch batch [64/93] | Loss: 23.7546005\n"
     ]
    },
    {
     "name": "stderr",
     "output_type": "stream",
     "text": [
      ">>>>>>>>>>>>>>>>>>>>>\n",
      "Main Epoch (Outer Loop):  20%|██        | 26/128 [00:32<02:09,  1.26s/it]"
     ]
    },
    {
     "name": "stdout",
     "output_type": "stream",
     "text": [
      "=====================  [EPOCH (25) LOGGING]  =====================\n",
      "| AVERAGES of THIS EPOCH:\n",
      "| ACCUMULATED LOSS: 25.7763912\n",
      "===========================================================\n"
     ]
    },
    {
     "name": "stderr",
     "output_type": "stream",
     "text": []
    },
    {
     "name": "stdout",
     "output_type": "stream",
     "text": [
      "Epoch batch [32/93] | Loss: 25.1355343\n"
     ]
    },
    {
     "name": "stderr",
     "output_type": "stream",
     "text": []
    },
    {
     "name": "stdout",
     "output_type": "stream",
     "text": [
      "Epoch batch [64/93] | Loss: 26.5671768\n"
     ]
    },
    {
     "name": "stderr",
     "output_type": "stream",
     "text": [
      ">>>>>>>>>>>>>>>>>>>>>\n",
      "Main Epoch (Outer Loop):  21%|██        | 27/128 [00:33<02:05,  1.25s/it]"
     ]
    },
    {
     "name": "stdout",
     "output_type": "stream",
     "text": [
      "=====================  [EPOCH (26) LOGGING]  =====================\n",
      "| AVERAGES of THIS EPOCH:\n",
      "| ACCUMULATED LOSS: 25.6879292\n",
      "===========================================================\n"
     ]
    },
    {
     "name": "stderr",
     "output_type": "stream",
     "text": []
    },
    {
     "name": "stdout",
     "output_type": "stream",
     "text": [
      "Epoch batch [32/93] | Loss: 33.3719673\n"
     ]
    },
    {
     "name": "stderr",
     "output_type": "stream",
     "text": []
    },
    {
     "name": "stdout",
     "output_type": "stream",
     "text": [
      "Epoch batch [64/93] | Loss: 31.8063736\n"
     ]
    },
    {
     "name": "stderr",
     "output_type": "stream",
     "text": [
      ">>>>>>>>>>>>>>>>>>>>>\n",
      "Main Epoch (Outer Loop):  22%|██▏       | 28/128 [00:35<02:04,  1.24s/it]"
     ]
    },
    {
     "name": "stdout",
     "output_type": "stream",
     "text": [
      "=====================  [EPOCH (27) LOGGING]  =====================\n",
      "| AVERAGES of THIS EPOCH:\n",
      "| ACCUMULATED LOSS: 25.6385826\n",
      "===========================================================\n"
     ]
    },
    {
     "name": "stderr",
     "output_type": "stream",
     "text": []
    },
    {
     "name": "stdout",
     "output_type": "stream",
     "text": [
      "Epoch batch [32/93] | Loss: 20.8584023\n"
     ]
    },
    {
     "name": "stderr",
     "output_type": "stream",
     "text": []
    },
    {
     "name": "stdout",
     "output_type": "stream",
     "text": [
      "Epoch batch [64/93] | Loss: 26.7339897\n"
     ]
    },
    {
     "name": "stderr",
     "output_type": "stream",
     "text": [
      ">>>>>>>>>>>>>>>>>>>>>\n",
      "Main Epoch (Outer Loop):  23%|██▎       | 29/128 [00:36<02:02,  1.24s/it]"
     ]
    },
    {
     "name": "stdout",
     "output_type": "stream",
     "text": [
      "=====================  [EPOCH (28) LOGGING]  =====================\n",
      "| AVERAGES of THIS EPOCH:\n",
      "| ACCUMULATED LOSS: 25.6519139\n",
      "===========================================================\n"
     ]
    },
    {
     "name": "stderr",
     "output_type": "stream",
     "text": []
    },
    {
     "name": "stdout",
     "output_type": "stream",
     "text": [
      "Epoch batch [32/93] | Loss: 29.8666801\n"
     ]
    },
    {
     "name": "stderr",
     "output_type": "stream",
     "text": []
    },
    {
     "name": "stdout",
     "output_type": "stream",
     "text": [
      "Epoch batch [64/93] | Loss: 22.4632778\n"
     ]
    },
    {
     "name": "stderr",
     "output_type": "stream",
     "text": [
      ">>>>>>>>>>>>>>>>>>>>>\n",
      "Main Epoch (Outer Loop):  23%|██▎       | 30/128 [00:37<02:02,  1.25s/it]"
     ]
    },
    {
     "name": "stdout",
     "output_type": "stream",
     "text": [
      "=====================  [EPOCH (29) LOGGING]  =====================\n",
      "| AVERAGES of THIS EPOCH:\n",
      "| ACCUMULATED LOSS: 25.5072805\n",
      "===========================================================\n"
     ]
    },
    {
     "name": "stderr",
     "output_type": "stream",
     "text": []
    },
    {
     "name": "stdout",
     "output_type": "stream",
     "text": [
      "Epoch batch [32/93] | Loss: 20.6013775\n"
     ]
    },
    {
     "name": "stderr",
     "output_type": "stream",
     "text": []
    },
    {
     "name": "stdout",
     "output_type": "stream",
     "text": [
      "Epoch batch [64/93] | Loss: 28.5258312\n"
     ]
    },
    {
     "name": "stderr",
     "output_type": "stream",
     "text": [
      ">>>>>>>>>>>>>>>>>>>>>\n",
      "Main Epoch (Outer Loop):  24%|██▍       | 31/128 [00:38<02:01,  1.25s/it]"
     ]
    },
    {
     "name": "stdout",
     "output_type": "stream",
     "text": [
      "=====================  [EPOCH (30) LOGGING]  =====================\n",
      "| AVERAGES of THIS EPOCH:\n",
      "| ACCUMULATED LOSS: 25.2863209\n",
      "===========================================================\n"
     ]
    },
    {
     "name": "stderr",
     "output_type": "stream",
     "text": []
    },
    {
     "name": "stdout",
     "output_type": "stream",
     "text": [
      "Epoch batch [32/93] | Loss: 26.2998772\n"
     ]
    },
    {
     "name": "stderr",
     "output_type": "stream",
     "text": []
    },
    {
     "name": "stdout",
     "output_type": "stream",
     "text": [
      "Epoch batch [64/93] | Loss: 27.6159649\n"
     ]
    },
    {
     "name": "stderr",
     "output_type": "stream",
     "text": [
      ">>>>>>>>>>>>>>>>>>>>>\n",
      "Main Epoch (Outer Loop):  25%|██▌       | 32/128 [00:40<02:03,  1.29s/it]"
     ]
    },
    {
     "name": "stdout",
     "output_type": "stream",
     "text": [
      "=====================  [EPOCH (31) LOGGING]  =====================\n",
      "| AVERAGES of THIS EPOCH:\n",
      "| ACCUMULATED LOSS: 25.3240486\n",
      "===========================================================\n",
      "===================  [Epoch (32/128)]  ===================\n",
      "Entire Validation Dataset Average Loss: 23.8346\n",
      "====================================================\n"
     ]
    },
    {
     "name": "stderr",
     "output_type": "stream",
     "text": []
    },
    {
     "name": "stdout",
     "output_type": "stream",
     "text": [
      "Epoch batch [32/93] | Loss: 30.8347950\n"
     ]
    },
    {
     "name": "stderr",
     "output_type": "stream",
     "text": []
    },
    {
     "name": "stdout",
     "output_type": "stream",
     "text": [
      "Epoch batch [64/93] | Loss: 27.2270718\n"
     ]
    },
    {
     "name": "stderr",
     "output_type": "stream",
     "text": [
      ">>>>>>>>>>>>>>>>>>>>>\n",
      "Main Epoch (Outer Loop):  26%|██▌       | 33/128 [00:41<02:01,  1.28s/it]"
     ]
    },
    {
     "name": "stdout",
     "output_type": "stream",
     "text": [
      "=====================  [EPOCH (32) LOGGING]  =====================\n",
      "| AVERAGES of THIS EPOCH:\n",
      "| ACCUMULATED LOSS: 25.3334192\n",
      "===========================================================\n"
     ]
    },
    {
     "name": "stderr",
     "output_type": "stream",
     "text": []
    },
    {
     "name": "stdout",
     "output_type": "stream",
     "text": [
      "Epoch batch [32/93] | Loss: 17.3735561\n"
     ]
    },
    {
     "name": "stderr",
     "output_type": "stream",
     "text": []
    },
    {
     "name": "stdout",
     "output_type": "stream",
     "text": [
      "Epoch batch [64/93] | Loss: 28.1533966\n"
     ]
    },
    {
     "name": "stderr",
     "output_type": "stream",
     "text": [
      ">>>>>>>>>>>>>>>>>>>>>\n",
      "Main Epoch (Outer Loop):  27%|██▋       | 34/128 [00:42<01:58,  1.26s/it]"
     ]
    },
    {
     "name": "stdout",
     "output_type": "stream",
     "text": [
      "=====================  [EPOCH (33) LOGGING]  =====================\n",
      "| AVERAGES of THIS EPOCH:\n",
      "| ACCUMULATED LOSS: 25.2493671\n",
      "===========================================================\n"
     ]
    },
    {
     "name": "stderr",
     "output_type": "stream",
     "text": []
    },
    {
     "name": "stdout",
     "output_type": "stream",
     "text": [
      "Epoch batch [32/93] | Loss: 29.2222366\n"
     ]
    },
    {
     "name": "stderr",
     "output_type": "stream",
     "text": []
    },
    {
     "name": "stdout",
     "output_type": "stream",
     "text": [
      "Epoch batch [64/93] | Loss: 23.1892910\n"
     ]
    },
    {
     "name": "stderr",
     "output_type": "stream",
     "text": [
      ">>>>>>>>>>>>>>>>>>>>>\n",
      "Main Epoch (Outer Loop):  27%|██▋       | 35/128 [00:43<01:56,  1.25s/it]"
     ]
    },
    {
     "name": "stdout",
     "output_type": "stream",
     "text": [
      "=====================  [EPOCH (34) LOGGING]  =====================\n",
      "| AVERAGES of THIS EPOCH:\n",
      "| ACCUMULATED LOSS: 25.1372161\n",
      "===========================================================\n"
     ]
    },
    {
     "name": "stderr",
     "output_type": "stream",
     "text": []
    },
    {
     "name": "stdout",
     "output_type": "stream",
     "text": [
      "Epoch batch [32/93] | Loss: 22.9535980\n"
     ]
    },
    {
     "name": "stderr",
     "output_type": "stream",
     "text": []
    },
    {
     "name": "stdout",
     "output_type": "stream",
     "text": [
      "Epoch batch [64/93] | Loss: 17.6056347\n"
     ]
    },
    {
     "name": "stderr",
     "output_type": "stream",
     "text": [
      ">>>>>>>>>>>>>>>>>>>>>\n",
      "Main Epoch (Outer Loop):  28%|██▊       | 36/128 [00:45<01:53,  1.24s/it]"
     ]
    },
    {
     "name": "stdout",
     "output_type": "stream",
     "text": [
      "=====================  [EPOCH (35) LOGGING]  =====================\n",
      "| AVERAGES of THIS EPOCH:\n",
      "| ACCUMULATED LOSS: 25.3086068\n",
      "===========================================================\n"
     ]
    },
    {
     "name": "stderr",
     "output_type": "stream",
     "text": []
    },
    {
     "name": "stdout",
     "output_type": "stream",
     "text": [
      "Epoch batch [32/93] | Loss: 20.6372986\n"
     ]
    },
    {
     "name": "stderr",
     "output_type": "stream",
     "text": []
    },
    {
     "name": "stdout",
     "output_type": "stream",
     "text": [
      "Epoch batch [64/93] | Loss: 18.3796825\n"
     ]
    },
    {
     "name": "stderr",
     "output_type": "stream",
     "text": [
      ">>>>>>>>>>>>>>>>>>>>>\n",
      "Main Epoch (Outer Loop):  29%|██▉       | 37/128 [00:46<01:52,  1.24s/it]"
     ]
    },
    {
     "name": "stdout",
     "output_type": "stream",
     "text": [
      "=====================  [EPOCH (36) LOGGING]  =====================\n",
      "| AVERAGES of THIS EPOCH:\n",
      "| ACCUMULATED LOSS: 25.1587483\n",
      "===========================================================\n"
     ]
    },
    {
     "name": "stderr",
     "output_type": "stream",
     "text": []
    },
    {
     "name": "stdout",
     "output_type": "stream",
     "text": [
      "Epoch batch [32/93] | Loss: 26.7084961\n"
     ]
    },
    {
     "name": "stderr",
     "output_type": "stream",
     "text": []
    },
    {
     "name": "stdout",
     "output_type": "stream",
     "text": [
      "Epoch batch [64/93] | Loss: 22.0886612\n"
     ]
    },
    {
     "name": "stderr",
     "output_type": "stream",
     "text": [
      ">>>>>>>>>>>>>>>>>>>>>\n",
      "Main Epoch (Outer Loop):  30%|██▉       | 38/128 [00:47<01:51,  1.24s/it]"
     ]
    },
    {
     "name": "stdout",
     "output_type": "stream",
     "text": [
      "=====================  [EPOCH (37) LOGGING]  =====================\n",
      "| AVERAGES of THIS EPOCH:\n",
      "| ACCUMULATED LOSS: 25.1202235\n",
      "===========================================================\n"
     ]
    },
    {
     "name": "stderr",
     "output_type": "stream",
     "text": []
    },
    {
     "name": "stdout",
     "output_type": "stream",
     "text": [
      "Epoch batch [32/93] | Loss: 21.8865318\n"
     ]
    },
    {
     "name": "stderr",
     "output_type": "stream",
     "text": []
    },
    {
     "name": "stdout",
     "output_type": "stream",
     "text": [
      "Epoch batch [64/93] | Loss: 26.3537655\n"
     ]
    },
    {
     "name": "stderr",
     "output_type": "stream",
     "text": [
      ">>>>>>>>>>>>>>>>>>>>>\n",
      "Main Epoch (Outer Loop):  30%|███       | 39/128 [00:48<01:50,  1.24s/it]"
     ]
    },
    {
     "name": "stdout",
     "output_type": "stream",
     "text": [
      "=====================  [EPOCH (38) LOGGING]  =====================\n",
      "| AVERAGES of THIS EPOCH:\n",
      "| ACCUMULATED LOSS: 25.0813070\n",
      "===========================================================\n"
     ]
    },
    {
     "name": "stderr",
     "output_type": "stream",
     "text": []
    },
    {
     "name": "stdout",
     "output_type": "stream",
     "text": [
      "Epoch batch [32/93] | Loss: 28.7028217\n"
     ]
    },
    {
     "name": "stderr",
     "output_type": "stream",
     "text": []
    },
    {
     "name": "stdout",
     "output_type": "stream",
     "text": [
      "Epoch batch [64/93] | Loss: 25.7459202\n"
     ]
    },
    {
     "name": "stderr",
     "output_type": "stream",
     "text": [
      ">>>>>>>>>>>>>>>>>>>>>\n",
      "Main Epoch (Outer Loop):  31%|███▏      | 40/128 [00:50<01:52,  1.28s/it]"
     ]
    },
    {
     "name": "stdout",
     "output_type": "stream",
     "text": [
      "=====================  [EPOCH (39) LOGGING]  =====================\n",
      "| AVERAGES of THIS EPOCH:\n",
      "| ACCUMULATED LOSS: 25.1803086\n",
      "===========================================================\n",
      "===================  [Epoch (40/128)]  ===================\n",
      "Entire Validation Dataset Average Loss: 23.9648\n",
      "====================================================\n"
     ]
    },
    {
     "name": "stderr",
     "output_type": "stream",
     "text": []
    },
    {
     "name": "stdout",
     "output_type": "stream",
     "text": [
      "Epoch batch [32/93] | Loss: 23.7896843\n"
     ]
    },
    {
     "name": "stderr",
     "output_type": "stream",
     "text": []
    },
    {
     "name": "stdout",
     "output_type": "stream",
     "text": [
      "Epoch batch [64/93] | Loss: 27.2679749\n"
     ]
    },
    {
     "name": "stderr",
     "output_type": "stream",
     "text": [
      ">>>>>>>>>>>>>>>>>>>>>\n",
      "Main Epoch (Outer Loop):  32%|███▏      | 41/128 [00:51<01:50,  1.28s/it]"
     ]
    },
    {
     "name": "stdout",
     "output_type": "stream",
     "text": [
      "=====================  [EPOCH (40) LOGGING]  =====================\n",
      "| AVERAGES of THIS EPOCH:\n",
      "| ACCUMULATED LOSS: 25.1800123\n",
      "===========================================================\n"
     ]
    },
    {
     "name": "stderr",
     "output_type": "stream",
     "text": []
    },
    {
     "name": "stdout",
     "output_type": "stream",
     "text": [
      "Epoch batch [32/93] | Loss: 40.4576797\n"
     ]
    },
    {
     "name": "stderr",
     "output_type": "stream",
     "text": []
    },
    {
     "name": "stdout",
     "output_type": "stream",
     "text": [
      "Epoch batch [64/93] | Loss: 20.5784264\n"
     ]
    },
    {
     "name": "stderr",
     "output_type": "stream",
     "text": [
      ">>>>>>>>>>>>>>>>>>>>>\n",
      "Main Epoch (Outer Loop):  33%|███▎      | 42/128 [00:52<01:48,  1.27s/it]"
     ]
    },
    {
     "name": "stdout",
     "output_type": "stream",
     "text": [
      "=====================  [EPOCH (41) LOGGING]  =====================\n",
      "| AVERAGES of THIS EPOCH:\n",
      "| ACCUMULATED LOSS: 25.0547775\n",
      "===========================================================\n"
     ]
    },
    {
     "name": "stderr",
     "output_type": "stream",
     "text": []
    },
    {
     "name": "stdout",
     "output_type": "stream",
     "text": [
      "Epoch batch [32/93] | Loss: 28.0497036\n"
     ]
    },
    {
     "name": "stderr",
     "output_type": "stream",
     "text": []
    },
    {
     "name": "stdout",
     "output_type": "stream",
     "text": [
      "Epoch batch [64/93] | Loss: 20.4993877\n"
     ]
    },
    {
     "name": "stderr",
     "output_type": "stream",
     "text": [
      ">>>>>>>>>>>>>>>>>>>>>\n",
      "Main Epoch (Outer Loop):  34%|███▎      | 43/128 [00:53<01:46,  1.26s/it]"
     ]
    },
    {
     "name": "stdout",
     "output_type": "stream",
     "text": [
      "=====================  [EPOCH (42) LOGGING]  =====================\n",
      "| AVERAGES of THIS EPOCH:\n",
      "| ACCUMULATED LOSS: 25.0160190\n",
      "===========================================================\n"
     ]
    },
    {
     "name": "stderr",
     "output_type": "stream",
     "text": [
      "\n"
     ]
    },
    {
     "name": "stdout",
     "output_type": "stream",
     "text": [
      "Epoch batch [32/93] | Loss: 18.6990643\n"
     ]
    },
    {
     "name": "stderr",
     "output_type": "stream",
     "text": [
      "Epoch 44/128 - Training:  49%|████▉     | 46/93 [00:00<00:00, 79.63it/s]\u001b[A"
     ]
    },
    {
     "name": "stdout",
     "output_type": "stream",
     "text": [
      "Epoch batch [64/93] | Loss: 23.9117374\n"
     ]
    },
    {
     "name": "stderr",
     "output_type": "stream",
     "text": [
      ">>>>>>>>>>>>>>>>>>>>>\n",
      "Main Epoch (Outer Loop):  34%|███▍      | 44/128 [00:55<01:44,  1.24s/it]"
     ]
    },
    {
     "name": "stdout",
     "output_type": "stream",
     "text": [
      "=====================  [EPOCH (43) LOGGING]  =====================\n",
      "| AVERAGES of THIS EPOCH:\n",
      "| ACCUMULATED LOSS: 25.0546921\n",
      "===========================================================\n"
     ]
    },
    {
     "name": "stderr",
     "output_type": "stream",
     "text": []
    },
    {
     "name": "stdout",
     "output_type": "stream",
     "text": [
      "Epoch batch [32/93] | Loss: 21.3283558\n"
     ]
    },
    {
     "name": "stderr",
     "output_type": "stream",
     "text": []
    },
    {
     "name": "stdout",
     "output_type": "stream",
     "text": [
      "Epoch batch [64/93] | Loss: 19.4327240\n"
     ]
    },
    {
     "name": "stderr",
     "output_type": "stream",
     "text": [
      ">>>>>>>>>>>>>>>>>>>>>\n",
      "Main Epoch (Outer Loop):  35%|███▌      | 45/128 [00:56<01:42,  1.24s/it]"
     ]
    },
    {
     "name": "stdout",
     "output_type": "stream",
     "text": [
      "=====================  [EPOCH (44) LOGGING]  =====================\n",
      "| AVERAGES of THIS EPOCH:\n",
      "| ACCUMULATED LOSS: 24.9686671\n",
      "===========================================================\n"
     ]
    },
    {
     "name": "stderr",
     "output_type": "stream",
     "text": []
    },
    {
     "name": "stdout",
     "output_type": "stream",
     "text": [
      "Epoch batch [32/93] | Loss: 31.9631310\n"
     ]
    },
    {
     "name": "stderr",
     "output_type": "stream",
     "text": []
    },
    {
     "name": "stdout",
     "output_type": "stream",
     "text": [
      "Epoch batch [64/93] | Loss: 25.7159882\n"
     ]
    },
    {
     "name": "stderr",
     "output_type": "stream",
     "text": [
      ">>>>>>>>>>>>>>>>>>>>>\n",
      "Main Epoch (Outer Loop):  36%|███▌      | 46/128 [00:57<01:41,  1.24s/it]"
     ]
    },
    {
     "name": "stdout",
     "output_type": "stream",
     "text": [
      "=====================  [EPOCH (45) LOGGING]  =====================\n",
      "| AVERAGES of THIS EPOCH:\n",
      "| ACCUMULATED LOSS: 25.0317438\n",
      "===========================================================\n"
     ]
    },
    {
     "name": "stderr",
     "output_type": "stream",
     "text": []
    },
    {
     "name": "stdout",
     "output_type": "stream",
     "text": [
      "Epoch batch [32/93] | Loss: 29.5442829\n"
     ]
    },
    {
     "name": "stderr",
     "output_type": "stream",
     "text": [
      "\n"
     ]
    },
    {
     "name": "stdout",
     "output_type": "stream",
     "text": [
      "Epoch batch [64/93] | Loss: 18.6056786\n"
     ]
    },
    {
     "name": "stderr",
     "output_type": "stream",
     "text": [
      ">>>>>>>>>>>>>>>>>>>>>ng:  84%|████████▍ | 78/93 [00:01<00:00, 76.70it/s]\u001b[A\n",
      "Main Epoch (Outer Loop):  37%|███▋      | 47/128 [00:58<01:39,  1.23s/it]"
     ]
    },
    {
     "name": "stdout",
     "output_type": "stream",
     "text": [
      "=====================  [EPOCH (46) LOGGING]  =====================\n",
      "| AVERAGES of THIS EPOCH:\n",
      "| ACCUMULATED LOSS: 24.9351140\n",
      "===========================================================\n"
     ]
    },
    {
     "name": "stderr",
     "output_type": "stream",
     "text": []
    },
    {
     "name": "stdout",
     "output_type": "stream",
     "text": [
      "Epoch batch [32/93] | Loss: 35.7137222\n"
     ]
    },
    {
     "name": "stderr",
     "output_type": "stream",
     "text": []
    },
    {
     "name": "stdout",
     "output_type": "stream",
     "text": [
      "Epoch batch [64/93] | Loss: 28.0767422\n"
     ]
    },
    {
     "name": "stderr",
     "output_type": "stream",
     "text": [
      ">>>>>>>>>>>>>>>>>>>>>\n",
      "Main Epoch (Outer Loop):  38%|███▊      | 48/128 [01:00<01:41,  1.27s/it]"
     ]
    },
    {
     "name": "stdout",
     "output_type": "stream",
     "text": [
      "=====================  [EPOCH (47) LOGGING]  =====================\n",
      "| AVERAGES of THIS EPOCH:\n",
      "| ACCUMULATED LOSS: 25.0713695\n",
      "===========================================================\n",
      "===================  [Epoch (48/128)]  ===================\n",
      "Entire Validation Dataset Average Loss: 23.5834\n",
      "====================================================\n"
     ]
    },
    {
     "name": "stderr",
     "output_type": "stream",
     "text": []
    },
    {
     "name": "stdout",
     "output_type": "stream",
     "text": [
      "Epoch batch [32/93] | Loss: 33.1864738\n"
     ]
    },
    {
     "name": "stderr",
     "output_type": "stream",
     "text": []
    },
    {
     "name": "stdout",
     "output_type": "stream",
     "text": [
      "Epoch batch [64/93] | Loss: 30.5716515\n"
     ]
    },
    {
     "name": "stderr",
     "output_type": "stream",
     "text": [
      ">>>>>>>>>>>>>>>>>>>>>\n",
      "Main Epoch (Outer Loop):  38%|███▊      | 49/128 [01:01<01:40,  1.27s/it]"
     ]
    },
    {
     "name": "stdout",
     "output_type": "stream",
     "text": [
      "=====================  [EPOCH (48) LOGGING]  =====================\n",
      "| AVERAGES of THIS EPOCH:\n",
      "| ACCUMULATED LOSS: 24.9534829\n",
      "===========================================================\n"
     ]
    },
    {
     "name": "stderr",
     "output_type": "stream",
     "text": []
    },
    {
     "name": "stdout",
     "output_type": "stream",
     "text": [
      "Epoch batch [32/93] | Loss: 26.9834518\n"
     ]
    },
    {
     "name": "stderr",
     "output_type": "stream",
     "text": []
    },
    {
     "name": "stdout",
     "output_type": "stream",
     "text": [
      "Epoch batch [64/93] | Loss: 27.8738480\n"
     ]
    },
    {
     "name": "stderr",
     "output_type": "stream",
     "text": [
      ">>>>>>>>>>>>>>>>>>>>>\n",
      "Main Epoch (Outer Loop):  39%|███▉      | 50/128 [01:02<01:38,  1.26s/it]"
     ]
    },
    {
     "name": "stdout",
     "output_type": "stream",
     "text": [
      "=====================  [EPOCH (49) LOGGING]  =====================\n",
      "| AVERAGES of THIS EPOCH:\n",
      "| ACCUMULATED LOSS: 24.9337696\n",
      "===========================================================\n"
     ]
    },
    {
     "name": "stderr",
     "output_type": "stream",
     "text": []
    },
    {
     "name": "stdout",
     "output_type": "stream",
     "text": [
      "Epoch batch [32/93] | Loss: 24.6306019\n"
     ]
    },
    {
     "name": "stderr",
     "output_type": "stream",
     "text": []
    },
    {
     "name": "stdout",
     "output_type": "stream",
     "text": [
      "Epoch batch [64/93] | Loss: 25.2489033\n"
     ]
    },
    {
     "name": "stderr",
     "output_type": "stream",
     "text": [
      ">>>>>>>>>>>>>>>>>>>>>\n",
      "Main Epoch (Outer Loop):  40%|███▉      | 51/128 [01:03<01:36,  1.25s/it]"
     ]
    },
    {
     "name": "stdout",
     "output_type": "stream",
     "text": [
      "=====================  [EPOCH (50) LOGGING]  =====================\n",
      "| AVERAGES of THIS EPOCH:\n",
      "| ACCUMULATED LOSS: 25.0108899\n",
      "===========================================================\n"
     ]
    },
    {
     "name": "stderr",
     "output_type": "stream",
     "text": []
    },
    {
     "name": "stdout",
     "output_type": "stream",
     "text": [
      "Epoch batch [32/93] | Loss: 29.1185627\n"
     ]
    },
    {
     "name": "stderr",
     "output_type": "stream",
     "text": []
    },
    {
     "name": "stdout",
     "output_type": "stream",
     "text": [
      "Epoch batch [64/93] | Loss: 24.7164116\n"
     ]
    },
    {
     "name": "stderr",
     "output_type": "stream",
     "text": [
      ">>>>>>>>>>>>>>>>>>>>>\n",
      "Main Epoch (Outer Loop):  41%|████      | 52/128 [01:05<01:34,  1.25s/it]"
     ]
    },
    {
     "name": "stdout",
     "output_type": "stream",
     "text": [
      "=====================  [EPOCH (51) LOGGING]  =====================\n",
      "| AVERAGES of THIS EPOCH:\n",
      "| ACCUMULATED LOSS: 24.9953082\n",
      "===========================================================\n"
     ]
    },
    {
     "name": "stderr",
     "output_type": "stream",
     "text": []
    },
    {
     "name": "stdout",
     "output_type": "stream",
     "text": [
      "Epoch batch [32/93] | Loss: 37.7280617\n"
     ]
    },
    {
     "name": "stderr",
     "output_type": "stream",
     "text": []
    },
    {
     "name": "stdout",
     "output_type": "stream",
     "text": [
      "Epoch batch [64/93] | Loss: 18.8086834\n"
     ]
    },
    {
     "name": "stderr",
     "output_type": "stream",
     "text": [
      ">>>>>>>>>>>>>>>>>>>>>\n",
      "Main Epoch (Outer Loop):  41%|████▏     | 53/128 [01:06<01:33,  1.24s/it]"
     ]
    },
    {
     "name": "stdout",
     "output_type": "stream",
     "text": [
      "=====================  [EPOCH (52) LOGGING]  =====================\n",
      "| AVERAGES of THIS EPOCH:\n",
      "| ACCUMULATED LOSS: 24.8906233\n",
      "===========================================================\n"
     ]
    },
    {
     "name": "stderr",
     "output_type": "stream",
     "text": []
    },
    {
     "name": "stdout",
     "output_type": "stream",
     "text": [
      "Epoch batch [32/93] | Loss: 23.8720741\n"
     ]
    },
    {
     "name": "stderr",
     "output_type": "stream",
     "text": []
    },
    {
     "name": "stdout",
     "output_type": "stream",
     "text": [
      "Epoch batch [64/93] | Loss: 24.6120567\n"
     ]
    },
    {
     "name": "stderr",
     "output_type": "stream",
     "text": [
      ">>>>>>>>>>>>>>>>>>>>>\n",
      "Main Epoch (Outer Loop):  42%|████▏     | 54/128 [01:07<01:32,  1.25s/it]"
     ]
    },
    {
     "name": "stdout",
     "output_type": "stream",
     "text": [
      "=====================  [EPOCH (53) LOGGING]  =====================\n",
      "| AVERAGES of THIS EPOCH:\n",
      "| ACCUMULATED LOSS: 24.9743780\n",
      "===========================================================\n"
     ]
    },
    {
     "name": "stderr",
     "output_type": "stream",
     "text": []
    },
    {
     "name": "stdout",
     "output_type": "stream",
     "text": [
      "Epoch batch [32/93] | Loss: 29.6363182\n"
     ]
    },
    {
     "name": "stderr",
     "output_type": "stream",
     "text": []
    },
    {
     "name": "stdout",
     "output_type": "stream",
     "text": [
      "Epoch batch [64/93] | Loss: 30.0650291\n"
     ]
    },
    {
     "name": "stderr",
     "output_type": "stream",
     "text": [
      ">>>>>>>>>>>>>>>>>>>>>\n",
      "Main Epoch (Outer Loop):  43%|████▎     | 55/128 [01:08<01:30,  1.24s/it]"
     ]
    },
    {
     "name": "stdout",
     "output_type": "stream",
     "text": [
      "=====================  [EPOCH (54) LOGGING]  =====================\n",
      "| AVERAGES of THIS EPOCH:\n",
      "| ACCUMULATED LOSS: 24.9361057\n",
      "===========================================================\n"
     ]
    },
    {
     "name": "stderr",
     "output_type": "stream",
     "text": []
    },
    {
     "name": "stdout",
     "output_type": "stream",
     "text": [
      "Epoch batch [32/93] | Loss: 22.5213432\n"
     ]
    },
    {
     "name": "stderr",
     "output_type": "stream",
     "text": []
    },
    {
     "name": "stdout",
     "output_type": "stream",
     "text": [
      "Epoch batch [64/93] | Loss: 25.3802910\n"
     ]
    },
    {
     "name": "stderr",
     "output_type": "stream",
     "text": [
      ">>>>>>>>>>>>>>>>>>>>>\n",
      "Main Epoch (Outer Loop):  44%|████▍     | 56/128 [01:10<01:32,  1.29s/it]"
     ]
    },
    {
     "name": "stdout",
     "output_type": "stream",
     "text": [
      "=====================  [EPOCH (55) LOGGING]  =====================\n",
      "| AVERAGES of THIS EPOCH:\n",
      "| ACCUMULATED LOSS: 24.8635636\n",
      "===========================================================\n",
      "===================  [Epoch (56/128)]  ===================\n",
      "Entire Validation Dataset Average Loss: 23.8796\n",
      "====================================================\n"
     ]
    },
    {
     "name": "stderr",
     "output_type": "stream",
     "text": []
    },
    {
     "name": "stdout",
     "output_type": "stream",
     "text": [
      "Epoch batch [32/93] | Loss: 25.5387611\n"
     ]
    },
    {
     "name": "stderr",
     "output_type": "stream",
     "text": []
    },
    {
     "name": "stdout",
     "output_type": "stream",
     "text": [
      "Epoch batch [64/93] | Loss: 25.1890278\n"
     ]
    },
    {
     "name": "stderr",
     "output_type": "stream",
     "text": [
      ">>>>>>>>>>>>>>>>>>>>>\n",
      "Main Epoch (Outer Loop):  45%|████▍     | 57/128 [01:11<01:30,  1.28s/it]"
     ]
    },
    {
     "name": "stdout",
     "output_type": "stream",
     "text": [
      "=====================  [EPOCH (56) LOGGING]  =====================\n",
      "| AVERAGES of THIS EPOCH:\n",
      "| ACCUMULATED LOSS: 24.8616263\n",
      "===========================================================\n"
     ]
    },
    {
     "name": "stderr",
     "output_type": "stream",
     "text": []
    },
    {
     "name": "stdout",
     "output_type": "stream",
     "text": [
      "Epoch batch [32/93] | Loss: 15.9027309\n"
     ]
    },
    {
     "name": "stderr",
     "output_type": "stream",
     "text": []
    },
    {
     "name": "stdout",
     "output_type": "stream",
     "text": [
      "Epoch batch [64/93] | Loss: 24.1914272\n"
     ]
    },
    {
     "name": "stderr",
     "output_type": "stream",
     "text": [
      ">>>>>>>>>>>>>>>>>>>>>\n",
      "Main Epoch (Outer Loop):  45%|████▌     | 58/128 [01:12<01:28,  1.27s/it]"
     ]
    },
    {
     "name": "stdout",
     "output_type": "stream",
     "text": [
      "=====================  [EPOCH (57) LOGGING]  =====================\n",
      "| AVERAGES of THIS EPOCH:\n",
      "| ACCUMULATED LOSS: 24.8876313\n",
      "===========================================================\n"
     ]
    },
    {
     "name": "stderr",
     "output_type": "stream",
     "text": []
    },
    {
     "name": "stdout",
     "output_type": "stream",
     "text": [
      "Epoch batch [32/93] | Loss: 24.5574303\n"
     ]
    },
    {
     "name": "stderr",
     "output_type": "stream",
     "text": []
    },
    {
     "name": "stdout",
     "output_type": "stream",
     "text": [
      "Epoch batch [64/93] | Loss: 23.7968140\n"
     ]
    },
    {
     "name": "stderr",
     "output_type": "stream",
     "text": [
      ">>>>>>>>>>>>>>>>>>>>>\n",
      "Main Epoch (Outer Loop):  46%|████▌     | 59/128 [01:14<01:27,  1.27s/it]"
     ]
    },
    {
     "name": "stdout",
     "output_type": "stream",
     "text": [
      "=====================  [EPOCH (58) LOGGING]  =====================\n",
      "| AVERAGES of THIS EPOCH:\n",
      "| ACCUMULATED LOSS: 24.8368387\n",
      "===========================================================\n"
     ]
    },
    {
     "name": "stderr",
     "output_type": "stream",
     "text": []
    },
    {
     "name": "stdout",
     "output_type": "stream",
     "text": [
      "Epoch batch [32/93] | Loss: 31.5016365\n"
     ]
    },
    {
     "name": "stderr",
     "output_type": "stream",
     "text": []
    },
    {
     "name": "stdout",
     "output_type": "stream",
     "text": [
      "Epoch batch [64/93] | Loss: 23.6407604\n"
     ]
    },
    {
     "name": "stderr",
     "output_type": "stream",
     "text": [
      ">>>>>>>>>>>>>>>>>>>>>\n",
      "Main Epoch (Outer Loop):  47%|████▋     | 60/128 [01:15<01:25,  1.26s/it]"
     ]
    },
    {
     "name": "stdout",
     "output_type": "stream",
     "text": [
      "=====================  [EPOCH (59) LOGGING]  =====================\n",
      "| AVERAGES of THIS EPOCH:\n",
      "| ACCUMULATED LOSS: 24.9113654\n",
      "===========================================================\n"
     ]
    },
    {
     "name": "stderr",
     "output_type": "stream",
     "text": []
    },
    {
     "name": "stdout",
     "output_type": "stream",
     "text": [
      "Epoch batch [32/93] | Loss: 30.2135944\n"
     ]
    },
    {
     "name": "stderr",
     "output_type": "stream",
     "text": []
    },
    {
     "name": "stdout",
     "output_type": "stream",
     "text": [
      "Epoch batch [64/93] | Loss: 23.5731163\n"
     ]
    },
    {
     "name": "stderr",
     "output_type": "stream",
     "text": [
      ">>>>>>>>>>>>>>>>>>>>>\n",
      "Main Epoch (Outer Loop):  48%|████▊     | 61/128 [01:16<01:23,  1.25s/it]"
     ]
    },
    {
     "name": "stdout",
     "output_type": "stream",
     "text": [
      "=====================  [EPOCH (60) LOGGING]  =====================\n",
      "| AVERAGES of THIS EPOCH:\n",
      "| ACCUMULATED LOSS: 24.9320494\n",
      "===========================================================\n"
     ]
    },
    {
     "name": "stderr",
     "output_type": "stream",
     "text": []
    },
    {
     "name": "stdout",
     "output_type": "stream",
     "text": [
      "Epoch batch [32/93] | Loss: 26.6163139\n"
     ]
    },
    {
     "name": "stderr",
     "output_type": "stream",
     "text": []
    },
    {
     "name": "stdout",
     "output_type": "stream",
     "text": [
      "Epoch batch [64/93] | Loss: 24.8548660\n"
     ]
    },
    {
     "name": "stderr",
     "output_type": "stream",
     "text": [
      ">>>>>>>>>>>>>>>>>>>>>\n",
      "Main Epoch (Outer Loop):  48%|████▊     | 62/128 [01:17<01:21,  1.24s/it]"
     ]
    },
    {
     "name": "stdout",
     "output_type": "stream",
     "text": [
      "=====================  [EPOCH (61) LOGGING]  =====================\n",
      "| AVERAGES of THIS EPOCH:\n",
      "| ACCUMULATED LOSS: 24.8713603\n",
      "===========================================================\n"
     ]
    },
    {
     "name": "stderr",
     "output_type": "stream",
     "text": []
    },
    {
     "name": "stdout",
     "output_type": "stream",
     "text": [
      "Epoch batch [32/93] | Loss: 25.9497185\n"
     ]
    },
    {
     "name": "stderr",
     "output_type": "stream",
     "text": []
    },
    {
     "name": "stdout",
     "output_type": "stream",
     "text": [
      "Epoch batch [64/93] | Loss: 25.2383709\n"
     ]
    },
    {
     "name": "stderr",
     "output_type": "stream",
     "text": [
      ">>>>>>>>>>>>>>>>>>>>>\n",
      "Main Epoch (Outer Loop):  49%|████▉     | 63/128 [01:18<01:20,  1.24s/it]"
     ]
    },
    {
     "name": "stdout",
     "output_type": "stream",
     "text": [
      "=====================  [EPOCH (62) LOGGING]  =====================\n",
      "| AVERAGES of THIS EPOCH:\n",
      "| ACCUMULATED LOSS: 24.9024953\n",
      "===========================================================\n"
     ]
    },
    {
     "name": "stderr",
     "output_type": "stream",
     "text": []
    },
    {
     "name": "stdout",
     "output_type": "stream",
     "text": [
      "Epoch batch [32/93] | Loss: 29.2068825\n"
     ]
    },
    {
     "name": "stderr",
     "output_type": "stream",
     "text": []
    },
    {
     "name": "stdout",
     "output_type": "stream",
     "text": [
      "Epoch batch [64/93] | Loss: 27.3784294\n"
     ]
    },
    {
     "name": "stderr",
     "output_type": "stream",
     "text": [
      ">>>>>>>>>>>>>>>>>>>>>\n",
      "Main Epoch (Outer Loop):  50%|█████     | 64/128 [01:20<01:22,  1.28s/it]"
     ]
    },
    {
     "name": "stdout",
     "output_type": "stream",
     "text": [
      "=====================  [EPOCH (63) LOGGING]  =====================\n",
      "| AVERAGES of THIS EPOCH:\n",
      "| ACCUMULATED LOSS: 24.8363885\n",
      "===========================================================\n",
      "===================  [Epoch (64/128)]  ===================\n",
      "Entire Validation Dataset Average Loss: 23.4165\n",
      "====================================================\n"
     ]
    },
    {
     "name": "stderr",
     "output_type": "stream",
     "text": []
    },
    {
     "name": "stdout",
     "output_type": "stream",
     "text": [
      "Epoch batch [32/93] | Loss: 31.1224365\n"
     ]
    },
    {
     "name": "stderr",
     "output_type": "stream",
     "text": []
    },
    {
     "name": "stdout",
     "output_type": "stream",
     "text": [
      "Epoch batch [64/93] | Loss: 20.4963608\n"
     ]
    },
    {
     "name": "stderr",
     "output_type": "stream",
     "text": [
      ">>>>>>>>>>>>>>>>>>>>>\n",
      "Main Epoch (Outer Loop):  51%|█████     | 65/128 [01:21<01:20,  1.27s/it]"
     ]
    },
    {
     "name": "stdout",
     "output_type": "stream",
     "text": [
      "=====================  [EPOCH (64) LOGGING]  =====================\n",
      "| AVERAGES of THIS EPOCH:\n",
      "| ACCUMULATED LOSS: 24.7160036\n",
      "===========================================================\n"
     ]
    },
    {
     "name": "stderr",
     "output_type": "stream",
     "text": []
    },
    {
     "name": "stdout",
     "output_type": "stream",
     "text": [
      "Epoch batch [32/93] | Loss: 20.3127136\n"
     ]
    },
    {
     "name": "stderr",
     "output_type": "stream",
     "text": [
      "\n"
     ]
    },
    {
     "name": "stdout",
     "output_type": "stream",
     "text": [
      "Epoch batch [64/93] | Loss: 18.4034576\n"
     ]
    },
    {
     "name": "stderr",
     "output_type": "stream",
     "text": [
      ">>>>>>>>>>>>>>>>>>>>>ng:  84%|████████▍ | 78/93 [00:01<00:00, 74.51it/s]\u001b[A\n",
      "Main Epoch (Outer Loop):  52%|█████▏    | 66/128 [01:22<01:19,  1.29s/it]"
     ]
    },
    {
     "name": "stdout",
     "output_type": "stream",
     "text": [
      "=====================  [EPOCH (65) LOGGING]  =====================\n",
      "| AVERAGES of THIS EPOCH:\n",
      "| ACCUMULATED LOSS: 24.9606051\n",
      "===========================================================\n"
     ]
    },
    {
     "name": "stderr",
     "output_type": "stream",
     "text": []
    },
    {
     "name": "stdout",
     "output_type": "stream",
     "text": [
      "Epoch batch [32/93] | Loss: 16.7679787\n"
     ]
    },
    {
     "name": "stderr",
     "output_type": "stream",
     "text": []
    },
    {
     "name": "stdout",
     "output_type": "stream",
     "text": [
      "Epoch batch [64/93] | Loss: 19.5981388\n"
     ]
    },
    {
     "name": "stderr",
     "output_type": "stream",
     "text": [
      ">>>>>>>>>>>>>>>>>>>>>\n",
      "Main Epoch (Outer Loop):  52%|█████▏    | 67/128 [01:24<01:17,  1.27s/it]"
     ]
    },
    {
     "name": "stdout",
     "output_type": "stream",
     "text": [
      "=====================  [EPOCH (66) LOGGING]  =====================\n",
      "| AVERAGES of THIS EPOCH:\n",
      "| ACCUMULATED LOSS: 24.8174322\n",
      "===========================================================\n"
     ]
    },
    {
     "name": "stderr",
     "output_type": "stream",
     "text": []
    },
    {
     "name": "stdout",
     "output_type": "stream",
     "text": [
      "Epoch batch [32/93] | Loss: 24.0962124\n"
     ]
    },
    {
     "name": "stderr",
     "output_type": "stream",
     "text": []
    },
    {
     "name": "stdout",
     "output_type": "stream",
     "text": [
      "Epoch batch [64/93] | Loss: 30.5872726\n"
     ]
    },
    {
     "name": "stderr",
     "output_type": "stream",
     "text": [
      ">>>>>>>>>>>>>>>>>>>>>\n",
      "Main Epoch (Outer Loop):  53%|█████▎    | 68/128 [01:25<01:15,  1.25s/it]"
     ]
    },
    {
     "name": "stdout",
     "output_type": "stream",
     "text": [
      "=====================  [EPOCH (67) LOGGING]  =====================\n",
      "| AVERAGES of THIS EPOCH:\n",
      "| ACCUMULATED LOSS: 24.9125343\n",
      "===========================================================\n"
     ]
    },
    {
     "name": "stderr",
     "output_type": "stream",
     "text": []
    },
    {
     "name": "stdout",
     "output_type": "stream",
     "text": [
      "Epoch batch [32/93] | Loss: 18.6222267\n"
     ]
    },
    {
     "name": "stderr",
     "output_type": "stream",
     "text": []
    },
    {
     "name": "stdout",
     "output_type": "stream",
     "text": [
      "Epoch batch [64/93] | Loss: 21.6085758\n"
     ]
    },
    {
     "name": "stderr",
     "output_type": "stream",
     "text": [
      ">>>>>>>>>>>>>>>>>>>>>\n",
      "Main Epoch (Outer Loop):  54%|█████▍    | 69/128 [01:26<01:13,  1.25s/it]"
     ]
    },
    {
     "name": "stdout",
     "output_type": "stream",
     "text": [
      "=====================  [EPOCH (68) LOGGING]  =====================\n",
      "| AVERAGES of THIS EPOCH:\n",
      "| ACCUMULATED LOSS: 24.8507533\n",
      "===========================================================\n"
     ]
    },
    {
     "name": "stderr",
     "output_type": "stream",
     "text": []
    },
    {
     "name": "stdout",
     "output_type": "stream",
     "text": [
      "Epoch batch [32/93] | Loss: 33.8129730\n"
     ]
    },
    {
     "name": "stderr",
     "output_type": "stream",
     "text": []
    },
    {
     "name": "stdout",
     "output_type": "stream",
     "text": [
      "Epoch batch [64/93] | Loss: 22.7869396\n"
     ]
    },
    {
     "name": "stderr",
     "output_type": "stream",
     "text": [
      ">>>>>>>>>>>>>>>>>>>>>\n",
      "Main Epoch (Outer Loop):  55%|█████▍    | 70/128 [01:27<01:12,  1.25s/it]"
     ]
    },
    {
     "name": "stdout",
     "output_type": "stream",
     "text": [
      "=====================  [EPOCH (69) LOGGING]  =====================\n",
      "| AVERAGES of THIS EPOCH:\n",
      "| ACCUMULATED LOSS: 24.8288470\n",
      "===========================================================\n"
     ]
    },
    {
     "name": "stderr",
     "output_type": "stream",
     "text": []
    },
    {
     "name": "stdout",
     "output_type": "stream",
     "text": [
      "Epoch batch [32/93] | Loss: 24.5455856\n"
     ]
    },
    {
     "name": "stderr",
     "output_type": "stream",
     "text": []
    },
    {
     "name": "stdout",
     "output_type": "stream",
     "text": [
      "Epoch batch [64/93] | Loss: 24.9019585\n"
     ]
    },
    {
     "name": "stderr",
     "output_type": "stream",
     "text": [
      ">>>>>>>>>>>>>>>>>>>>>\n",
      "Main Epoch (Outer Loop):  55%|█████▌    | 71/128 [01:29<01:10,  1.24s/it]"
     ]
    },
    {
     "name": "stdout",
     "output_type": "stream",
     "text": [
      "=====================  [EPOCH (70) LOGGING]  =====================\n",
      "| AVERAGES of THIS EPOCH:\n",
      "| ACCUMULATED LOSS: 24.8641835\n",
      "===========================================================\n"
     ]
    },
    {
     "name": "stderr",
     "output_type": "stream",
     "text": []
    },
    {
     "name": "stdout",
     "output_type": "stream",
     "text": [
      "Epoch batch [32/93] | Loss: 25.3780670\n"
     ]
    },
    {
     "name": "stderr",
     "output_type": "stream",
     "text": []
    },
    {
     "name": "stdout",
     "output_type": "stream",
     "text": [
      "Epoch batch [64/93] | Loss: 23.5492401\n"
     ]
    },
    {
     "name": "stderr",
     "output_type": "stream",
     "text": [
      ">>>>>>>>>>>>>>>>>>>>>\n",
      "Main Epoch (Outer Loop):  56%|█████▋    | 72/128 [01:30<01:11,  1.28s/it]"
     ]
    },
    {
     "name": "stdout",
     "output_type": "stream",
     "text": [
      "=====================  [EPOCH (71) LOGGING]  =====================\n",
      "| AVERAGES of THIS EPOCH:\n",
      "| ACCUMULATED LOSS: 24.8690068\n",
      "===========================================================\n",
      "===================  [Epoch (72/128)]  ===================\n",
      "Entire Validation Dataset Average Loss: 23.4291\n",
      "====================================================\n"
     ]
    },
    {
     "name": "stderr",
     "output_type": "stream",
     "text": []
    },
    {
     "name": "stdout",
     "output_type": "stream",
     "text": [
      "Epoch batch [32/93] | Loss: 19.9109478\n"
     ]
    },
    {
     "name": "stderr",
     "output_type": "stream",
     "text": []
    },
    {
     "name": "stdout",
     "output_type": "stream",
     "text": [
      "Epoch batch [64/93] | Loss: 17.8482170\n"
     ]
    },
    {
     "name": "stderr",
     "output_type": "stream",
     "text": [
      ">>>>>>>>>>>>>>>>>>>>>\n",
      "Main Epoch (Outer Loop):  57%|█████▋    | 73/128 [01:31<01:09,  1.27s/it]"
     ]
    },
    {
     "name": "stdout",
     "output_type": "stream",
     "text": [
      "=====================  [EPOCH (72) LOGGING]  =====================\n",
      "| AVERAGES of THIS EPOCH:\n",
      "| ACCUMULATED LOSS: 24.8001545\n",
      "===========================================================\n"
     ]
    },
    {
     "name": "stderr",
     "output_type": "stream",
     "text": []
    },
    {
     "name": "stdout",
     "output_type": "stream",
     "text": [
      "Epoch batch [32/93] | Loss: 23.5261078\n"
     ]
    },
    {
     "name": "stderr",
     "output_type": "stream",
     "text": []
    },
    {
     "name": "stdout",
     "output_type": "stream",
     "text": [
      "Epoch batch [64/93] | Loss: 21.8010654\n"
     ]
    },
    {
     "name": "stderr",
     "output_type": "stream",
     "text": [
      ">>>>>>>>>>>>>>>>>>>>>\n",
      "Main Epoch (Outer Loop):  58%|█████▊    | 74/128 [01:32<01:08,  1.26s/it]"
     ]
    },
    {
     "name": "stdout",
     "output_type": "stream",
     "text": [
      "=====================  [EPOCH (73) LOGGING]  =====================\n",
      "| AVERAGES of THIS EPOCH:\n",
      "| ACCUMULATED LOSS: 24.7894944\n",
      "===========================================================\n"
     ]
    },
    {
     "name": "stderr",
     "output_type": "stream",
     "text": []
    },
    {
     "name": "stdout",
     "output_type": "stream",
     "text": [
      "Epoch batch [32/93] | Loss: 21.6498508\n"
     ]
    },
    {
     "name": "stderr",
     "output_type": "stream",
     "text": [
      "\n"
     ]
    },
    {
     "name": "stdout",
     "output_type": "stream",
     "text": [
      "Epoch batch [64/93] | Loss: 22.7841759\n"
     ]
    },
    {
     "name": "stderr",
     "output_type": "stream",
     "text": [
      ">>>>>>>>>>>>>>>>>>>>>ng:  80%|███████▉  | 74/93 [00:01<00:00, 65.87it/s]\u001b[A\n",
      "Main Epoch (Outer Loop):  59%|█████▊    | 75/128 [01:34<01:07,  1.28s/it]"
     ]
    },
    {
     "name": "stdout",
     "output_type": "stream",
     "text": [
      "=====================  [EPOCH (74) LOGGING]  =====================\n",
      "| AVERAGES of THIS EPOCH:\n",
      "| ACCUMULATED LOSS: 24.8117520\n",
      "===========================================================\n"
     ]
    },
    {
     "name": "stderr",
     "output_type": "stream",
     "text": []
    },
    {
     "name": "stdout",
     "output_type": "stream",
     "text": [
      "Epoch batch [32/93] | Loss: 28.7131462\n"
     ]
    },
    {
     "name": "stderr",
     "output_type": "stream",
     "text": []
    },
    {
     "name": "stdout",
     "output_type": "stream",
     "text": [
      "Epoch batch [64/93] | Loss: 27.7512722\n"
     ]
    },
    {
     "name": "stderr",
     "output_type": "stream",
     "text": [
      ">>>>>>>>>>>>>>>>>>>>>\n",
      "Main Epoch (Outer Loop):  59%|█████▉    | 76/128 [01:35<01:06,  1.27s/it]"
     ]
    },
    {
     "name": "stdout",
     "output_type": "stream",
     "text": [
      "=====================  [EPOCH (75) LOGGING]  =====================\n",
      "| AVERAGES of THIS EPOCH:\n",
      "| ACCUMULATED LOSS: 24.7822149\n",
      "===========================================================\n"
     ]
    },
    {
     "name": "stderr",
     "output_type": "stream",
     "text": []
    },
    {
     "name": "stdout",
     "output_type": "stream",
     "text": [
      "Epoch batch [32/93] | Loss: 21.5776787\n"
     ]
    },
    {
     "name": "stderr",
     "output_type": "stream",
     "text": []
    },
    {
     "name": "stdout",
     "output_type": "stream",
     "text": [
      "Epoch batch [64/93] | Loss: 24.0238285\n"
     ]
    },
    {
     "name": "stderr",
     "output_type": "stream",
     "text": [
      ">>>>>>>>>>>>>>>>>>>>>\n",
      "Main Epoch (Outer Loop):  60%|██████    | 77/128 [01:36<01:04,  1.26s/it]"
     ]
    },
    {
     "name": "stdout",
     "output_type": "stream",
     "text": [
      "=====================  [EPOCH (76) LOGGING]  =====================\n",
      "| AVERAGES of THIS EPOCH:\n",
      "| ACCUMULATED LOSS: 24.8023970\n",
      "===========================================================\n"
     ]
    },
    {
     "name": "stderr",
     "output_type": "stream",
     "text": []
    },
    {
     "name": "stdout",
     "output_type": "stream",
     "text": [
      "Epoch batch [32/93] | Loss: 25.7624435\n"
     ]
    },
    {
     "name": "stderr",
     "output_type": "stream",
     "text": []
    },
    {
     "name": "stdout",
     "output_type": "stream",
     "text": [
      "Epoch batch [64/93] | Loss: 26.7640705\n"
     ]
    },
    {
     "name": "stderr",
     "output_type": "stream",
     "text": [
      ">>>>>>>>>>>>>>>>>>>>>\n",
      "Main Epoch (Outer Loop):  61%|██████    | 78/128 [01:37<01:02,  1.25s/it]"
     ]
    },
    {
     "name": "stdout",
     "output_type": "stream",
     "text": [
      "=====================  [EPOCH (77) LOGGING]  =====================\n",
      "| AVERAGES of THIS EPOCH:\n",
      "| ACCUMULATED LOSS: 24.8926194\n",
      "===========================================================\n"
     ]
    },
    {
     "name": "stderr",
     "output_type": "stream",
     "text": []
    },
    {
     "name": "stdout",
     "output_type": "stream",
     "text": [
      "Epoch batch [32/93] | Loss: 24.9013710\n"
     ]
    },
    {
     "name": "stderr",
     "output_type": "stream",
     "text": []
    },
    {
     "name": "stdout",
     "output_type": "stream",
     "text": [
      "Epoch batch [64/93] | Loss: 23.9276142\n"
     ]
    },
    {
     "name": "stderr",
     "output_type": "stream",
     "text": [
      ">>>>>>>>>>>>>>>>>>>>>\n",
      "Main Epoch (Outer Loop):  62%|██████▏   | 79/128 [01:39<01:01,  1.25s/it]"
     ]
    },
    {
     "name": "stdout",
     "output_type": "stream",
     "text": [
      "=====================  [EPOCH (78) LOGGING]  =====================\n",
      "| AVERAGES of THIS EPOCH:\n",
      "| ACCUMULATED LOSS: 24.7681033\n",
      "===========================================================\n"
     ]
    },
    {
     "name": "stderr",
     "output_type": "stream",
     "text": []
    },
    {
     "name": "stdout",
     "output_type": "stream",
     "text": [
      "Epoch batch [32/93] | Loss: 27.1470222\n"
     ]
    },
    {
     "name": "stderr",
     "output_type": "stream",
     "text": []
    },
    {
     "name": "stdout",
     "output_type": "stream",
     "text": [
      "Epoch batch [64/93] | Loss: 19.6761913\n"
     ]
    },
    {
     "name": "stderr",
     "output_type": "stream",
     "text": [
      ">>>>>>>>>>>>>>>>>>>>>\n",
      "Main Epoch (Outer Loop):  62%|██████▎   | 80/128 [01:40<01:01,  1.28s/it]"
     ]
    },
    {
     "name": "stdout",
     "output_type": "stream",
     "text": [
      "=====================  [EPOCH (79) LOGGING]  =====================\n",
      "| AVERAGES of THIS EPOCH:\n",
      "| ACCUMULATED LOSS: 24.6511605\n",
      "===========================================================\n",
      "===================  [Epoch (80/128)]  ===================\n",
      "Entire Validation Dataset Average Loss: 23.2999\n",
      "====================================================\n"
     ]
    },
    {
     "name": "stderr",
     "output_type": "stream",
     "text": []
    },
    {
     "name": "stdout",
     "output_type": "stream",
     "text": [
      "Epoch batch [32/93] | Loss: 20.9713612\n"
     ]
    },
    {
     "name": "stderr",
     "output_type": "stream",
     "text": []
    },
    {
     "name": "stdout",
     "output_type": "stream",
     "text": [
      "Epoch batch [64/93] | Loss: 26.2027760\n"
     ]
    },
    {
     "name": "stderr",
     "output_type": "stream",
     "text": [
      ">>>>>>>>>>>>>>>>>>>>>\n",
      "Main Epoch (Outer Loop):  63%|██████▎   | 81/128 [01:41<00:59,  1.26s/it]"
     ]
    },
    {
     "name": "stdout",
     "output_type": "stream",
     "text": [
      "=====================  [EPOCH (80) LOGGING]  =====================\n",
      "| AVERAGES of THIS EPOCH:\n",
      "| ACCUMULATED LOSS: 24.8692958\n",
      "===========================================================\n"
     ]
    },
    {
     "name": "stderr",
     "output_type": "stream",
     "text": [
      "\n"
     ]
    },
    {
     "name": "stdout",
     "output_type": "stream",
     "text": [
      "Epoch batch [32/93] | Loss: 24.0382881\n"
     ]
    },
    {
     "name": "stderr",
     "output_type": "stream",
     "text": [
      "Epoch 82/128 - Training:  52%|█████▏    | 48/93 [00:00<00:00, 75.70it/s]\u001b[A"
     ]
    },
    {
     "name": "stdout",
     "output_type": "stream",
     "text": [
      "Epoch batch [64/93] | Loss: 20.7782688\n"
     ]
    },
    {
     "name": "stderr",
     "output_type": "stream",
     "text": [
      ">>>>>>>>>>>>>>>>>>>>>\n",
      "Main Epoch (Outer Loop):  64%|██████▍   | 82/128 [01:43<00:57,  1.25s/it]"
     ]
    },
    {
     "name": "stdout",
     "output_type": "stream",
     "text": [
      "=====================  [EPOCH (81) LOGGING]  =====================\n",
      "| AVERAGES of THIS EPOCH:\n",
      "| ACCUMULATED LOSS: 24.6699239\n",
      "===========================================================\n"
     ]
    },
    {
     "name": "stderr",
     "output_type": "stream",
     "text": []
    },
    {
     "name": "stdout",
     "output_type": "stream",
     "text": [
      "Epoch batch [32/93] | Loss: 21.6912632\n"
     ]
    },
    {
     "name": "stderr",
     "output_type": "stream",
     "text": []
    },
    {
     "name": "stdout",
     "output_type": "stream",
     "text": [
      "Epoch batch [64/93] | Loss: 21.3879547\n"
     ]
    },
    {
     "name": "stderr",
     "output_type": "stream",
     "text": [
      ">>>>>>>>>>>>>>>>>>>>>\n",
      "Main Epoch (Outer Loop):  65%|██████▍   | 83/128 [01:44<00:56,  1.25s/it]"
     ]
    },
    {
     "name": "stdout",
     "output_type": "stream",
     "text": [
      "=====================  [EPOCH (82) LOGGING]  =====================\n",
      "| AVERAGES of THIS EPOCH:\n",
      "| ACCUMULATED LOSS: 24.7257757\n",
      "===========================================================\n"
     ]
    },
    {
     "name": "stderr",
     "output_type": "stream",
     "text": []
    },
    {
     "name": "stdout",
     "output_type": "stream",
     "text": [
      "Epoch batch [32/93] | Loss: 20.0839901\n"
     ]
    },
    {
     "name": "stderr",
     "output_type": "stream",
     "text": []
    },
    {
     "name": "stdout",
     "output_type": "stream",
     "text": [
      "Epoch batch [64/93] | Loss: 23.1691456\n"
     ]
    },
    {
     "name": "stderr",
     "output_type": "stream",
     "text": [
      ">>>>>>>>>>>>>>>>>>>>>\n",
      "Main Epoch (Outer Loop):  66%|██████▌   | 84/128 [01:45<00:54,  1.24s/it]"
     ]
    },
    {
     "name": "stdout",
     "output_type": "stream",
     "text": [
      "=====================  [EPOCH (83) LOGGING]  =====================\n",
      "| AVERAGES of THIS EPOCH:\n",
      "| ACCUMULATED LOSS: 24.8005271\n",
      "===========================================================\n"
     ]
    },
    {
     "name": "stderr",
     "output_type": "stream",
     "text": []
    },
    {
     "name": "stdout",
     "output_type": "stream",
     "text": [
      "Epoch batch [32/93] | Loss: 26.3819313\n"
     ]
    },
    {
     "name": "stderr",
     "output_type": "stream",
     "text": []
    },
    {
     "name": "stdout",
     "output_type": "stream",
     "text": [
      "Epoch batch [64/93] | Loss: 26.9035358\n"
     ]
    },
    {
     "name": "stderr",
     "output_type": "stream",
     "text": [
      ">>>>>>>>>>>>>>>>>>>>>\n",
      "Main Epoch (Outer Loop):  66%|██████▋   | 85/128 [01:46<00:53,  1.24s/it]"
     ]
    },
    {
     "name": "stdout",
     "output_type": "stream",
     "text": [
      "=====================  [EPOCH (84) LOGGING]  =====================\n",
      "| AVERAGES of THIS EPOCH:\n",
      "| ACCUMULATED LOSS: 24.7456917\n",
      "===========================================================\n"
     ]
    },
    {
     "name": "stderr",
     "output_type": "stream",
     "text": []
    },
    {
     "name": "stdout",
     "output_type": "stream",
     "text": [
      "Epoch batch [32/93] | Loss: 26.1509209\n"
     ]
    },
    {
     "name": "stderr",
     "output_type": "stream",
     "text": []
    },
    {
     "name": "stdout",
     "output_type": "stream",
     "text": [
      "Epoch batch [64/93] | Loss: 27.9061565\n"
     ]
    },
    {
     "name": "stderr",
     "output_type": "stream",
     "text": [
      ">>>>>>>>>>>>>>>>>>>>>\n",
      "Main Epoch (Outer Loop):  67%|██████▋   | 86/128 [01:47<00:51,  1.24s/it]"
     ]
    },
    {
     "name": "stdout",
     "output_type": "stream",
     "text": [
      "=====================  [EPOCH (85) LOGGING]  =====================\n",
      "| AVERAGES of THIS EPOCH:\n",
      "| ACCUMULATED LOSS: 24.7379955\n",
      "===========================================================\n"
     ]
    },
    {
     "name": "stderr",
     "output_type": "stream",
     "text": []
    },
    {
     "name": "stdout",
     "output_type": "stream",
     "text": [
      "Epoch batch [32/93] | Loss: 15.2662477\n"
     ]
    },
    {
     "name": "stderr",
     "output_type": "stream",
     "text": []
    },
    {
     "name": "stdout",
     "output_type": "stream",
     "text": [
      "Epoch batch [64/93] | Loss: 22.1188240\n"
     ]
    },
    {
     "name": "stderr",
     "output_type": "stream",
     "text": [
      ">>>>>>>>>>>>>>>>>>>>>\n",
      "Main Epoch (Outer Loop):  68%|██████▊   | 87/128 [01:49<00:50,  1.24s/it]"
     ]
    },
    {
     "name": "stdout",
     "output_type": "stream",
     "text": [
      "=====================  [EPOCH (86) LOGGING]  =====================\n",
      "| AVERAGES of THIS EPOCH:\n",
      "| ACCUMULATED LOSS: 24.7450622\n",
      "===========================================================\n"
     ]
    },
    {
     "name": "stderr",
     "output_type": "stream",
     "text": []
    },
    {
     "name": "stdout",
     "output_type": "stream",
     "text": [
      "Epoch batch [32/93] | Loss: 18.5054684\n"
     ]
    },
    {
     "name": "stderr",
     "output_type": "stream",
     "text": []
    },
    {
     "name": "stdout",
     "output_type": "stream",
     "text": [
      "Epoch batch [64/93] | Loss: 22.9077301\n"
     ]
    },
    {
     "name": "stderr",
     "output_type": "stream",
     "text": [
      ">>>>>>>>>>>>>>>>>>>>>\n",
      "Main Epoch (Outer Loop):  69%|██████▉   | 88/128 [01:50<00:51,  1.28s/it]"
     ]
    },
    {
     "name": "stdout",
     "output_type": "stream",
     "text": [
      "=====================  [EPOCH (87) LOGGING]  =====================\n",
      "| AVERAGES of THIS EPOCH:\n",
      "| ACCUMULATED LOSS: 24.6635515\n",
      "===========================================================\n",
      "===================  [Epoch (88/128)]  ===================\n",
      "Entire Validation Dataset Average Loss: 24.0718\n",
      "====================================================\n"
     ]
    },
    {
     "name": "stderr",
     "output_type": "stream",
     "text": []
    },
    {
     "name": "stdout",
     "output_type": "stream",
     "text": [
      "Epoch batch [32/93] | Loss: 25.5693703\n"
     ]
    },
    {
     "name": "stderr",
     "output_type": "stream",
     "text": []
    },
    {
     "name": "stdout",
     "output_type": "stream",
     "text": [
      "Epoch batch [64/93] | Loss: 26.4313431\n"
     ]
    },
    {
     "name": "stderr",
     "output_type": "stream",
     "text": [
      ">>>>>>>>>>>>>>>>>>>>>\n",
      "Main Epoch (Outer Loop):  70%|██████▉   | 89/128 [01:51<00:49,  1.27s/it]"
     ]
    },
    {
     "name": "stdout",
     "output_type": "stream",
     "text": [
      "=====================  [EPOCH (88) LOGGING]  =====================\n",
      "| AVERAGES of THIS EPOCH:\n",
      "| ACCUMULATED LOSS: 24.7155838\n",
      "===========================================================\n"
     ]
    },
    {
     "name": "stderr",
     "output_type": "stream",
     "text": []
    },
    {
     "name": "stdout",
     "output_type": "stream",
     "text": [
      "Epoch batch [32/93] | Loss: 22.4655056\n"
     ]
    },
    {
     "name": "stderr",
     "output_type": "stream",
     "text": []
    },
    {
     "name": "stdout",
     "output_type": "stream",
     "text": [
      "Epoch batch [64/93] | Loss: 22.9789047\n"
     ]
    },
    {
     "name": "stderr",
     "output_type": "stream",
     "text": [
      ">>>>>>>>>>>>>>>>>>>>>\n",
      "Main Epoch (Outer Loop):  70%|███████   | 90/128 [01:53<00:48,  1.27s/it]"
     ]
    },
    {
     "name": "stdout",
     "output_type": "stream",
     "text": [
      "=====================  [EPOCH (89) LOGGING]  =====================\n",
      "| AVERAGES of THIS EPOCH:\n",
      "| ACCUMULATED LOSS: 24.7801528\n",
      "===========================================================\n"
     ]
    },
    {
     "name": "stderr",
     "output_type": "stream",
     "text": []
    },
    {
     "name": "stdout",
     "output_type": "stream",
     "text": [
      "Epoch batch [32/93] | Loss: 32.6710358\n"
     ]
    },
    {
     "name": "stderr",
     "output_type": "stream",
     "text": []
    },
    {
     "name": "stdout",
     "output_type": "stream",
     "text": [
      "Epoch batch [64/93] | Loss: 26.4808941\n"
     ]
    },
    {
     "name": "stderr",
     "output_type": "stream",
     "text": [
      ">>>>>>>>>>>>>>>>>>>>>\n",
      "Main Epoch (Outer Loop):  71%|███████   | 91/128 [01:54<00:46,  1.26s/it]"
     ]
    },
    {
     "name": "stdout",
     "output_type": "stream",
     "text": [
      "=====================  [EPOCH (90) LOGGING]  =====================\n",
      "| AVERAGES of THIS EPOCH:\n",
      "| ACCUMULATED LOSS: 24.6973116\n",
      "===========================================================\n"
     ]
    },
    {
     "name": "stderr",
     "output_type": "stream",
     "text": [
      "\n"
     ]
    },
    {
     "name": "stdout",
     "output_type": "stream",
     "text": [
      "Epoch batch [32/93] | Loss: 22.0096245\n"
     ]
    },
    {
     "name": "stderr",
     "output_type": "stream",
     "text": [
      "Epoch 92/128 - Training:  51%|█████     | 47/93 [00:00<00:00, 74.89it/s]\u001b[A"
     ]
    },
    {
     "name": "stdout",
     "output_type": "stream",
     "text": [
      "Epoch batch [64/93] | Loss: 29.0404377\n"
     ]
    },
    {
     "name": "stderr",
     "output_type": "stream",
     "text": [
      ">>>>>>>>>>>>>>>>>>>>>\n",
      "Main Epoch (Outer Loop):  72%|███████▏  | 92/128 [01:55<00:45,  1.26s/it]"
     ]
    },
    {
     "name": "stdout",
     "output_type": "stream",
     "text": [
      "=====================  [EPOCH (91) LOGGING]  =====================\n",
      "| AVERAGES of THIS EPOCH:\n",
      "| ACCUMULATED LOSS: 24.6562913\n",
      "===========================================================\n"
     ]
    },
    {
     "name": "stderr",
     "output_type": "stream",
     "text": []
    },
    {
     "name": "stdout",
     "output_type": "stream",
     "text": [
      "Epoch batch [32/93] | Loss: 18.6268520\n"
     ]
    },
    {
     "name": "stderr",
     "output_type": "stream",
     "text": []
    },
    {
     "name": "stdout",
     "output_type": "stream",
     "text": [
      "Epoch batch [64/93] | Loss: 23.8150101\n"
     ]
    },
    {
     "name": "stderr",
     "output_type": "stream",
     "text": [
      ">>>>>>>>>>>>>>>>>>>>>\n",
      "Main Epoch (Outer Loop):  73%|███████▎  | 93/128 [01:56<00:43,  1.25s/it]"
     ]
    },
    {
     "name": "stdout",
     "output_type": "stream",
     "text": [
      "=====================  [EPOCH (92) LOGGING]  =====================\n",
      "| AVERAGES of THIS EPOCH:\n",
      "| ACCUMULATED LOSS: 24.6935855\n",
      "===========================================================\n"
     ]
    },
    {
     "name": "stderr",
     "output_type": "stream",
     "text": []
    },
    {
     "name": "stdout",
     "output_type": "stream",
     "text": [
      "Epoch batch [32/93] | Loss: 18.2696743\n"
     ]
    },
    {
     "name": "stderr",
     "output_type": "stream",
     "text": []
    },
    {
     "name": "stdout",
     "output_type": "stream",
     "text": [
      "Epoch batch [64/93] | Loss: 26.4792576\n"
     ]
    },
    {
     "name": "stderr",
     "output_type": "stream",
     "text": [
      ">>>>>>>>>>>>>>>>>>>>>\n",
      "Main Epoch (Outer Loop):  73%|███████▎  | 94/128 [01:58<00:42,  1.24s/it]"
     ]
    },
    {
     "name": "stdout",
     "output_type": "stream",
     "text": [
      "=====================  [EPOCH (93) LOGGING]  =====================\n",
      "| AVERAGES of THIS EPOCH:\n",
      "| ACCUMULATED LOSS: 24.8196094\n",
      "===========================================================\n"
     ]
    },
    {
     "name": "stderr",
     "output_type": "stream",
     "text": []
    },
    {
     "name": "stdout",
     "output_type": "stream",
     "text": [
      "Epoch batch [32/93] | Loss: 25.2912312\n"
     ]
    },
    {
     "name": "stderr",
     "output_type": "stream",
     "text": []
    },
    {
     "name": "stdout",
     "output_type": "stream",
     "text": [
      "Epoch batch [64/93] | Loss: 31.4808559\n"
     ]
    },
    {
     "name": "stderr",
     "output_type": "stream",
     "text": [
      ">>>>>>>>>>>>>>>>>>>>>\n",
      "Main Epoch (Outer Loop):  74%|███████▍  | 95/128 [01:59<00:41,  1.25s/it]"
     ]
    },
    {
     "name": "stdout",
     "output_type": "stream",
     "text": [
      "=====================  [EPOCH (94) LOGGING]  =====================\n",
      "| AVERAGES of THIS EPOCH:\n",
      "| ACCUMULATED LOSS: 24.7835089\n",
      "===========================================================\n"
     ]
    },
    {
     "name": "stderr",
     "output_type": "stream",
     "text": []
    },
    {
     "name": "stdout",
     "output_type": "stream",
     "text": [
      "Epoch batch [32/93] | Loss: 26.2499924\n"
     ]
    },
    {
     "name": "stderr",
     "output_type": "stream",
     "text": []
    },
    {
     "name": "stdout",
     "output_type": "stream",
     "text": [
      "Epoch batch [64/93] | Loss: 17.6271763\n"
     ]
    },
    {
     "name": "stderr",
     "output_type": "stream",
     "text": [
      ">>>>>>>>>>>>>>>>>>>>>\n",
      "Main Epoch (Outer Loop):  75%|███████▌  | 96/128 [02:00<00:41,  1.29s/it]"
     ]
    },
    {
     "name": "stdout",
     "output_type": "stream",
     "text": [
      "=====================  [EPOCH (95) LOGGING]  =====================\n",
      "| AVERAGES of THIS EPOCH:\n",
      "| ACCUMULATED LOSS: 24.7516642\n",
      "===========================================================\n",
      "===================  [Epoch (96/128)]  ===================\n",
      "Entire Validation Dataset Average Loss: 23.2256\n",
      "====================================================\n"
     ]
    },
    {
     "name": "stderr",
     "output_type": "stream",
     "text": []
    },
    {
     "name": "stdout",
     "output_type": "stream",
     "text": [
      "Epoch batch [32/93] | Loss: 22.7783279\n"
     ]
    },
    {
     "name": "stderr",
     "output_type": "stream",
     "text": []
    },
    {
     "name": "stdout",
     "output_type": "stream",
     "text": [
      "Epoch batch [64/93] | Loss: 34.7981033\n"
     ]
    },
    {
     "name": "stderr",
     "output_type": "stream",
     "text": [
      ">>>>>>>>>>>>>>>>>>>>>\n",
      "Main Epoch (Outer Loop):  76%|███████▌  | 97/128 [02:01<00:39,  1.27s/it]"
     ]
    },
    {
     "name": "stdout",
     "output_type": "stream",
     "text": [
      "=====================  [EPOCH (96) LOGGING]  =====================\n",
      "| AVERAGES of THIS EPOCH:\n",
      "| ACCUMULATED LOSS: 24.5706448\n",
      "===========================================================\n"
     ]
    },
    {
     "name": "stderr",
     "output_type": "stream",
     "text": []
    },
    {
     "name": "stdout",
     "output_type": "stream",
     "text": [
      "Epoch batch [32/93] | Loss: 27.4553947\n"
     ]
    },
    {
     "name": "stderr",
     "output_type": "stream",
     "text": []
    },
    {
     "name": "stdout",
     "output_type": "stream",
     "text": [
      "Epoch batch [64/93] | Loss: 26.9805031\n"
     ]
    },
    {
     "name": "stderr",
     "output_type": "stream",
     "text": [
      ">>>>>>>>>>>>>>>>>>>>>\n",
      "Main Epoch (Outer Loop):  77%|███████▋  | 98/128 [02:03<00:38,  1.27s/it]"
     ]
    },
    {
     "name": "stdout",
     "output_type": "stream",
     "text": [
      "=====================  [EPOCH (97) LOGGING]  =====================\n",
      "| AVERAGES of THIS EPOCH:\n",
      "| ACCUMULATED LOSS: 24.7440078\n",
      "===========================================================\n"
     ]
    },
    {
     "name": "stderr",
     "output_type": "stream",
     "text": []
    },
    {
     "name": "stdout",
     "output_type": "stream",
     "text": [
      "Epoch batch [32/93] | Loss: 22.9261589\n"
     ]
    },
    {
     "name": "stderr",
     "output_type": "stream",
     "text": []
    },
    {
     "name": "stdout",
     "output_type": "stream",
     "text": [
      "Epoch batch [64/93] | Loss: 30.1578560\n"
     ]
    },
    {
     "name": "stderr",
     "output_type": "stream",
     "text": [
      ">>>>>>>>>>>>>>>>>>>>>\n",
      "Main Epoch (Outer Loop):  77%|███████▋  | 99/128 [02:04<00:36,  1.27s/it]"
     ]
    },
    {
     "name": "stdout",
     "output_type": "stream",
     "text": [
      "=====================  [EPOCH (98) LOGGING]  =====================\n",
      "| AVERAGES of THIS EPOCH:\n",
      "| ACCUMULATED LOSS: 24.6715960\n",
      "===========================================================\n"
     ]
    },
    {
     "name": "stderr",
     "output_type": "stream",
     "text": []
    },
    {
     "name": "stdout",
     "output_type": "stream",
     "text": [
      "Epoch batch [32/93] | Loss: 29.3285141\n"
     ]
    },
    {
     "name": "stderr",
     "output_type": "stream",
     "text": []
    },
    {
     "name": "stdout",
     "output_type": "stream",
     "text": [
      "Epoch batch [64/93] | Loss: 28.9259014\n"
     ]
    },
    {
     "name": "stderr",
     "output_type": "stream",
     "text": [
      ">>>>>>>>>>>>>>>>>>>>>\n",
      "Main Epoch (Outer Loop):  78%|███████▊  | 100/128 [02:05<00:35,  1.25s/it]"
     ]
    },
    {
     "name": "stdout",
     "output_type": "stream",
     "text": [
      "=====================  [EPOCH (99) LOGGING]  =====================\n",
      "| AVERAGES of THIS EPOCH:\n",
      "| ACCUMULATED LOSS: 24.7952146\n",
      "===========================================================\n"
     ]
    },
    {
     "name": "stderr",
     "output_type": "stream",
     "text": []
    },
    {
     "name": "stdout",
     "output_type": "stream",
     "text": [
      "Epoch batch [32/93] | Loss: 25.8438969\n"
     ]
    },
    {
     "name": "stderr",
     "output_type": "stream",
     "text": []
    },
    {
     "name": "stdout",
     "output_type": "stream",
     "text": [
      "Epoch batch [64/93] | Loss: 23.8227539\n"
     ]
    },
    {
     "name": "stderr",
     "output_type": "stream",
     "text": [
      ">>>>>>>>>>>>>>>>>>>>>\n",
      "Main Epoch (Outer Loop):  79%|███████▉  | 101/128 [02:06<00:33,  1.26s/it]"
     ]
    },
    {
     "name": "stdout",
     "output_type": "stream",
     "text": [
      "=====================  [EPOCH (100) LOGGING]  =====================\n",
      "| AVERAGES of THIS EPOCH:\n",
      "| ACCUMULATED LOSS: 24.5418865\n",
      "===========================================================\n"
     ]
    },
    {
     "name": "stderr",
     "output_type": "stream",
     "text": []
    },
    {
     "name": "stdout",
     "output_type": "stream",
     "text": [
      "Epoch batch [32/93] | Loss: 18.8646526\n"
     ]
    },
    {
     "name": "stderr",
     "output_type": "stream",
     "text": []
    },
    {
     "name": "stdout",
     "output_type": "stream",
     "text": [
      "Epoch batch [64/93] | Loss: 25.9511299\n"
     ]
    },
    {
     "name": "stderr",
     "output_type": "stream",
     "text": [
      ">>>>>>>>>>>>>>>>>>>>>\n",
      "Main Epoch (Outer Loop):  80%|███████▉  | 102/128 [02:08<00:32,  1.26s/it]"
     ]
    },
    {
     "name": "stdout",
     "output_type": "stream",
     "text": [
      "=====================  [EPOCH (101) LOGGING]  =====================\n",
      "| AVERAGES of THIS EPOCH:\n",
      "| ACCUMULATED LOSS: 24.6042360\n",
      "===========================================================\n"
     ]
    },
    {
     "name": "stderr",
     "output_type": "stream",
     "text": []
    },
    {
     "name": "stdout",
     "output_type": "stream",
     "text": [
      "Epoch batch [32/93] | Loss: 23.4891148\n"
     ]
    },
    {
     "name": "stderr",
     "output_type": "stream",
     "text": []
    },
    {
     "name": "stdout",
     "output_type": "stream",
     "text": [
      "Epoch batch [64/93] | Loss: 21.6104527\n"
     ]
    },
    {
     "name": "stderr",
     "output_type": "stream",
     "text": [
      ">>>>>>>>>>>>>>>>>>>>>\n",
      "Main Epoch (Outer Loop):  80%|████████  | 103/128 [02:09<00:31,  1.24s/it]"
     ]
    },
    {
     "name": "stdout",
     "output_type": "stream",
     "text": [
      "=====================  [EPOCH (102) LOGGING]  =====================\n",
      "| AVERAGES of THIS EPOCH:\n",
      "| ACCUMULATED LOSS: 24.7958726\n",
      "===========================================================\n"
     ]
    },
    {
     "name": "stderr",
     "output_type": "stream",
     "text": []
    },
    {
     "name": "stdout",
     "output_type": "stream",
     "text": [
      "Epoch batch [32/93] | Loss: 21.7295971\n"
     ]
    },
    {
     "name": "stderr",
     "output_type": "stream",
     "text": []
    },
    {
     "name": "stdout",
     "output_type": "stream",
     "text": [
      "Epoch batch [64/93] | Loss: 30.3461456\n"
     ]
    },
    {
     "name": "stderr",
     "output_type": "stream",
     "text": [
      ">>>>>>>>>>>>>>>>>>>>>\n",
      "Main Epoch (Outer Loop):  81%|████████▏ | 104/128 [02:10<00:30,  1.27s/it]"
     ]
    },
    {
     "name": "stdout",
     "output_type": "stream",
     "text": [
      "=====================  [EPOCH (103) LOGGING]  =====================\n",
      "| AVERAGES of THIS EPOCH:\n",
      "| ACCUMULATED LOSS: 24.6972763\n",
      "===========================================================\n",
      "===================  [Epoch (104/128)]  ===================\n",
      "Entire Validation Dataset Average Loss: 23.3745\n",
      "====================================================\n"
     ]
    },
    {
     "name": "stderr",
     "output_type": "stream",
     "text": []
    },
    {
     "name": "stdout",
     "output_type": "stream",
     "text": [
      "Epoch batch [32/93] | Loss: 19.9661369\n"
     ]
    },
    {
     "name": "stderr",
     "output_type": "stream",
     "text": []
    },
    {
     "name": "stdout",
     "output_type": "stream",
     "text": [
      "Epoch batch [64/93] | Loss: 20.5118275\n"
     ]
    },
    {
     "name": "stderr",
     "output_type": "stream",
     "text": [
      ">>>>>>>>>>>>>>>>>>>>>\n",
      "Main Epoch (Outer Loop):  82%|████████▏ | 105/128 [02:11<00:29,  1.27s/it]"
     ]
    },
    {
     "name": "stdout",
     "output_type": "stream",
     "text": [
      "=====================  [EPOCH (104) LOGGING]  =====================\n",
      "| AVERAGES of THIS EPOCH:\n",
      "| ACCUMULATED LOSS: 24.6003787\n",
      "===========================================================\n"
     ]
    },
    {
     "name": "stderr",
     "output_type": "stream",
     "text": [
      "\n"
     ]
    },
    {
     "name": "stdout",
     "output_type": "stream",
     "text": [
      "Epoch batch [32/93] | Loss: 25.3504295\n"
     ]
    },
    {
     "name": "stderr",
     "output_type": "stream",
     "text": [
      "Epoch 106/128 - Training:  51%|█████     | 47/93 [00:00<00:00, 77.46it/s]\u001b[A"
     ]
    },
    {
     "name": "stdout",
     "output_type": "stream",
     "text": [
      "Epoch batch [64/93] | Loss: 24.4170628\n"
     ]
    },
    {
     "name": "stderr",
     "output_type": "stream",
     "text": [
      ">>>>>>>>>>>>>>>>>>>>>\n",
      "Main Epoch (Outer Loop):  83%|████████▎ | 106/128 [02:13<00:27,  1.26s/it]"
     ]
    },
    {
     "name": "stdout",
     "output_type": "stream",
     "text": [
      "=====================  [EPOCH (105) LOGGING]  =====================\n",
      "| AVERAGES of THIS EPOCH:\n",
      "| ACCUMULATED LOSS: 24.6728938\n",
      "===========================================================\n"
     ]
    },
    {
     "name": "stderr",
     "output_type": "stream",
     "text": []
    },
    {
     "name": "stdout",
     "output_type": "stream",
     "text": [
      "Epoch batch [32/93] | Loss: 17.9649334\n"
     ]
    },
    {
     "name": "stderr",
     "output_type": "stream",
     "text": []
    },
    {
     "name": "stdout",
     "output_type": "stream",
     "text": [
      "Epoch batch [64/93] | Loss: 20.0679092\n"
     ]
    },
    {
     "name": "stderr",
     "output_type": "stream",
     "text": [
      ">>>>>>>>>>>>>>>>>>>>>\n",
      "Main Epoch (Outer Loop):  84%|████████▎ | 107/128 [02:14<00:26,  1.26s/it]"
     ]
    },
    {
     "name": "stdout",
     "output_type": "stream",
     "text": [
      "=====================  [EPOCH (106) LOGGING]  =====================\n",
      "| AVERAGES of THIS EPOCH:\n",
      "| ACCUMULATED LOSS: 24.6961052\n",
      "===========================================================\n"
     ]
    },
    {
     "name": "stderr",
     "output_type": "stream",
     "text": []
    },
    {
     "name": "stdout",
     "output_type": "stream",
     "text": [
      "Epoch batch [32/93] | Loss: 15.2401876\n"
     ]
    },
    {
     "name": "stderr",
     "output_type": "stream",
     "text": []
    },
    {
     "name": "stdout",
     "output_type": "stream",
     "text": [
      "Epoch batch [64/93] | Loss: 20.5540295\n"
     ]
    },
    {
     "name": "stderr",
     "output_type": "stream",
     "text": [
      ">>>>>>>>>>>>>>>>>>>>>\n",
      "Main Epoch (Outer Loop):  84%|████████▍ | 108/128 [02:15<00:25,  1.26s/it]"
     ]
    },
    {
     "name": "stdout",
     "output_type": "stream",
     "text": [
      "=====================  [EPOCH (107) LOGGING]  =====================\n",
      "| AVERAGES of THIS EPOCH:\n",
      "| ACCUMULATED LOSS: 24.7664605\n",
      "===========================================================\n"
     ]
    },
    {
     "name": "stderr",
     "output_type": "stream",
     "text": []
    },
    {
     "name": "stdout",
     "output_type": "stream",
     "text": [
      "Epoch batch [32/93] | Loss: 19.8945808\n"
     ]
    },
    {
     "name": "stderr",
     "output_type": "stream",
     "text": []
    },
    {
     "name": "stdout",
     "output_type": "stream",
     "text": [
      "Epoch batch [64/93] | Loss: 22.5965652\n"
     ]
    },
    {
     "name": "stderr",
     "output_type": "stream",
     "text": [
      ">>>>>>>>>>>>>>>>>>>>>\n",
      "Main Epoch (Outer Loop):  85%|████████▌ | 109/128 [02:17<00:23,  1.26s/it]"
     ]
    },
    {
     "name": "stdout",
     "output_type": "stream",
     "text": [
      "=====================  [EPOCH (108) LOGGING]  =====================\n",
      "| AVERAGES of THIS EPOCH:\n",
      "| ACCUMULATED LOSS: 24.5554681\n",
      "===========================================================\n"
     ]
    },
    {
     "name": "stderr",
     "output_type": "stream",
     "text": []
    },
    {
     "name": "stdout",
     "output_type": "stream",
     "text": [
      "Epoch batch [32/93] | Loss: 22.7835236\n"
     ]
    },
    {
     "name": "stderr",
     "output_type": "stream",
     "text": []
    },
    {
     "name": "stdout",
     "output_type": "stream",
     "text": [
      "Epoch batch [64/93] | Loss: 19.7339668\n"
     ]
    },
    {
     "name": "stderr",
     "output_type": "stream",
     "text": [
      ">>>>>>>>>>>>>>>>>>>>>\n",
      "Main Epoch (Outer Loop):  86%|████████▌ | 110/128 [02:18<00:22,  1.25s/it]"
     ]
    },
    {
     "name": "stdout",
     "output_type": "stream",
     "text": [
      "=====================  [EPOCH (109) LOGGING]  =====================\n",
      "| AVERAGES of THIS EPOCH:\n",
      "| ACCUMULATED LOSS: 24.6989470\n",
      "===========================================================\n"
     ]
    },
    {
     "name": "stderr",
     "output_type": "stream",
     "text": []
    },
    {
     "name": "stdout",
     "output_type": "stream",
     "text": [
      "Epoch batch [32/93] | Loss: 19.4326897\n"
     ]
    },
    {
     "name": "stderr",
     "output_type": "stream",
     "text": []
    },
    {
     "name": "stdout",
     "output_type": "stream",
     "text": [
      "Epoch batch [64/93] | Loss: 23.0732994\n"
     ]
    },
    {
     "name": "stderr",
     "output_type": "stream",
     "text": [
      ">>>>>>>>>>>>>>>>>>>>>\n",
      "Main Epoch (Outer Loop):  87%|████████▋ | 111/128 [02:19<00:21,  1.24s/it]"
     ]
    },
    {
     "name": "stdout",
     "output_type": "stream",
     "text": [
      "=====================  [EPOCH (110) LOGGING]  =====================\n",
      "| AVERAGES of THIS EPOCH:\n",
      "| ACCUMULATED LOSS: 24.7575918\n",
      "===========================================================\n"
     ]
    },
    {
     "name": "stderr",
     "output_type": "stream",
     "text": []
    },
    {
     "name": "stdout",
     "output_type": "stream",
     "text": [
      "Epoch batch [32/93] | Loss: 27.7834740\n"
     ]
    },
    {
     "name": "stderr",
     "output_type": "stream",
     "text": []
    },
    {
     "name": "stdout",
     "output_type": "stream",
     "text": [
      "Epoch batch [64/93] | Loss: 22.0118237\n"
     ]
    },
    {
     "name": "stderr",
     "output_type": "stream",
     "text": [
      ">>>>>>>>>>>>>>>>>>>>>\n",
      "Main Epoch (Outer Loop):  88%|████████▊ | 112/128 [02:20<00:20,  1.27s/it]"
     ]
    },
    {
     "name": "stdout",
     "output_type": "stream",
     "text": [
      "=====================  [EPOCH (111) LOGGING]  =====================\n",
      "| AVERAGES of THIS EPOCH:\n",
      "| ACCUMULATED LOSS: 24.5559527\n",
      "===========================================================\n",
      "===================  [Epoch (112/128)]  ===================\n",
      "Entire Validation Dataset Average Loss: 23.2726\n",
      "====================================================\n"
     ]
    },
    {
     "name": "stderr",
     "output_type": "stream",
     "text": []
    },
    {
     "name": "stdout",
     "output_type": "stream",
     "text": [
      "Epoch batch [32/93] | Loss: 29.5018463\n"
     ]
    },
    {
     "name": "stderr",
     "output_type": "stream",
     "text": []
    },
    {
     "name": "stdout",
     "output_type": "stream",
     "text": [
      "Epoch batch [64/93] | Loss: 27.6079369\n"
     ]
    },
    {
     "name": "stderr",
     "output_type": "stream",
     "text": [
      ">>>>>>>>>>>>>>>>>>>>>\n",
      "Main Epoch (Outer Loop):  88%|████████▊ | 113/128 [02:22<00:18,  1.27s/it]"
     ]
    },
    {
     "name": "stdout",
     "output_type": "stream",
     "text": [
      "=====================  [EPOCH (112) LOGGING]  =====================\n",
      "| AVERAGES of THIS EPOCH:\n",
      "| ACCUMULATED LOSS: 24.5909598\n",
      "===========================================================\n"
     ]
    },
    {
     "name": "stderr",
     "output_type": "stream",
     "text": []
    },
    {
     "name": "stdout",
     "output_type": "stream",
     "text": [
      "Epoch batch [32/93] | Loss: 24.6255379\n"
     ]
    },
    {
     "name": "stderr",
     "output_type": "stream",
     "text": []
    },
    {
     "name": "stdout",
     "output_type": "stream",
     "text": [
      "Epoch batch [64/93] | Loss: 17.6713734\n"
     ]
    },
    {
     "name": "stderr",
     "output_type": "stream",
     "text": [
      ">>>>>>>>>>>>>>>>>>>>>\n",
      "Main Epoch (Outer Loop):  89%|████████▉ | 114/128 [02:23<00:17,  1.26s/it]"
     ]
    },
    {
     "name": "stdout",
     "output_type": "stream",
     "text": [
      "=====================  [EPOCH (113) LOGGING]  =====================\n",
      "| AVERAGES of THIS EPOCH:\n",
      "| ACCUMULATED LOSS: 24.6140952\n",
      "===========================================================\n"
     ]
    },
    {
     "name": "stderr",
     "output_type": "stream",
     "text": []
    },
    {
     "name": "stdout",
     "output_type": "stream",
     "text": [
      "Epoch batch [32/93] | Loss: 17.7086563\n"
     ]
    },
    {
     "name": "stderr",
     "output_type": "stream",
     "text": []
    },
    {
     "name": "stdout",
     "output_type": "stream",
     "text": [
      "Epoch batch [64/93] | Loss: 24.6176510\n"
     ]
    },
    {
     "name": "stderr",
     "output_type": "stream",
     "text": [
      ">>>>>>>>>>>>>>>>>>>>>\n",
      "Main Epoch (Outer Loop):  90%|████████▉ | 115/128 [02:24<00:16,  1.24s/it]"
     ]
    },
    {
     "name": "stdout",
     "output_type": "stream",
     "text": [
      "=====================  [EPOCH (114) LOGGING]  =====================\n",
      "| AVERAGES of THIS EPOCH:\n",
      "| ACCUMULATED LOSS: 24.6159227\n",
      "===========================================================\n"
     ]
    },
    {
     "name": "stderr",
     "output_type": "stream",
     "text": []
    },
    {
     "name": "stdout",
     "output_type": "stream",
     "text": [
      "Epoch batch [32/93] | Loss: 36.3910561\n"
     ]
    },
    {
     "name": "stderr",
     "output_type": "stream",
     "text": []
    },
    {
     "name": "stdout",
     "output_type": "stream",
     "text": [
      "Epoch batch [64/93] | Loss: 19.9773045\n"
     ]
    },
    {
     "name": "stderr",
     "output_type": "stream",
     "text": [
      ">>>>>>>>>>>>>>>>>>>>>\n",
      "Main Epoch (Outer Loop):  91%|█████████ | 116/128 [02:25<00:15,  1.26s/it]"
     ]
    },
    {
     "name": "stdout",
     "output_type": "stream",
     "text": [
      "=====================  [EPOCH (115) LOGGING]  =====================\n",
      "| AVERAGES of THIS EPOCH:\n",
      "| ACCUMULATED LOSS: 24.6822110\n",
      "===========================================================\n"
     ]
    },
    {
     "name": "stderr",
     "output_type": "stream",
     "text": []
    },
    {
     "name": "stdout",
     "output_type": "stream",
     "text": [
      "Epoch batch [32/93] | Loss: 18.3352623\n"
     ]
    },
    {
     "name": "stderr",
     "output_type": "stream",
     "text": []
    },
    {
     "name": "stdout",
     "output_type": "stream",
     "text": [
      "Epoch batch [64/93] | Loss: 24.9914055\n"
     ]
    },
    {
     "name": "stderr",
     "output_type": "stream",
     "text": [
      ">>>>>>>>>>>>>>>>>>>>>\n",
      "Main Epoch (Outer Loop):  91%|█████████▏| 117/128 [02:27<00:13,  1.25s/it]"
     ]
    },
    {
     "name": "stdout",
     "output_type": "stream",
     "text": [
      "=====================  [EPOCH (116) LOGGING]  =====================\n",
      "| AVERAGES of THIS EPOCH:\n",
      "| ACCUMULATED LOSS: 24.6579593\n",
      "===========================================================\n"
     ]
    },
    {
     "name": "stderr",
     "output_type": "stream",
     "text": []
    },
    {
     "name": "stdout",
     "output_type": "stream",
     "text": [
      "Epoch batch [32/93] | Loss: 30.5900574\n"
     ]
    },
    {
     "name": "stderr",
     "output_type": "stream",
     "text": []
    },
    {
     "name": "stdout",
     "output_type": "stream",
     "text": [
      "Epoch batch [64/93] | Loss: 25.0715046\n"
     ]
    },
    {
     "name": "stderr",
     "output_type": "stream",
     "text": [
      ">>>>>>>>>>>>>>>>>>>>>\n",
      "Main Epoch (Outer Loop):  92%|█████████▏| 118/128 [02:28<00:12,  1.24s/it]"
     ]
    },
    {
     "name": "stdout",
     "output_type": "stream",
     "text": [
      "=====================  [EPOCH (117) LOGGING]  =====================\n",
      "| AVERAGES of THIS EPOCH:\n",
      "| ACCUMULATED LOSS: 24.6273398\n",
      "===========================================================\n"
     ]
    },
    {
     "name": "stderr",
     "output_type": "stream",
     "text": []
    },
    {
     "name": "stdout",
     "output_type": "stream",
     "text": [
      "Epoch batch [32/93] | Loss: 27.3478355\n"
     ]
    },
    {
     "name": "stderr",
     "output_type": "stream",
     "text": [
      "\n"
     ]
    },
    {
     "name": "stdout",
     "output_type": "stream",
     "text": [
      "Epoch batch [64/93] | Loss: 24.8212872\n"
     ]
    },
    {
     "name": "stderr",
     "output_type": "stream",
     "text": [
      ">>>>>>>>>>>>>>>>>>>>>ing:  85%|████████▍ | 79/93 [00:01<00:00, 77.72it/s]\u001b[A\n",
      "Main Epoch (Outer Loop):  93%|█████████▎| 119/128 [02:29<00:11,  1.25s/it]"
     ]
    },
    {
     "name": "stdout",
     "output_type": "stream",
     "text": [
      "=====================  [EPOCH (118) LOGGING]  =====================\n",
      "| AVERAGES of THIS EPOCH:\n",
      "| ACCUMULATED LOSS: 24.6393684\n",
      "===========================================================\n"
     ]
    },
    {
     "name": "stderr",
     "output_type": "stream",
     "text": []
    },
    {
     "name": "stdout",
     "output_type": "stream",
     "text": [
      "Epoch batch [32/93] | Loss: 20.0382214\n"
     ]
    },
    {
     "name": "stderr",
     "output_type": "stream",
     "text": []
    },
    {
     "name": "stdout",
     "output_type": "stream",
     "text": [
      "Epoch batch [64/93] | Loss: 24.6090965\n"
     ]
    },
    {
     "name": "stderr",
     "output_type": "stream",
     "text": [
      ">>>>>>>>>>>>>>>>>>>>>\n",
      "Main Epoch (Outer Loop):  94%|█████████▍| 120/128 [02:30<00:10,  1.28s/it]"
     ]
    },
    {
     "name": "stdout",
     "output_type": "stream",
     "text": [
      "=====================  [EPOCH (119) LOGGING]  =====================\n",
      "| AVERAGES of THIS EPOCH:\n",
      "| ACCUMULATED LOSS: 24.6277219\n",
      "===========================================================\n",
      "===================  [Epoch (120/128)]  ===================\n",
      "Entire Validation Dataset Average Loss: 23.1478\n",
      "====================================================\n"
     ]
    },
    {
     "name": "stderr",
     "output_type": "stream",
     "text": []
    },
    {
     "name": "stdout",
     "output_type": "stream",
     "text": [
      "Epoch batch [32/93] | Loss: 26.7502270\n"
     ]
    },
    {
     "name": "stderr",
     "output_type": "stream",
     "text": []
    },
    {
     "name": "stdout",
     "output_type": "stream",
     "text": [
      "Epoch batch [64/93] | Loss: 32.1070976\n"
     ]
    },
    {
     "name": "stderr",
     "output_type": "stream",
     "text": [
      ">>>>>>>>>>>>>>>>>>>>>\n",
      "Main Epoch (Outer Loop):  95%|█████████▍| 121/128 [02:32<00:08,  1.26s/it]"
     ]
    },
    {
     "name": "stdout",
     "output_type": "stream",
     "text": [
      "=====================  [EPOCH (120) LOGGING]  =====================\n",
      "| AVERAGES of THIS EPOCH:\n",
      "| ACCUMULATED LOSS: 24.6583287\n",
      "===========================================================\n"
     ]
    },
    {
     "name": "stderr",
     "output_type": "stream",
     "text": []
    },
    {
     "name": "stdout",
     "output_type": "stream",
     "text": [
      "Epoch batch [32/93] | Loss: 19.7823296\n"
     ]
    },
    {
     "name": "stderr",
     "output_type": "stream",
     "text": []
    },
    {
     "name": "stdout",
     "output_type": "stream",
     "text": [
      "Epoch batch [64/93] | Loss: 21.7613525\n"
     ]
    },
    {
     "name": "stderr",
     "output_type": "stream",
     "text": [
      ">>>>>>>>>>>>>>>>>>>>>\n",
      "Main Epoch (Outer Loop):  95%|█████████▌| 122/128 [02:33<00:07,  1.25s/it]"
     ]
    },
    {
     "name": "stdout",
     "output_type": "stream",
     "text": [
      "=====================  [EPOCH (121) LOGGING]  =====================\n",
      "| AVERAGES of THIS EPOCH:\n",
      "| ACCUMULATED LOSS: 24.6900276\n",
      "===========================================================\n"
     ]
    },
    {
     "name": "stderr",
     "output_type": "stream",
     "text": []
    },
    {
     "name": "stdout",
     "output_type": "stream",
     "text": [
      "Epoch batch [32/93] | Loss: 20.6895161\n"
     ]
    },
    {
     "name": "stderr",
     "output_type": "stream",
     "text": []
    },
    {
     "name": "stdout",
     "output_type": "stream",
     "text": [
      "Epoch batch [64/93] | Loss: 25.5783539\n"
     ]
    },
    {
     "name": "stderr",
     "output_type": "stream",
     "text": [
      ">>>>>>>>>>>>>>>>>>>>>\n",
      "Main Epoch (Outer Loop):  96%|█████████▌| 123/128 [02:34<00:06,  1.25s/it]"
     ]
    },
    {
     "name": "stdout",
     "output_type": "stream",
     "text": [
      "=====================  [EPOCH (122) LOGGING]  =====================\n",
      "| AVERAGES of THIS EPOCH:\n",
      "| ACCUMULATED LOSS: 24.6497467\n",
      "===========================================================\n"
     ]
    },
    {
     "name": "stderr",
     "output_type": "stream",
     "text": []
    },
    {
     "name": "stdout",
     "output_type": "stream",
     "text": [
      "Epoch batch [32/93] | Loss: 23.8654327\n"
     ]
    },
    {
     "name": "stderr",
     "output_type": "stream",
     "text": []
    },
    {
     "name": "stdout",
     "output_type": "stream",
     "text": [
      "Epoch batch [64/93] | Loss: 21.2945309\n"
     ]
    },
    {
     "name": "stderr",
     "output_type": "stream",
     "text": [
      ">>>>>>>>>>>>>>>>>>>>>\n",
      "Main Epoch (Outer Loop):  97%|█████████▋| 124/128 [02:35<00:04,  1.25s/it]"
     ]
    },
    {
     "name": "stdout",
     "output_type": "stream",
     "text": [
      "=====================  [EPOCH (123) LOGGING]  =====================\n",
      "| AVERAGES of THIS EPOCH:\n",
      "| ACCUMULATED LOSS: 24.5123287\n",
      "===========================================================\n"
     ]
    },
    {
     "name": "stderr",
     "output_type": "stream",
     "text": []
    },
    {
     "name": "stdout",
     "output_type": "stream",
     "text": [
      "Epoch batch [32/93] | Loss: 23.2009087\n"
     ]
    },
    {
     "name": "stderr",
     "output_type": "stream",
     "text": []
    },
    {
     "name": "stdout",
     "output_type": "stream",
     "text": [
      "Epoch batch [64/93] | Loss: 18.5969315\n"
     ]
    },
    {
     "name": "stderr",
     "output_type": "stream",
     "text": [
      ">>>>>>>>>>>>>>>>>>>>>\n",
      "Main Epoch (Outer Loop):  98%|█████████▊| 125/128 [02:37<00:03,  1.25s/it]"
     ]
    },
    {
     "name": "stdout",
     "output_type": "stream",
     "text": [
      "=====================  [EPOCH (124) LOGGING]  =====================\n",
      "| AVERAGES of THIS EPOCH:\n",
      "| ACCUMULATED LOSS: 24.5831907\n",
      "===========================================================\n"
     ]
    },
    {
     "name": "stderr",
     "output_type": "stream",
     "text": []
    },
    {
     "name": "stdout",
     "output_type": "stream",
     "text": [
      "Epoch batch [32/93] | Loss: 25.4509163\n"
     ]
    },
    {
     "name": "stderr",
     "output_type": "stream",
     "text": []
    },
    {
     "name": "stdout",
     "output_type": "stream",
     "text": [
      "Epoch batch [64/93] | Loss: 20.4156971\n"
     ]
    },
    {
     "name": "stderr",
     "output_type": "stream",
     "text": [
      ">>>>>>>>>>>>>>>>>>>>>\n",
      "Main Epoch (Outer Loop):  98%|█████████▊| 126/128 [02:38<00:02,  1.24s/it]"
     ]
    },
    {
     "name": "stdout",
     "output_type": "stream",
     "text": [
      "=====================  [EPOCH (125) LOGGING]  =====================\n",
      "| AVERAGES of THIS EPOCH:\n",
      "| ACCUMULATED LOSS: 24.5316083\n",
      "===========================================================\n"
     ]
    },
    {
     "name": "stderr",
     "output_type": "stream",
     "text": []
    },
    {
     "name": "stdout",
     "output_type": "stream",
     "text": [
      "Epoch batch [32/93] | Loss: 24.6167908\n"
     ]
    },
    {
     "name": "stderr",
     "output_type": "stream",
     "text": []
    },
    {
     "name": "stdout",
     "output_type": "stream",
     "text": [
      "Epoch batch [64/93] | Loss: 25.2693005\n"
     ]
    },
    {
     "name": "stderr",
     "output_type": "stream",
     "text": [
      ">>>>>>>>>>>>>>>>>>>>>\n",
      "Main Epoch (Outer Loop):  99%|█████████▉| 127/128 [02:39<00:01,  1.24s/it]"
     ]
    },
    {
     "name": "stdout",
     "output_type": "stream",
     "text": [
      "=====================  [EPOCH (126) LOGGING]  =====================\n",
      "| AVERAGES of THIS EPOCH:\n",
      "| ACCUMULATED LOSS: 24.6742848\n",
      "===========================================================\n"
     ]
    },
    {
     "name": "stderr",
     "output_type": "stream",
     "text": []
    },
    {
     "name": "stdout",
     "output_type": "stream",
     "text": [
      "Epoch batch [32/93] | Loss: 21.7075348\n"
     ]
    },
    {
     "name": "stderr",
     "output_type": "stream",
     "text": []
    },
    {
     "name": "stdout",
     "output_type": "stream",
     "text": [
      "Epoch batch [64/93] | Loss: 26.6786041\n"
     ]
    },
    {
     "name": "stderr",
     "output_type": "stream",
     "text": [
      ">>>>>>>>>>>>>>>>>>>>>\n",
      ">>>>>>>>>>>>>>>>>>>>>p): 100%|██████████| 128/128 [02:40<00:00,  1.28s/it]\n",
      "Main Epoch (Outer Loop): 100%|██████████| 128/128 [02:40<00:00,  1.26s/it]"
     ]
    },
    {
     "name": "stdout",
     "output_type": "stream",
     "text": [
      "=====================  [EPOCH (127) LOGGING]  =====================\n",
      "| AVERAGES of THIS EPOCH:\n",
      "| ACCUMULATED LOSS: 24.6481127\n",
      "===========================================================\n",
      "===================  [Epoch (128/128)]  ===================\n",
      "Entire Validation Dataset Average Loss: 23.2572\n",
      "====================================================\n"
     ]
    },
    {
     "name": "stderr",
     "output_type": "stream",
     "text": [
      "\n"
     ]
    }
   ],
   "source": [
    "trained_model, hist = train_model(model_config=model_config, train_dataloader=train_dataloader, validation_dataloader=validation_dataloader, epochs=128, learning_rate=0.001, max_grad_norm=1.0, log_iterations=32, eval_iterations=8)"
   ]
  },
  {
   "cell_type": "code",
   "execution_count": null,
   "id": "f568508e",
   "metadata": {},
   "outputs": [],
   "source": []
  }
 ],
 "metadata": {
  "kernelspec": {
   "display_name": "WP_env",
   "language": "python",
   "name": "python3"
  },
  "language_info": {
   "codemirror_mode": {
    "name": "ipython",
    "version": 3
   },
   "file_extension": ".py",
   "mimetype": "text/x-python",
   "name": "python",
   "nbconvert_exporter": "python",
   "pygments_lexer": "ipython3",
   "version": "3.10.18"
  }
 },
 "nbformat": 4,
 "nbformat_minor": 5
}
