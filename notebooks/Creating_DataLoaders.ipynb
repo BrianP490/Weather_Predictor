{
 "cells": [
  {
   "cell_type": "markdown",
   "id": "b1c7208c",
   "metadata": {},
   "source": [
    "# Creating DataLoaders"
   ]
  },
  {
   "cell_type": "markdown",
   "id": "38313aff",
   "metadata": {},
   "source": [
    "## Imports"
   ]
  },
  {
   "cell_type": "code",
   "execution_count": 1,
   "id": "10f3e599",
   "metadata": {},
   "outputs": [],
   "source": [
    "from importlib.metadata import version\n",
    "import pandas as pd\n",
    "import numpy as np\n",
    "import seaborn as sn\n",
    "from pathlib import Path\n",
    "import os\n",
    "import torch\n",
    "from torch.utils.data import Dataset, DataLoader"
   ]
  },
  {
   "cell_type": "markdown",
   "id": "1bbefac4",
   "metadata": {},
   "source": [
    "## Data Preparation"
   ]
  },
  {
   "cell_type": "code",
   "execution_count": 2,
   "id": "5ba3cf4c",
   "metadata": {},
   "outputs": [
    {
     "name": "stderr",
     "output_type": "stream",
     "text": [
      "c:\\Users\\brian\\miniconda3\\envs\\WP_env\\lib\\site-packages\\tqdm\\auto.py:21: TqdmWarning: IProgress not found. Please update jupyter and ipywidgets. See https://ipywidgets.readthedocs.io/en/stable/user_install.html\n",
      "  from .autonotebook import tqdm as notebook_tqdm\n"
     ]
    }
   ],
   "source": [
    "# Login using e.g. `huggingface-cli login` to access this dataset\n",
    "df = pd.read_csv(\"hf://datasets/MaxPrestige/CA_Weather_Fire_Dataset_Cleaned/Data/CA_Weather_Fire_Dataset_Cleaned.csv\")"
   ]
  },
  {
   "cell_type": "code",
   "execution_count": 3,
   "id": "e2cd8704",
   "metadata": {},
   "outputs": [
    {
     "data": {
      "text/html": [
       "<div>\n",
       "<style scoped>\n",
       "    .dataframe tbody tr th:only-of-type {\n",
       "        vertical-align: middle;\n",
       "    }\n",
       "\n",
       "    .dataframe tbody tr th {\n",
       "        vertical-align: top;\n",
       "    }\n",
       "\n",
       "    .dataframe thead th {\n",
       "        text-align: right;\n",
       "    }\n",
       "</style>\n",
       "<table border=\"1\" class=\"dataframe\">\n",
       "  <thead>\n",
       "    <tr style=\"text-align: right;\">\n",
       "      <th></th>\n",
       "      <th>DAY_OF_YEAR</th>\n",
       "      <th>MONTH</th>\n",
       "      <th>YEAR</th>\n",
       "      <th>SEASON</th>\n",
       "      <th>PRECIPITATION</th>\n",
       "      <th>LAGGED_PRECIPITATION</th>\n",
       "      <th>AVG_WIND_SPEED</th>\n",
       "      <th>LAGGED_AVG_WIND_SPEED</th>\n",
       "      <th>WIND_TEMP_RATIO</th>\n",
       "      <th>MIN_TEMP</th>\n",
       "      <th>TEMP_RANGE</th>\n",
       "      <th>FIRE_START_DAY</th>\n",
       "      <th>MAX_TEMP</th>\n",
       "    </tr>\n",
       "  </thead>\n",
       "  <tbody>\n",
       "    <tr>\n",
       "      <th>0</th>\n",
       "      <td>1.0</td>\n",
       "      <td>1.0</td>\n",
       "      <td>1984.0</td>\n",
       "      <td>1.0</td>\n",
       "      <td>0.0</td>\n",
       "      <td>0.0</td>\n",
       "      <td>4.70</td>\n",
       "      <td>4.700000</td>\n",
       "      <td>0.059494</td>\n",
       "      <td>51.0</td>\n",
       "      <td>28.0</td>\n",
       "      <td>0.0</td>\n",
       "      <td>79.0</td>\n",
       "    </tr>\n",
       "    <tr>\n",
       "      <th>1</th>\n",
       "      <td>2.0</td>\n",
       "      <td>1.0</td>\n",
       "      <td>1984.0</td>\n",
       "      <td>1.0</td>\n",
       "      <td>0.0</td>\n",
       "      <td>0.0</td>\n",
       "      <td>5.59</td>\n",
       "      <td>5.145000</td>\n",
       "      <td>0.078732</td>\n",
       "      <td>46.0</td>\n",
       "      <td>25.0</td>\n",
       "      <td>0.0</td>\n",
       "      <td>71.0</td>\n",
       "    </tr>\n",
       "    <tr>\n",
       "      <th>2</th>\n",
       "      <td>3.0</td>\n",
       "      <td>1.0</td>\n",
       "      <td>1984.0</td>\n",
       "      <td>1.0</td>\n",
       "      <td>0.0</td>\n",
       "      <td>0.0</td>\n",
       "      <td>5.37</td>\n",
       "      <td>5.220000</td>\n",
       "      <td>0.076714</td>\n",
       "      <td>47.0</td>\n",
       "      <td>23.0</td>\n",
       "      <td>0.0</td>\n",
       "      <td>70.0</td>\n",
       "    </tr>\n",
       "    <tr>\n",
       "      <th>3</th>\n",
       "      <td>4.0</td>\n",
       "      <td>1.0</td>\n",
       "      <td>1984.0</td>\n",
       "      <td>1.0</td>\n",
       "      <td>0.0</td>\n",
       "      <td>0.0</td>\n",
       "      <td>4.70</td>\n",
       "      <td>5.090000</td>\n",
       "      <td>0.061842</td>\n",
       "      <td>45.0</td>\n",
       "      <td>31.0</td>\n",
       "      <td>0.0</td>\n",
       "      <td>76.0</td>\n",
       "    </tr>\n",
       "    <tr>\n",
       "      <th>4</th>\n",
       "      <td>5.0</td>\n",
       "      <td>1.0</td>\n",
       "      <td>1984.0</td>\n",
       "      <td>1.0</td>\n",
       "      <td>0.0</td>\n",
       "      <td>0.0</td>\n",
       "      <td>5.14</td>\n",
       "      <td>5.100000</td>\n",
       "      <td>0.069459</td>\n",
       "      <td>49.0</td>\n",
       "      <td>25.0</td>\n",
       "      <td>0.0</td>\n",
       "      <td>74.0</td>\n",
       "    </tr>\n",
       "    <tr>\n",
       "      <th>...</th>\n",
       "      <td>...</td>\n",
       "      <td>...</td>\n",
       "      <td>...</td>\n",
       "      <td>...</td>\n",
       "      <td>...</td>\n",
       "      <td>...</td>\n",
       "      <td>...</td>\n",
       "      <td>...</td>\n",
       "      <td>...</td>\n",
       "      <td>...</td>\n",
       "      <td>...</td>\n",
       "      <td>...</td>\n",
       "      <td>...</td>\n",
       "    </tr>\n",
       "    <tr>\n",
       "      <th>14983</th>\n",
       "      <td>8.0</td>\n",
       "      <td>1.0</td>\n",
       "      <td>2025.0</td>\n",
       "      <td>1.0</td>\n",
       "      <td>0.0</td>\n",
       "      <td>0.0</td>\n",
       "      <td>10.51</td>\n",
       "      <td>6.485714</td>\n",
       "      <td>0.143973</td>\n",
       "      <td>53.0</td>\n",
       "      <td>20.0</td>\n",
       "      <td>0.0</td>\n",
       "      <td>73.0</td>\n",
       "    </tr>\n",
       "    <tr>\n",
       "      <th>14984</th>\n",
       "      <td>9.0</td>\n",
       "      <td>1.0</td>\n",
       "      <td>2025.0</td>\n",
       "      <td>1.0</td>\n",
       "      <td>0.0</td>\n",
       "      <td>0.0</td>\n",
       "      <td>4.92</td>\n",
       "      <td>6.550000</td>\n",
       "      <td>0.072353</td>\n",
       "      <td>46.0</td>\n",
       "      <td>22.0</td>\n",
       "      <td>0.0</td>\n",
       "      <td>68.0</td>\n",
       "    </tr>\n",
       "    <tr>\n",
       "      <th>14985</th>\n",
       "      <td>10.0</td>\n",
       "      <td>1.0</td>\n",
       "      <td>2025.0</td>\n",
       "      <td>1.0</td>\n",
       "      <td>0.0</td>\n",
       "      <td>0.0</td>\n",
       "      <td>3.58</td>\n",
       "      <td>6.327143</td>\n",
       "      <td>0.051143</td>\n",
       "      <td>46.0</td>\n",
       "      <td>24.0</td>\n",
       "      <td>0.0</td>\n",
       "      <td>70.0</td>\n",
       "    </tr>\n",
       "    <tr>\n",
       "      <th>14986</th>\n",
       "      <td>11.0</td>\n",
       "      <td>1.0</td>\n",
       "      <td>2025.0</td>\n",
       "      <td>1.0</td>\n",
       "      <td>0.0</td>\n",
       "      <td>0.0</td>\n",
       "      <td>NaN</td>\n",
       "      <td>6.561667</td>\n",
       "      <td>NaN</td>\n",
       "      <td>46.0</td>\n",
       "      <td>20.0</td>\n",
       "      <td>0.0</td>\n",
       "      <td>66.0</td>\n",
       "    </tr>\n",
       "    <tr>\n",
       "      <th>14987</th>\n",
       "      <td>12.0</td>\n",
       "      <td>1.0</td>\n",
       "      <td>2025.0</td>\n",
       "      <td>1.0</td>\n",
       "      <td>0.0</td>\n",
       "      <td>0.0</td>\n",
       "      <td>NaN</td>\n",
       "      <td>7.068000</td>\n",
       "      <td>NaN</td>\n",
       "      <td>46.0</td>\n",
       "      <td>23.0</td>\n",
       "      <td>0.0</td>\n",
       "      <td>69.0</td>\n",
       "    </tr>\n",
       "  </tbody>\n",
       "</table>\n",
       "<p>14988 rows × 13 columns</p>\n",
       "</div>"
      ],
      "text/plain": [
       "       DAY_OF_YEAR  MONTH    YEAR  SEASON  PRECIPITATION  \\\n",
       "0              1.0    1.0  1984.0     1.0            0.0   \n",
       "1              2.0    1.0  1984.0     1.0            0.0   \n",
       "2              3.0    1.0  1984.0     1.0            0.0   \n",
       "3              4.0    1.0  1984.0     1.0            0.0   \n",
       "4              5.0    1.0  1984.0     1.0            0.0   \n",
       "...            ...    ...     ...     ...            ...   \n",
       "14983          8.0    1.0  2025.0     1.0            0.0   \n",
       "14984          9.0    1.0  2025.0     1.0            0.0   \n",
       "14985         10.0    1.0  2025.0     1.0            0.0   \n",
       "14986         11.0    1.0  2025.0     1.0            0.0   \n",
       "14987         12.0    1.0  2025.0     1.0            0.0   \n",
       "\n",
       "       LAGGED_PRECIPITATION  AVG_WIND_SPEED  LAGGED_AVG_WIND_SPEED  \\\n",
       "0                       0.0            4.70               4.700000   \n",
       "1                       0.0            5.59               5.145000   \n",
       "2                       0.0            5.37               5.220000   \n",
       "3                       0.0            4.70               5.090000   \n",
       "4                       0.0            5.14               5.100000   \n",
       "...                     ...             ...                    ...   \n",
       "14983                   0.0           10.51               6.485714   \n",
       "14984                   0.0            4.92               6.550000   \n",
       "14985                   0.0            3.58               6.327143   \n",
       "14986                   0.0             NaN               6.561667   \n",
       "14987                   0.0             NaN               7.068000   \n",
       "\n",
       "       WIND_TEMP_RATIO  MIN_TEMP  TEMP_RANGE  FIRE_START_DAY  MAX_TEMP  \n",
       "0             0.059494      51.0        28.0             0.0      79.0  \n",
       "1             0.078732      46.0        25.0             0.0      71.0  \n",
       "2             0.076714      47.0        23.0             0.0      70.0  \n",
       "3             0.061842      45.0        31.0             0.0      76.0  \n",
       "4             0.069459      49.0        25.0             0.0      74.0  \n",
       "...                ...       ...         ...             ...       ...  \n",
       "14983         0.143973      53.0        20.0             0.0      73.0  \n",
       "14984         0.072353      46.0        22.0             0.0      68.0  \n",
       "14985         0.051143      46.0        24.0             0.0      70.0  \n",
       "14986              NaN      46.0        20.0             0.0      66.0  \n",
       "14987              NaN      46.0        23.0             0.0      69.0  \n",
       "\n",
       "[14988 rows x 13 columns]"
      ]
     },
     "execution_count": 3,
     "metadata": {},
     "output_type": "execute_result"
    }
   ],
   "source": [
    "df"
   ]
  },
  {
   "cell_type": "code",
   "execution_count": 4,
   "id": "ef0c6966",
   "metadata": {},
   "outputs": [],
   "source": [
    "# WEATHER_PATH_ORIGINAL = Path(\"../Data/CA_Weather_Fire_Dataset_1984-2025.csv\")     # Set the data source path\n",
    "WEATHER_DATA_CLEAN=\"CA_Weather_Fire_Dataset_Cleaned.csv\"\n",
    "WEATHER_DATA_CLEAN_PATH = Path(\"../Data\") / WEATHER_DATA_CLEAN"
   ]
  },
  {
   "cell_type": "code",
   "execution_count": 11,
   "id": "e98f011b",
   "metadata": {},
   "outputs": [],
   "source": [
    "DATA_SPLITS_DIR = Path(\"../Data/DataSplits\")"
   ]
  },
  {
   "cell_type": "code",
   "execution_count": 12,
   "id": "775b403c",
   "metadata": {},
   "outputs": [],
   "source": [
    "TRAIN_DATA_PATH = DATA_SPLITS_DIR / \"train.csv\"\n",
    "TEST_DATA_PATH = DATA_SPLITS_DIR / \"test.csv\"\n",
    "VALIDATION_DATA_PATH = DATA_SPLITS_DIR / \"val.csv\"\n"
   ]
  },
  {
   "cell_type": "code",
   "execution_count": 13,
   "id": "5a1546db",
   "metadata": {},
   "outputs": [],
   "source": [
    "os.makedirs(DATA_SPLITS_DIR, exist_ok=True)"
   ]
  },
  {
   "cell_type": "code",
   "execution_count": 5,
   "id": "03b1555b",
   "metadata": {},
   "outputs": [],
   "source": [
    "shuffled_data = df.sample(frac=1, random_state=42).reset_index(drop=True)"
   ]
  },
  {
   "cell_type": "code",
   "execution_count": 6,
   "id": "1fa61285",
   "metadata": {},
   "outputs": [],
   "source": [
    "num_samples = len(shuffled_data)\n",
    "train_size=.80\n",
    "test_size=.10\n",
    "val_size=.10\n",
    "\n",
    "train_index = int(num_samples * train_size)\n",
    "test_end_index = int(num_samples * (train_size + test_size))"
   ]
  },
  {
   "cell_type": "code",
   "execution_count": null,
   "id": "ccc70e7e",
   "metadata": {},
   "outputs": [],
   "source": [
    "train_data_frame = shuffled_data.iloc[:train_index]\n",
    "test_data_frame = shuffled_data.iloc[train_index:test_end_index]\n",
    "val_data_frame = shuffled_data.iloc[test_end_index:]"
   ]
  },
  {
   "cell_type": "code",
   "execution_count": 15,
   "id": "6e3ba996",
   "metadata": {},
   "outputs": [],
   "source": [
    "train_data_frame.to_csv(TRAIN_DATA_PATH, index=False)\n",
    "test_data_frame.to_csv(TEST_DATA_PATH, index=False)\n",
    "val_data_frame.to_csv(VALIDATION_DATA_PATH, index=False)"
   ]
  },
  {
   "cell_type": "code",
   "execution_count": 8,
   "id": "d4056970",
   "metadata": {},
   "outputs": [
    {
     "name": "stdout",
     "output_type": "stream",
     "text": [
      "length of train: 11990\n",
      "length of test: 1499\n",
      "length of val: 1499\n",
      "Sum: 14988\n"
     ]
    }
   ],
   "source": [
    "print(f\"length of train: {len(train_data_frame)}\")\n",
    "print(f\"length of test: {len(test_data_frame)}\")\n",
    "print(f\"length of val: {len(val_data_frame)}\")\n",
    "print(f\"Sum: {len(train_data_frame) +len(test_data_frame) + len(val_data_frame)}\")\n"
   ]
  },
  {
   "cell_type": "code",
   "execution_count": 9,
   "id": "61cc5f18",
   "metadata": {},
   "outputs": [],
   "source": [
    "class WeatherDataset(Dataset):\n",
    "    \"\"\"Dataset class For the CA Weather Fire Dataset\"\"\"\n",
    "    def __init__(self, csv_file=\"../Data/CA_Weather_Fire_Dataset_Cleaned.csv\"):\n",
    "        try:\n",
    "            self.data = pd.read_csv(csv_file)   # Assign a pandas data frame\n",
    "        except FileNotFoundError:\n",
    "            raise FileNotFoundError(f\"File not found: {csv_file}\")\n",
    "\n",
    "        # Define feature and label columns\n",
    "        self.feature_columns = self.data.columns.drop(\"MAX_TEMP\")\n",
    "        self.label_column = \"MAX_TEMP\"\n",
    "        \n",
    "\n",
    "    def __getitem__(self, index):\n",
    "        features = self.data.loc[index, self.feature_columns].values\n",
    "        \n",
    "        label = self.data.loc[index, self.label_column] # Extract the label for the given index\n",
    "        return (\n",
    "            torch.tensor(features, dtype=torch.float),\n",
    "            torch.tensor(label, dtype=torch.float)\n",
    "        )\n",
    "\n",
    "    def __len__(self):\n",
    "        return len(self.data)"
   ]
  },
  {
   "cell_type": "code",
   "execution_count": 16,
   "id": "1e3ad57a",
   "metadata": {},
   "outputs": [],
   "source": [
    "train_dataset = WeatherDataset(TRAIN_DATA_PATH)\n",
    "test_dataset = WeatherDataset(TEST_DATA_PATH)\n",
    "val_dataset = WeatherDataset(VALIDATION_DATA_PATH)\n"
   ]
  },
  {
   "cell_type": "code",
   "execution_count": 20,
   "id": "1cec293c",
   "metadata": {},
   "outputs": [],
   "source": [
    "batch_size=64\n",
    "num_workers=0\n",
    "pin_memory=True\n",
    "drop_last=True"
   ]
  },
  {
   "cell_type": "code",
   "execution_count": null,
   "id": "d86fb745",
   "metadata": {},
   "outputs": [],
   "source": [
    "train_dataloader = DataLoader(dataset=train_dataset, batch_size=batch_size, num_workers=num_workers, pin_memory=pin_memory, drop_last=drop_last, shuffle=True)\n",
    "test_dataloader = DataLoader(dataset=test_dataset, batch_size=batch_size, num_workers=num_workers, pin_memory=pin_memory, drop_last=drop_last)\n",
    "val_dataloader = DataLoader(dataset=val_dataset, batch_size=batch_size, num_workers=num_workers, pin_memory=pin_memory, drop_last=drop_last)"
   ]
  },
  {
   "cell_type": "code",
   "execution_count": null,
   "id": "81904364",
   "metadata": {},
   "outputs": [],
   "source": []
  }
 ],
 "metadata": {
  "kernelspec": {
   "display_name": "WP_env",
   "language": "python",
   "name": "python3"
  },
  "language_info": {
   "codemirror_mode": {
    "name": "ipython",
    "version": 3
   },
   "file_extension": ".py",
   "mimetype": "text/x-python",
   "name": "python",
   "nbconvert_exporter": "python",
   "pygments_lexer": "ipython3",
   "version": "3.10.18"
  }
 },
 "nbformat": 4,
 "nbformat_minor": 5
}
