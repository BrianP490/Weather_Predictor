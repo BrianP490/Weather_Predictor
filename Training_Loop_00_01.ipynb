{
 "cells": [
  {
   "cell_type": "markdown",
   "id": "b1c7208c",
   "metadata": {},
   "source": [
    "# Creating Training Loop"
   ]
  },
  {
   "cell_type": "markdown",
   "id": "a5d4ff82",
   "metadata": {},
   "source": [
    "## VERSIONS\n",
    "- 00_02: \n",
    "    - Cleanup Testing\n",
    "- 00_01: \n",
    "    - Diagnosing Exploding Gradients\n",
    "- 00_00: \n",
    "    - Initial Version"
   ]
  },
  {
   "cell_type": "markdown",
   "id": "38313aff",
   "metadata": {},
   "source": [
    "## Imports"
   ]
  },
  {
   "cell_type": "code",
   "execution_count": 1,
   "id": "10f3e599",
   "metadata": {},
   "outputs": [],
   "source": [
    "# from importlib.metadata import version\n",
    "import pandas as pd\n",
    "# import seaborn as sn\n",
    "from pathlib import Path\n",
    "import os\n",
    "import torch\n",
    "from torch.utils.data import Dataset, DataLoader\n",
    "from tqdm import tqdm\n",
    "from torch.nn import Module # For type hinting\n",
    "from sklearn.model_selection import train_test_split\n",
    "from sklearn.preprocessing import StandardScaler\n",
    "import joblib\n",
    "import time\n",
    "import argparse"
   ]
  },
  {
   "cell_type": "markdown",
   "id": "1bbefac4",
   "metadata": {},
   "source": [
    "## Data Preparation"
   ]
  },
  {
   "cell_type": "markdown",
   "id": "20070b14",
   "metadata": {},
   "source": [
    "### Custom Dataset"
   ]
  },
  {
   "cell_type": "code",
   "execution_count": 2,
   "id": "b348b750",
   "metadata": {},
   "outputs": [],
   "source": [
    "class WeatherDataset(Dataset):\n",
    "    \"\"\"Dataset class For the CA Weather Fire Dataset\"\"\"\n",
    "    def __init__(self, csv_file=\"./Data/CA_Weather_Fire_Dataset_Cleaned.csv\"):\n",
    "        try:\n",
    "            self.data = pd.read_csv(csv_file)   # Assign a pandas data frame\n",
    "        except FileNotFoundError:\n",
    "            raise FileNotFoundError(f\"File not found: {csv_file}\")\n",
    "\n",
    "        # Define feature and label columns\n",
    "        self.feature_columns = self.data.columns.drop(\"MAX_TEMP\")\n",
    "        self.label_column = \"MAX_TEMP\"\n",
    "\n",
    "    def __getitem__(self, index):\n",
    "        features = self.data.loc[index, self.feature_columns].values\n",
    "        \n",
    "        label = self.data.loc[index, self.label_column] # Extract the label for the given index\n",
    "        return (\n",
    "            torch.tensor(features, dtype=torch.float),\n",
    "            torch.tensor(label, dtype=torch.float)\n",
    "        )\n",
    "\n",
    "    def __len__(self):\n",
    "        return len(self.data)"
   ]
  },
  {
   "cell_type": "markdown",
   "id": "a9e2bb08",
   "metadata": {},
   "source": [
    "### Data Pipeline"
   ]
  },
  {
   "cell_type": "code",
   "execution_count": 3,
   "id": "81904364",
   "metadata": {},
   "outputs": [],
   "source": [
    "def data_pipeline(root_data_dir: str= \"./Data\", data_file_path: str=\"CA_Weather_Fire_Dataset_Cleaned.csv\", data_splits_dir: str=\"DataSplits\", batch_size: int=64, num_workers=0, pin_memory: bool=False, drop_last: bool=True) -> tuple[Dataset, Dataset, Dataset, DataLoader, DataLoader, DataLoader, StandardScaler]:\n",
    "    \"\"\"This function prepares the train, test, and validation datasets.\n",
    "    Args:\n",
    "        root_data_dir (str): The root of the Data Directory\n",
    "        data_file_path (str): The name of the original dataset (with .csv file extension).\n",
    "        data_splits_dir (str): Path to the train, test, and validation datasets.\n",
    "        batch_size (int): The dataloader's batch_size.\n",
    "        num_workers (int): The dataloader's number of workers.\n",
    "        pin_memory (bool): The dataloader's pin memory option.\n",
    "        drop_last (bool): The dataloader's drop_last option.\n",
    "\n",
    "    Returns: \n",
    "        train_dataset (Dataset): Dataset Class for the training dataset.\n",
    "        test_dataset (Dataset): Dataset Class for the test dataset.\n",
    "        validation_dataset (Dataset): Dataset Class for the validation dataset.\n",
    "        train_dataloader (DataLoader): The train dataloader.\n",
    "        test_dataloader (DataLoader): The test dataloader.\n",
    "        validation_dataloader (DataLoader): The validation dataloader.\n",
    "        scaler (StandardScaler): The scaler used to scale the features of the model input.\n",
    "        \"\"\"\n",
    "    \n",
    "    if not root_data_dir or not data_file_path or not data_splits_dir:  # Check for empty strings at the beginning\n",
    "        raise ValueError(\"File and directory paths cannot be empty strings.\")\n",
    "    print(f\"root_data_dir: {root_data_dir}\")\n",
    "    WEATHER_DATA_DIR = Path(root_data_dir)                  # Set the Data Root Directory\n",
    "\n",
    "    WEATHER_DATA_CLEAN_PATH = WEATHER_DATA_DIR / data_file_path # Set the path to the complete dataset\n",
    "\n",
    "    if WEATHER_DATA_CLEAN_PATH.exists():\n",
    "        print(f\"CSV file detected, reading from {WEATHER_DATA_CLEAN_PATH}\")\n",
    "        df = pd.read_csv(WEATHER_DATA_CLEAN_PATH)\n",
    "    else:\n",
    "        print(f\"Downloading csv file from HuggingFace\")\n",
    "        try:\n",
    "            df = pd.read_csv(\"hf://datasets/MaxPrestige/CA_Weather_Fire_Dataset_Cleaned/Data/CA_Weather_Fire_Dataset_Cleaned.csv\")  # Download and read the data into a pandas dataframe\n",
    "            os.makedirs(WEATHER_DATA_DIR, exist_ok=True)        # Create the Data Root Directory\n",
    "            df.to_csv(WEATHER_DATA_CLEAN_PATH, index=False)     # Save the file, omitting saving the index\n",
    "        except Exception as e:\n",
    "            raise RuntimeError(f\"An unexpected error occurred during data download or saving: {e}\")\n",
    "    \n",
    "    DATA_SPLITS_DIR = WEATHER_DATA_DIR / data_splits_dir\n",
    "    TRAIN_DATA_PATH = DATA_SPLITS_DIR / \"train.csv\"\n",
    "    TEST_DATA_PATH = DATA_SPLITS_DIR / \"test.csv\"\n",
    "    VALIDATION_DATA_PATH = DATA_SPLITS_DIR / \"val.csv\"\n",
    "    SCALER_PATH = DATA_SPLITS_DIR / \"scaler.joblib\"\n",
    "\n",
    "    features = ['DAY_OF_YEAR', 'PRECIPITATION', 'LAGGED_PRECIPITATION', 'AVG_WIND_SPEED', 'MIN_TEMP']\n",
    "    # features = ['PRECIPITATION','AVG_WIND_SPEED', 'MIN_TEMP']\n",
    "    \n",
    "    target = 'MAX_TEMP'\n",
    "\n",
    "    if os.path.exists(TRAIN_DATA_PATH) and os.path.exists(TEST_DATA_PATH) and os.path.exists(VALIDATION_DATA_PATH) :\n",
    "        print(f\"Train, Test, and Validation csv datasets detected in '{DATA_SPLITS_DIR}', skipping generation\")\n",
    "        scaler = joblib.load(SCALER_PATH)\n",
    "    else:\n",
    "        print(f\"Datasets not found in '{DATA_SPLITS_DIR}' or incomplete. Generating datasets...\")\n",
    "        os.makedirs(DATA_SPLITS_DIR, exist_ok=True)     # Create the Data Splits Parent Directory\n",
    "        features = ['DAY_OF_YEAR', 'PRECIPITATION', 'LAGGED_PRECIPITATION', 'AVG_WIND_SPEED', 'MIN_TEMP']\n",
    "        X = df[features]\n",
    "        y = df[target]\n",
    "\n",
    "        # split your data before scaling, shuffling the data\n",
    "        X_train, X_temp, y_train, y_temp = train_test_split(X, y, test_size=0.2, random_state=42)\n",
    "        X_test, X_validation, y_test, y_validation = train_test_split(X_temp, y_temp, test_size=0.5, random_state=42)\n",
    "\n",
    "        # Initialize the StandardScaler\n",
    "        scaler = StandardScaler()\n",
    "\n",
    "        # Fit the scaler on the training data ONLY. Need to use the scaler on all inputs that the model receives.\n",
    "        # This means the mean and standard deviation are calculated from the training set.\n",
    "        scaler.fit(X_train)\n",
    "\n",
    "        # Transform the training, validation, and test data using the fitted scaler\n",
    "        X_train_scaled = scaler.transform(X_train)\n",
    "        X_test_scaled = scaler.transform(X_test)\n",
    "        X_validation_scaled = scaler.transform(X_validation)\n",
    "\n",
    "        # Save the fitted scaler object\n",
    "        try:\n",
    "            joblib.dump(scaler, SCALER_PATH)\n",
    "            print(f\"Input scaler stored in: ({SCALER_PATH})\")\n",
    "        except Exception as e:\n",
    "            raise RuntimeError(f\"An unexpected error occurred when saving Scaler: {e}\")\n",
    "\n",
    "        X_train_df = pd.DataFrame(X_train_scaled, columns=features)\n",
    "        X_test_df = pd.DataFrame(X_test_scaled, columns=features)\n",
    "        X_validation_df = pd.DataFrame(X_validation_scaled, columns=features)\n",
    "\n",
    "        # Concatenate the features and labels back into a single DataFrame for each set\n",
    "        train_data_frame = pd.concat([X_train_df, y_train.reset_index(drop=True)], axis=1)\n",
    "        test_data_frame = pd.concat([X_test_df, y_test.reset_index(drop=True)], axis=1)\n",
    "        validation_data_frame = pd.concat([X_validation_df, y_validation.reset_index(drop=True)], axis=1)\n",
    "\n",
    "        # Saving the split data to csv files\n",
    "        train_data_frame.to_csv(TRAIN_DATA_PATH, index=False)\n",
    "        test_data_frame.to_csv(TEST_DATA_PATH, index=False)\n",
    "        validation_data_frame.to_csv(VALIDATION_DATA_PATH, index=False)\n",
    "\n",
    "    print(f\"Initializing DataLoaders and Returning\")\n",
    "    # Initialize the Different Datasets\n",
    "    train_dataset = WeatherDataset(TRAIN_DATA_PATH)\n",
    "    test_dataset = WeatherDataset(TEST_DATA_PATH)\n",
    "    validation_dataset = WeatherDataset(VALIDATION_DATA_PATH)\n",
    "    # Initialize the Different DataLoaders using the Datasets\n",
    "    print(f\"Creating DataLoaders with batch_size ({batch_size}), num_workers ({num_workers}), pin_memory ({pin_memory}). Training dataset drop_last: ({drop_last})\")\n",
    "    train_dataloader = DataLoader(dataset=train_dataset, batch_size=batch_size, num_workers=num_workers, pin_memory=pin_memory, drop_last=drop_last, shuffle=True)\n",
    "    test_dataloader = DataLoader(dataset=test_dataset, batch_size=batch_size, num_workers=num_workers, pin_memory=pin_memory, drop_last=drop_last)\n",
    "    validation_dataloader = DataLoader(dataset=validation_dataset, batch_size=batch_size, num_workers=num_workers, pin_memory=pin_memory, drop_last=drop_last)\n",
    "\n",
    "    print(f\"Training DataLoader has ({len(train_dataloader)}) batches, Test DataLoader has ({len(test_dataloader)}) batches, Validation DataLoader has ({len(validation_dataloader)}) batches\")\n",
    "    \n",
    "    return (train_dataset, test_dataset, validation_dataset, train_dataloader, test_dataloader, validation_dataloader, scaler)\n",
    "        "
   ]
  },
  {
   "cell_type": "markdown",
   "id": "305fc881",
   "metadata": {},
   "source": [
    "## Agent Architecture"
   ]
  },
  {
   "cell_type": "markdown",
   "id": "982c2145",
   "metadata": {},
   "source": [
    "### Layer Block"
   ]
  },
  {
   "cell_type": "code",
   "execution_count": 4,
   "id": "c03975dc",
   "metadata": {},
   "outputs": [],
   "source": [
    "class LayerBlock(torch.nn.Module):\n",
    "    \"\"\"Class for the individual layer blocks.\"\"\"\n",
    "    def __init__(self, intermediate_dim=32, dropout_rate=0.1):\n",
    "        super().__init__()\n",
    "        self.Layer1 = torch.nn.Linear(in_features=intermediate_dim, out_features=intermediate_dim)\n",
    "        self.Layer_Norm1 = torch.nn.LayerNorm(normalized_shape=intermediate_dim)\n",
    "        self.ReLu = torch.nn.ReLU()\n",
    "        self.dropout = torch.nn.Dropout(p=dropout_rate)\n",
    "\n",
    "    def forward(self, x):\n",
    "        x = self.Layer1(x)\n",
    "        x = self.Layer_Norm1(x)\n",
    "        x = self.ReLu(x)\n",
    "        x = self.dropout(x)\n",
    "        return x"
   ]
  },
  {
   "cell_type": "markdown",
   "id": "48d1f835",
   "metadata": {},
   "source": [
    "### Weather Agent"
   ]
  },
  {
   "cell_type": "code",
   "execution_count": 5,
   "id": "c24ad4b0",
   "metadata": {},
   "outputs": [],
   "source": [
    "class WeatherAgent(torch.nn.Module):\n",
    "    \"\"\"Class for Agent Structure using multiple Layer Blocks.\"\"\"\n",
    "    def __init__(self, cfg):\n",
    "        super().__init__()\n",
    "        self.L1 = torch.nn.Linear(in_features=cfg[\"in_dim\"], out_features=cfg[\"intermediate_dim\"])\n",
    "        \n",
    "        self.Layers = torch.nn.Sequential(\n",
    "            *[LayerBlock(intermediate_dim=cfg[\"intermediate_dim\"], dropout_rate=cfg[\"dropout_rate\"]) for _ in range(cfg[\"num_blocks\"])]\n",
    "        )\n",
    "        self.out = torch.nn.Linear(in_features=cfg[\"intermediate_dim\"], out_features=cfg[\"out_dim\"])\n",
    "\n",
    "    def forward(self, x):\n",
    "        x = self.L1(x)\n",
    "        x = self.Layers(x)\n",
    "        x = self.out(x)\n",
    "        return x"
   ]
  },
  {
   "cell_type": "markdown",
   "id": "c3b962ab",
   "metadata": {},
   "source": [
    "## Main"
   ]
  },
  {
   "cell_type": "markdown",
   "id": "34bdd5d1",
   "metadata": {},
   "source": [
    "### Log Iteration Functions"
   ]
  },
  {
   "cell_type": "code",
   "execution_count": 6,
   "id": "c99dfaeb",
   "metadata": {},
   "outputs": [],
   "source": [
    "def log_iteration(batch_idx: int, total_batches: int, loss_value: float):\n",
    "    \"\"\"Logs the loss of the current batch.\"\"\"\n",
    "    print(f\"Epoch batch [{batch_idx}/{total_batches}] | Loss: {loss_value:.7f}\")"
   ]
  },
  {
   "cell_type": "code",
   "execution_count": 7,
   "id": "dda76fc2",
   "metadata": {},
   "outputs": [],
   "source": [
    "def log_epoch_iteration(epoch: int, avg_epoch_loss: float):\n",
    "    \"\"\"Log Current Metrics accumulated in the current epoch iteration.\n",
    "    Args:\n",
    "        epoch (int): the current iteration\n",
    "        avg_epoch_loss (float): The average loss of the current epoch\n",
    "    Returns:\n",
    "        N/A\n",
    "        \"\"\"\n",
    "    if avg_epoch_loss:\n",
    "        print(f\"=====================  [EPOCH ({epoch}) LOGGING]  =====================\")\n",
    "        print(\"| AVERAGES of THIS EPOCH:\")\n",
    "        print(f\"| ACCUMULATED LOSS: {avg_epoch_loss:.7f}\")\n",
    "        print(f\"===========================================================\")\n",
    "    \n",
    "    else:\n",
    "        print(\"No Data collected for this epoch to log\")"
   ]
  },
  {
   "cell_type": "markdown",
   "id": "f752b4c1",
   "metadata": {},
   "source": [
    "### Evaluate Model Function"
   ]
  },
  {
   "cell_type": "code",
   "execution_count": 8,
   "id": "41ec95e5",
   "metadata": {},
   "outputs": [],
   "source": [
    "def evaluate_model(model: Module, dataloader: DataLoader, current_epoch: int = None, max_epochs: int=None, device: str = 'cpu') -> float:\n",
    "    \"\"\"\n",
    "    Evaluates the model on a given dataset and returns the average loss.\n",
    "    Args:\n",
    "        model (Module): The Model.\n",
    "        dataloader (DataLoader): The dataloader to calculate average loss with.\n",
    "        current_epoch (int): The current epoch [optional].\n",
    "        max_epochs (int): The maximum number of epochs [optional].\n",
    "        device (str): The device that the calculations will take place on.\n",
    "    Returns:\n",
    "        avg_loss (float): The calculated average loss.\n",
    "    \"\"\"\n",
    "    model.eval()\n",
    "    total_loss = 0.0\n",
    "    # loss_fn = torch.nn.MELoss(reduction='sum') # Use reduction='sum' instead of 'mean' for total loss\n",
    "    loss_fn = torch.nn.L1Loss(reduction='sum')\n",
    "    if len(dataloader.dataset) == 0:\n",
    "        print(\"Warning: Evaluation dataset is empty. Skipping evaluation.\")\n",
    "        return float('nan')\n",
    "    \n",
    "    with torch.no_grad():\n",
    "        for batch_inputs, batch_labels in dataloader:\n",
    "            batch_inputs, batch_labels = batch_inputs.to(device), batch_labels.unsqueeze(dim=-1).to(device)\n",
    "            outputs = model(batch_inputs)\n",
    "            loss = loss_fn(outputs, batch_labels)\n",
    "            total_loss += loss.item()\n",
    "    \n",
    "    avg_loss = total_loss / len(dataloader.dataset)     # Calculate the average loss on the dataset\n",
    "\n",
    "    if current_epoch and max_epochs:   # If the function was called in the training loop\n",
    "        print(f\"===================  [Epoch ({current_epoch}/{max_epochs})]  ===================\")\n",
    "        print(f\"Entire Validation Dataset Average Loss: {avg_loss:.4f}\")\n",
    "        print(f\"====================================================\")\n",
    "\n",
    "    else:   # If the function was called outside of the training loop\n",
    "        print(f\"===============================================\")\n",
    "        print(f\"Entire Dataset Average Loss: {avg_loss:.4f} \")\n",
    "        print(f\"=====================================================\")\n",
    "            \n",
    "    return avg_loss"
   ]
  },
  {
   "cell_type": "markdown",
   "id": "af6255bf",
   "metadata": {},
   "source": [
    "### Train Model Function"
   ]
  },
  {
   "cell_type": "code",
   "execution_count": 10,
   "id": "2d4a2657",
   "metadata": {},
   "outputs": [],
   "source": [
    "def train_model(model_config: dict, train_dataloader: DataLoader, validation_dataloader: DataLoader, model: WeatherAgent = None, epochs=32, learning_rate=0.0003, max_grad_norm=0.5, log_iterations=10, eval_iterations=10, device=\"cpu\") -> WeatherAgent:\n",
    "    \"\"\"The Model Training function.\n",
    "\n",
    "    Args:\n",
    "        model_config (dict): The base configurations for building the policies.\n",
    "        train_dataloader (DataLoader): The dataloader for the training loop.\n",
    "        validation_dataloader (DataLoader): The dataloader for the validation loop.\n",
    "        model (WeatherAgent): The model to be trained.\n",
    "        epochs (int): The number of times the outer loop is performed.\n",
    "        learning_rate (float): The hyperparameter that affects how much the model's parameters learn on each update iteration.\n",
    "        max_grad_norm (float): Used to promote numerical stability and prevent exploding gradients.\n",
    "        log_iterations (int): Used to log information about the state of the Agent.\n",
    "        eval_iterations (int): Used to run an evaluation of the Agent.\n",
    "        device (str): The device that the model will be trained on.\n",
    "\n",
    "    Returns: \n",
    "        agent (Module): The Trained Model in evaluation mode.\n",
    "    \"\"\"\n",
    "    print(f\"Training Model on {device} with {epochs} main epochs, {learning_rate} learning rate, max_grad_norm={max_grad_norm}.\")\n",
    "    print(f\"Logging every {log_iterations} epoch iterations, evaluating every {eval_iterations} epoch iterations.\")\n",
    "\n",
    "    agent = (model if model is not None else WeatherAgent(model_config)).to(device) # Create agent if nothing was passed, otherwise, create the agent. Send agent to device.\n",
    "\n",
    "    optimizer = torch.optim.AdamW(params=agent.parameters(), lr=learning_rate, weight_decay=0.01)\n",
    "    loss_fn = torch.nn.L1Loss(reduction='mean')      # Define the Loss function\n",
    "\n",
    "\n",
    "    history = {'train_loss': [], 'val_loss': []}\n",
    "\n",
    "    train_dataloader_length = len(train_dataloader)\n",
    "    agent.train()   # Set agent to training mode\n",
    "    for epoch in tqdm(range(epochs), desc=f\">>>>>>>>>>>>>>>>>>>>>\\nMain Epoch (Outer Loop)\", leave=True):\n",
    "\n",
    "        epoch_loss_total = 0.0\n",
    "        for batch_idx, (inputs, labels) in enumerate(tqdm(train_dataloader, desc=f\"Epoch {epoch + 1}/{epochs} - Training\", leave=False)):           # Get a mini-batch of training examples from the dataloader\n",
    "            # optimizer.zero_grad(set_to_none=True)       # Clear the gradients built up; Setting to None to improve performance\n",
    "            optimizer.zero_grad()       # Clear the gradients built up; Setting to None to improve performance\n",
    "\n",
    "            inputs, labels = inputs.to(device), labels.unsqueeze(dim=-1).to(device)   # Move the inputs and labels to the device\n",
    "\n",
    "            agent_outputs = agent(inputs)       # Pass the inputs to the model and get the outputs.\n",
    "\n",
    "            loss = loss_fn(agent_outputs, labels)      # Calculate the mini-batch loss\n",
    "            epoch_loss_total += loss.item()\n",
    "            \n",
    "            loss.backward()         # Calculate the loss with respect to the model parameters\n",
    "            torch.nn.utils.clip_grad_norm_(parameters=agent.parameters(), max_norm=max_grad_norm)   # Prevent the gradients from affecting the model parameters too much and reduce the risk of exploding gradients\n",
    "\n",
    "            optimizer.step()      # Update the model's parameters using the learning rate\n",
    "\n",
    "            # LOGGING LOSS OF CURRENT ITERATION\n",
    "            if (batch_idx + 1) % log_iterations == 0:\n",
    "                log_iteration(batch_idx=(batch_idx + 1), total_batches=train_dataloader_length, loss_value=loss.item())\n",
    "\n",
    "        # CALCULATE AND STORE THE AVERAGE EPOCH LOSS\n",
    "        epoch_avg_loss = epoch_loss_total / train_dataloader_length\n",
    "        history[\"train_loss\"].append(epoch_avg_loss)\n",
    "\n",
    "        # LOG THE AVERAGE LOSS OF THE EPOCH\n",
    "        log_epoch_iteration(epoch=epoch, avg_epoch_loss=epoch_avg_loss)\n",
    "\n",
    "        # EVALUATE THE MODEL\n",
    "        if (epoch + 1) % eval_iterations == 0:\n",
    "            val_loss = evaluate_model(model=agent, dataloader=validation_dataloader, current_epoch=(epoch + 1), max_epochs=epochs, device=device)\n",
    "            history[\"val_loss\"].append(val_loss)\n",
    "            agent.train()   # Set agent to training mode\n",
    "        \n",
    "    return agent.eval(), history"
   ]
  },
  {
   "cell_type": "markdown",
   "id": "4728d3db",
   "metadata": {},
   "source": [
    "## Main Loop"
   ]
  },
  {
   "cell_type": "code",
   "execution_count": null,
   "id": "9396d0d9",
   "metadata": {},
   "outputs": [],
   "source": [
    "def main(args) -> int:\n",
    "    print(\"SETTING UP FOR TRAINING\")\n",
    "    \n",
    "    if args.device:     # Check if the user specified to use a CPU or GPU for training\n",
    "        device = args.device\n",
    "    else:\n",
    "        if args.use_cuda:   # Check if the user wanted to use CUDA if available.\n",
    "            device = torch.device(\"cuda\" if torch.cuda.is_available() else \"cpu\")\n",
    "\n",
    "    SAVE_LOCATION = \"./models/Weather-Agent.pt\"   # Define the model path and name of the trained model weights\n",
    "\n",
    "    BASE_CONFIG={\n",
    "    \"in_dim\": 5,    # Number of Features as input\n",
    "    \"intermediate_dim\": 128,    \n",
    "    \"out_dim\": 1,   \n",
    "    \"num_blocks\": 12,   # Number of reapeating Layer Blocks\n",
    "    \"dropout_rate\": 0.1     # Rate for dropout layer\n",
    "}\n",
    "\n",
    "    # --- Data Preparation Pipeline --- \n",
    "    try:\n",
    "        (train_dataset, test_dataset, validation_dataset, train_dataloader, test_dataloader, validation_dataloader, scaler) = data_pipeline(batch_size=args.dataloader_batch_size)\n",
    "    except ValueError as e:\n",
    "        print(f\"Caught an error: {e}\")\n",
    "\n",
    "    print(\"BEGINNING TRAINING SCRIPT\")\n",
    "    start_time=time.time()\n",
    "\n",
    "    trained_policy, training_history = train_model(\n",
    "        model_config=BASE_CONFIG,\n",
    "        train_dataloader=train_dataloader,\n",
    "        validation_dataloader=validation_dataloader,\n",
    "        model=None,     # Create new model\n",
    "        epochs=args.epochs,\n",
    "        learning_rate=args.learning_rate,\n",
    "        max_grad_norm=args.max_grad_norm,\n",
    "        log_iterations=args.log_iterations,\n",
    "        eval_iterations=args.eval_iterations,\n",
    "        device=device,\n",
    "    )\n",
    "    end_time=time.time()\n",
    "\n",
    "    # --- Calculate Training Time --- \n",
    "\n",
    "    elapsed_time= end_time - start_time\n",
    "    hrs = int(elapsed_time / 3600)\n",
    "    min = int((elapsed_time % 3600) / 60)\n",
    "    seconds_remaining = elapsed_time - (hrs * 3600 ) - (min * 60)\n",
    "\n",
    "    print(f\"FINISHED MODEL TRAINING. \\nTRAINING TOOK: {hrs} Hours, {min} Minutes, and {seconds_remaining:.3f} Seconds\")\n",
    "\n",
    "    # --- Testing Trained Model --- \n",
    "    print(\"\\nTESTING THE TRAINED POLICY:\")\n",
    "    test_loss = evaluate_model(model=trained_policy, dataloader=test_dataloader, current_epoch=None, max_epochs=None, device='cpu')\n",
    "\n",
    "    # ---  Saving Model Section  ---   \n",
    "\n",
    "    if args.save_model:     # Check if the user wants to save the trained model weights\n",
    "        if args.model_output_path:     # Check if the user specified a target save location\n",
    "            SAVE_LOCATION=args.model_output_path\n",
    "\n",
    "        parent_dir = os.path.dirname(SAVE_LOCATION)\n",
    "\n",
    "        # If parent_dir is empty, it means the SAVE_LOCATION is just a filename\n",
    "        # in the current directory, so no new directories need to be created.\n",
    "        if parent_dir and parent_dir != '.':\n",
    "            try:\n",
    "                os.makedirs(parent_dir, exist_ok=True)\n",
    "                print(f\"Parent directory '{parent_dir}' created to store the model.\")\n",
    "            except OSError as e:\n",
    "                print(f\"Error creating directory {parent_dir}: {e}\")\n",
    "                SAVE_LOCATION='model.pt'      # Fall back to a default save location if problem occurs.\n",
    "        \n",
    "        try:\n",
    "            torch.save(trained_policy.state_dict(), f=SAVE_LOCATION)\n",
    "            print(f\"Model weights saved in: {SAVE_LOCATION}\")\n",
    "        except Exception as e:\n",
    "            print(f\"Error saving model to {SAVE_LOCATION}: {e}\")\n",
    "\n",
    "    return 0"
   ]
  },
  {
   "cell_type": "code",
   "execution_count": 12,
   "id": "d387cce0",
   "metadata": {},
   "outputs": [
    {
     "name": "stdout",
     "output_type": "stream",
     "text": [
      "Namespace(epochs=256, learning_rate=0.003, max_grad_norm=3.0, dataloader_batch_size=64, dataloader_pin_memory=True, dataloader_num_workers=0, log_iterations=256, eval_iterations=64, use_cuda=False, device='cpu', save_model=True, model_output_path='models/Weather-Agent_01.pt')\n",
      "SETTING UP FOR TRAINING\n",
      "root_data_dir: ./Data\n",
      "CSV file detected, reading from Data\\CA_Weather_Fire_Dataset_Cleaned.csv\n",
      "Train, Test, and Validation csv datasets detected in 'Data\\DataSplits', skipping generation\n",
      "Initializing DataLoaders and Returning\n",
      "Creating DataLoaders with batch_size (64), num_workers (0), pin_memory (False). Training dataset drop_last: (True)\n",
      "Training DataLoader has (187) batches, Test DataLoader has (23) batches, Validation DataLoader has (23) batches\n",
      "BEGINNING TRAINING SCRIPT\n",
      "Training Model on cpu with 256 main epochs, 0.003 learning rate, max_grad_norm=3.0.\n",
      "Logging every 256 epoch iterations, evaluating every 64 epoch iterations.\n"
     ]
    },
    {
     "name": "stderr",
     "output_type": "stream",
     "text": [
      ">>>>>>>>>>>>>>>>>>>>>\n",
      ">>>>>>>>>>>>>>>>>>>>>p):   0%|          | 0/256 [00:00<?, ?it/s]\n",
      "Main Epoch (Outer Loop):   0%|          | 1/256 [00:03<16:22,  3.85s/it]"
     ]
    },
    {
     "name": "stdout",
     "output_type": "stream",
     "text": [
      "=====================  [EPOCH (0) LOGGING]  =====================\n",
      "| AVERAGES of THIS EPOCH:\n",
      "| ACCUMULATED LOSS: 36.2003978\n",
      "===========================================================\n"
     ]
    },
    {
     "name": "stderr",
     "output_type": "stream",
     "text": [
      ">>>>>>>>>>>>>>>>>>>>>\n",
      "Main Epoch (Outer Loop):   1%|          | 2/256 [00:07<15:22,  3.63s/it]"
     ]
    },
    {
     "name": "stdout",
     "output_type": "stream",
     "text": [
      "=====================  [EPOCH (1) LOGGING]  =====================\n",
      "| AVERAGES of THIS EPOCH:\n",
      "| ACCUMULATED LOSS: 6.4089098\n",
      "===========================================================\n"
     ]
    },
    {
     "name": "stderr",
     "output_type": "stream",
     "text": [
      ">>>>>>>>>>>>>>>>>>>>>\n",
      "Main Epoch (Outer Loop):   1%|          | 3/256 [00:10<15:12,  3.61s/it]"
     ]
    },
    {
     "name": "stdout",
     "output_type": "stream",
     "text": [
      "=====================  [EPOCH (2) LOGGING]  =====================\n",
      "| AVERAGES of THIS EPOCH:\n",
      "| ACCUMULATED LOSS: 6.4857743\n",
      "===========================================================\n"
     ]
    },
    {
     "name": "stderr",
     "output_type": "stream",
     "text": [
      ">>>>>>>>>>>>>>>>>>>>>\n",
      "Main Epoch (Outer Loop):   2%|▏         | 4/256 [00:14<14:51,  3.54s/it]"
     ]
    },
    {
     "name": "stdout",
     "output_type": "stream",
     "text": [
      "=====================  [EPOCH (3) LOGGING]  =====================\n",
      "| AVERAGES of THIS EPOCH:\n",
      "| ACCUMULATED LOSS: 5.8584833\n",
      "===========================================================\n"
     ]
    },
    {
     "name": "stderr",
     "output_type": "stream",
     "text": [
      ">>>>>>>>>>>>>>>>>>>>>\n",
      "Main Epoch (Outer Loop):   2%|▏         | 5/256 [00:17<14:52,  3.56s/it]"
     ]
    },
    {
     "name": "stdout",
     "output_type": "stream",
     "text": [
      "=====================  [EPOCH (4) LOGGING]  =====================\n",
      "| AVERAGES of THIS EPOCH:\n",
      "| ACCUMULATED LOSS: 5.6983928\n",
      "===========================================================\n"
     ]
    },
    {
     "name": "stderr",
     "output_type": "stream",
     "text": [
      ">>>>>>>>>>>>>>>>>>>>>\n",
      "Main Epoch (Outer Loop):   2%|▏         | 6/256 [00:21<14:52,  3.57s/it]"
     ]
    },
    {
     "name": "stdout",
     "output_type": "stream",
     "text": [
      "=====================  [EPOCH (5) LOGGING]  =====================\n",
      "| AVERAGES of THIS EPOCH:\n",
      "| ACCUMULATED LOSS: 5.7348879\n",
      "===========================================================\n"
     ]
    },
    {
     "name": "stderr",
     "output_type": "stream",
     "text": [
      ">>>>>>>>>>>>>>>>>>>>>\n",
      "Main Epoch (Outer Loop):   3%|▎         | 7/256 [00:25<15:16,  3.68s/it]"
     ]
    },
    {
     "name": "stdout",
     "output_type": "stream",
     "text": [
      "=====================  [EPOCH (6) LOGGING]  =====================\n",
      "| AVERAGES of THIS EPOCH:\n",
      "| ACCUMULATED LOSS: 5.9011993\n",
      "===========================================================\n"
     ]
    },
    {
     "name": "stderr",
     "output_type": "stream",
     "text": [
      ">>>>>>>>>>>>>>>>>>>>>\n",
      "Main Epoch (Outer Loop):   3%|▎         | 8/256 [00:29<15:39,  3.79s/it]"
     ]
    },
    {
     "name": "stdout",
     "output_type": "stream",
     "text": [
      "=====================  [EPOCH (7) LOGGING]  =====================\n",
      "| AVERAGES of THIS EPOCH:\n",
      "| ACCUMULATED LOSS: 5.7052049\n",
      "===========================================================\n"
     ]
    },
    {
     "name": "stderr",
     "output_type": "stream",
     "text": [
      ">>>>>>>>>>>>>>>>>>>>>\n",
      "Main Epoch (Outer Loop):   4%|▎         | 9/256 [00:33<15:42,  3.82s/it]"
     ]
    },
    {
     "name": "stdout",
     "output_type": "stream",
     "text": [
      "=====================  [EPOCH (8) LOGGING]  =====================\n",
      "| AVERAGES of THIS EPOCH:\n",
      "| ACCUMULATED LOSS: 5.4706305\n",
      "===========================================================\n"
     ]
    },
    {
     "name": "stderr",
     "output_type": "stream",
     "text": [
      ">>>>>>>>>>>>>>>>>>>>>\n",
      "Main Epoch (Outer Loop):   4%|▍         | 10/256 [00:37<15:46,  3.85s/it]"
     ]
    },
    {
     "name": "stdout",
     "output_type": "stream",
     "text": [
      "=====================  [EPOCH (9) LOGGING]  =====================\n",
      "| AVERAGES of THIS EPOCH:\n",
      "| ACCUMULATED LOSS: 5.4821313\n",
      "===========================================================\n"
     ]
    },
    {
     "name": "stderr",
     "output_type": "stream",
     "text": [
      ">>>>>>>>>>>>>>>>>>>>>\n",
      "Main Epoch (Outer Loop):   4%|▍         | 11/256 [00:41<15:56,  3.91s/it]"
     ]
    },
    {
     "name": "stdout",
     "output_type": "stream",
     "text": [
      "=====================  [EPOCH (10) LOGGING]  =====================\n",
      "| AVERAGES of THIS EPOCH:\n",
      "| ACCUMULATED LOSS: 5.4189895\n",
      "===========================================================\n"
     ]
    },
    {
     "name": "stderr",
     "output_type": "stream",
     "text": [
      ">>>>>>>>>>>>>>>>>>>>>\n",
      "Main Epoch (Outer Loop):   5%|▍         | 12/256 [00:45<15:50,  3.89s/it]"
     ]
    },
    {
     "name": "stdout",
     "output_type": "stream",
     "text": [
      "=====================  [EPOCH (11) LOGGING]  =====================\n",
      "| AVERAGES of THIS EPOCH:\n",
      "| ACCUMULATED LOSS: 6.1507644\n",
      "===========================================================\n"
     ]
    },
    {
     "name": "stderr",
     "output_type": "stream",
     "text": [
      ">>>>>>>>>>>>>>>>>>>>>\n",
      "Main Epoch (Outer Loop):   5%|▌         | 13/256 [00:49<15:49,  3.91s/it]"
     ]
    },
    {
     "name": "stdout",
     "output_type": "stream",
     "text": [
      "=====================  [EPOCH (12) LOGGING]  =====================\n",
      "| AVERAGES of THIS EPOCH:\n",
      "| ACCUMULATED LOSS: 6.2397870\n",
      "===========================================================\n"
     ]
    },
    {
     "name": "stderr",
     "output_type": "stream",
     "text": [
      ">>>>>>>>>>>>>>>>>>>>>\n",
      "Main Epoch (Outer Loop):   5%|▌         | 14/256 [00:53<15:55,  3.95s/it]"
     ]
    },
    {
     "name": "stdout",
     "output_type": "stream",
     "text": [
      "=====================  [EPOCH (13) LOGGING]  =====================\n",
      "| AVERAGES of THIS EPOCH:\n",
      "| ACCUMULATED LOSS: 6.2606489\n",
      "===========================================================\n"
     ]
    },
    {
     "name": "stderr",
     "output_type": "stream",
     "text": [
      ">>>>>>>>>>>>>>>>>>>>>\n",
      "Main Epoch (Outer Loop):   6%|▌         | 15/256 [00:57<16:06,  4.01s/it]"
     ]
    },
    {
     "name": "stdout",
     "output_type": "stream",
     "text": [
      "=====================  [EPOCH (14) LOGGING]  =====================\n",
      "| AVERAGES of THIS EPOCH:\n",
      "| ACCUMULATED LOSS: 6.1882014\n",
      "===========================================================\n"
     ]
    },
    {
     "name": "stderr",
     "output_type": "stream",
     "text": [
      ">>>>>>>>>>>>>>>>>>>>>\n",
      "Main Epoch (Outer Loop):   6%|▋         | 16/256 [01:01<16:08,  4.04s/it]"
     ]
    },
    {
     "name": "stdout",
     "output_type": "stream",
     "text": [
      "=====================  [EPOCH (15) LOGGING]  =====================\n",
      "| AVERAGES of THIS EPOCH:\n",
      "| ACCUMULATED LOSS: 6.2446407\n",
      "===========================================================\n"
     ]
    },
    {
     "name": "stderr",
     "output_type": "stream",
     "text": [
      ">>>>>>>>>>>>>>>>>>>>>\n",
      "Main Epoch (Outer Loop):   7%|▋         | 17/256 [01:05<15:54,  4.00s/it]"
     ]
    },
    {
     "name": "stdout",
     "output_type": "stream",
     "text": [
      "=====================  [EPOCH (16) LOGGING]  =====================\n",
      "| AVERAGES of THIS EPOCH:\n",
      "| ACCUMULATED LOSS: 6.2260385\n",
      "===========================================================\n"
     ]
    },
    {
     "name": "stderr",
     "output_type": "stream",
     "text": [
      ">>>>>>>>>>>>>>>>>>>>>\n",
      "Main Epoch (Outer Loop):   7%|▋         | 18/256 [01:09<15:51,  4.00s/it]"
     ]
    },
    {
     "name": "stdout",
     "output_type": "stream",
     "text": [
      "=====================  [EPOCH (17) LOGGING]  =====================\n",
      "| AVERAGES of THIS EPOCH:\n",
      "| ACCUMULATED LOSS: 6.2094618\n",
      "===========================================================\n"
     ]
    },
    {
     "name": "stderr",
     "output_type": "stream",
     "text": [
      ">>>>>>>>>>>>>>>>>>>>>\n",
      "Main Epoch (Outer Loop):   7%|▋         | 19/256 [01:13<15:37,  3.95s/it]"
     ]
    },
    {
     "name": "stdout",
     "output_type": "stream",
     "text": [
      "=====================  [EPOCH (18) LOGGING]  =====================\n",
      "| AVERAGES of THIS EPOCH:\n",
      "| ACCUMULATED LOSS: 6.2231781\n",
      "===========================================================\n"
     ]
    },
    {
     "name": "stderr",
     "output_type": "stream",
     "text": [
      ">>>>>>>>>>>>>>>>>>>>>\n",
      "Main Epoch (Outer Loop):   8%|▊         | 20/256 [01:17<15:39,  3.98s/it]"
     ]
    },
    {
     "name": "stdout",
     "output_type": "stream",
     "text": [
      "=====================  [EPOCH (19) LOGGING]  =====================\n",
      "| AVERAGES of THIS EPOCH:\n",
      "| ACCUMULATED LOSS: 6.1767810\n",
      "===========================================================\n"
     ]
    },
    {
     "name": "stderr",
     "output_type": "stream",
     "text": [
      ">>>>>>>>>>>>>>>>>>>>>\n",
      "Main Epoch (Outer Loop):   8%|▊         | 21/256 [01:21<15:42,  4.01s/it]"
     ]
    },
    {
     "name": "stdout",
     "output_type": "stream",
     "text": [
      "=====================  [EPOCH (20) LOGGING]  =====================\n",
      "| AVERAGES of THIS EPOCH:\n",
      "| ACCUMULATED LOSS: 6.2139120\n",
      "===========================================================\n"
     ]
    },
    {
     "name": "stderr",
     "output_type": "stream",
     "text": [
      ">>>>>>>>>>>>>>>>>>>>>\n",
      "Main Epoch (Outer Loop):   9%|▊         | 22/256 [01:25<15:35,  4.00s/it]"
     ]
    },
    {
     "name": "stdout",
     "output_type": "stream",
     "text": [
      "=====================  [EPOCH (21) LOGGING]  =====================\n",
      "| AVERAGES of THIS EPOCH:\n",
      "| ACCUMULATED LOSS: 6.2527871\n",
      "===========================================================\n"
     ]
    },
    {
     "name": "stderr",
     "output_type": "stream",
     "text": [
      ">>>>>>>>>>>>>>>>>>>>>\n",
      "Main Epoch (Outer Loop):   9%|▉         | 23/256 [01:29<15:35,  4.02s/it]"
     ]
    },
    {
     "name": "stdout",
     "output_type": "stream",
     "text": [
      "=====================  [EPOCH (22) LOGGING]  =====================\n",
      "| AVERAGES of THIS EPOCH:\n",
      "| ACCUMULATED LOSS: 6.2328664\n",
      "===========================================================\n"
     ]
    },
    {
     "name": "stderr",
     "output_type": "stream",
     "text": [
      ">>>>>>>>>>>>>>>>>>>>>\n",
      "Main Epoch (Outer Loop):   9%|▉         | 24/256 [01:33<15:18,  3.96s/it]"
     ]
    },
    {
     "name": "stdout",
     "output_type": "stream",
     "text": [
      "=====================  [EPOCH (23) LOGGING]  =====================\n",
      "| AVERAGES of THIS EPOCH:\n",
      "| ACCUMULATED LOSS: 6.2222537\n",
      "===========================================================\n"
     ]
    },
    {
     "name": "stderr",
     "output_type": "stream",
     "text": [
      ">>>>>>>>>>>>>>>>>>>>>\n",
      "Main Epoch (Outer Loop):  10%|▉         | 25/256 [01:37<15:16,  3.97s/it]"
     ]
    },
    {
     "name": "stdout",
     "output_type": "stream",
     "text": [
      "=====================  [EPOCH (24) LOGGING]  =====================\n",
      "| AVERAGES of THIS EPOCH:\n",
      "| ACCUMULATED LOSS: 6.2282852\n",
      "===========================================================\n"
     ]
    },
    {
     "name": "stderr",
     "output_type": "stream",
     "text": [
      ">>>>>>>>>>>>>>>>>>>>>\n",
      "Main Epoch (Outer Loop):  10%|█         | 26/256 [01:41<15:19,  4.00s/it]"
     ]
    },
    {
     "name": "stdout",
     "output_type": "stream",
     "text": [
      "=====================  [EPOCH (25) LOGGING]  =====================\n",
      "| AVERAGES of THIS EPOCH:\n",
      "| ACCUMULATED LOSS: 6.2589445\n",
      "===========================================================\n"
     ]
    },
    {
     "name": "stderr",
     "output_type": "stream",
     "text": [
      ">>>>>>>>>>>>>>>>>>>>>\n",
      "Main Epoch (Outer Loop):  11%|█         | 27/256 [01:45<15:12,  3.99s/it]"
     ]
    },
    {
     "name": "stdout",
     "output_type": "stream",
     "text": [
      "=====================  [EPOCH (26) LOGGING]  =====================\n",
      "| AVERAGES of THIS EPOCH:\n",
      "| ACCUMULATED LOSS: 6.1785800\n",
      "===========================================================\n"
     ]
    },
    {
     "name": "stderr",
     "output_type": "stream",
     "text": [
      ">>>>>>>>>>>>>>>>>>>>>\n",
      "Main Epoch (Outer Loop):  11%|█         | 28/256 [01:49<15:19,  4.03s/it]"
     ]
    },
    {
     "name": "stdout",
     "output_type": "stream",
     "text": [
      "=====================  [EPOCH (27) LOGGING]  =====================\n",
      "| AVERAGES of THIS EPOCH:\n",
      "| ACCUMULATED LOSS: 6.2380704\n",
      "===========================================================\n"
     ]
    },
    {
     "name": "stderr",
     "output_type": "stream",
     "text": [
      ">>>>>>>>>>>>>>>>>>>>>\n",
      "Main Epoch (Outer Loop):  11%|█▏        | 29/256 [01:53<15:41,  4.15s/it]"
     ]
    },
    {
     "name": "stdout",
     "output_type": "stream",
     "text": [
      "=====================  [EPOCH (28) LOGGING]  =====================\n",
      "| AVERAGES of THIS EPOCH:\n",
      "| ACCUMULATED LOSS: 6.1782749\n",
      "===========================================================\n"
     ]
    },
    {
     "name": "stderr",
     "output_type": "stream",
     "text": [
      ">>>>>>>>>>>>>>>>>>>>>\n",
      "Main Epoch (Outer Loop):  12%|█▏        | 30/256 [01:57<15:36,  4.14s/it]"
     ]
    },
    {
     "name": "stdout",
     "output_type": "stream",
     "text": [
      "=====================  [EPOCH (29) LOGGING]  =====================\n",
      "| AVERAGES of THIS EPOCH:\n",
      "| ACCUMULATED LOSS: 6.2513282\n",
      "===========================================================\n"
     ]
    },
    {
     "name": "stderr",
     "output_type": "stream",
     "text": [
      ">>>>>>>>>>>>>>>>>>>>>\n",
      "Main Epoch (Outer Loop):  12%|█▏        | 31/256 [02:01<15:23,  4.10s/it]"
     ]
    },
    {
     "name": "stdout",
     "output_type": "stream",
     "text": [
      "=====================  [EPOCH (30) LOGGING]  =====================\n",
      "| AVERAGES of THIS EPOCH:\n",
      "| ACCUMULATED LOSS: 6.2066143\n",
      "===========================================================\n"
     ]
    },
    {
     "name": "stderr",
     "output_type": "stream",
     "text": [
      ">>>>>>>>>>>>>>>>>>>>>\n",
      "Main Epoch (Outer Loop):  12%|█▎        | 32/256 [02:05<15:14,  4.08s/it]"
     ]
    },
    {
     "name": "stdout",
     "output_type": "stream",
     "text": [
      "=====================  [EPOCH (31) LOGGING]  =====================\n",
      "| AVERAGES of THIS EPOCH:\n",
      "| ACCUMULATED LOSS: 6.2415386\n",
      "===========================================================\n"
     ]
    },
    {
     "name": "stderr",
     "output_type": "stream",
     "text": [
      ">>>>>>>>>>>>>>>>>>>>>\n",
      "Main Epoch (Outer Loop):  13%|█▎        | 33/256 [02:10<15:20,  4.13s/it]"
     ]
    },
    {
     "name": "stdout",
     "output_type": "stream",
     "text": [
      "=====================  [EPOCH (32) LOGGING]  =====================\n",
      "| AVERAGES of THIS EPOCH:\n",
      "| ACCUMULATED LOSS: 6.1999729\n",
      "===========================================================\n"
     ]
    },
    {
     "name": "stderr",
     "output_type": "stream",
     "text": [
      ">>>>>>>>>>>>>>>>>>>>>\n",
      "Main Epoch (Outer Loop):  13%|█▎        | 34/256 [02:14<15:38,  4.23s/it]"
     ]
    },
    {
     "name": "stdout",
     "output_type": "stream",
     "text": [
      "=====================  [EPOCH (33) LOGGING]  =====================\n",
      "| AVERAGES of THIS EPOCH:\n",
      "| ACCUMULATED LOSS: 6.1803963\n",
      "===========================================================\n"
     ]
    },
    {
     "name": "stderr",
     "output_type": "stream",
     "text": [
      ">>>>>>>>>>>>>>>>>>>>>\n",
      "Main Epoch (Outer Loop):  14%|█▎        | 35/256 [02:19<15:48,  4.29s/it]"
     ]
    },
    {
     "name": "stdout",
     "output_type": "stream",
     "text": [
      "=====================  [EPOCH (34) LOGGING]  =====================\n",
      "| AVERAGES of THIS EPOCH:\n",
      "| ACCUMULATED LOSS: 6.1813575\n",
      "===========================================================\n"
     ]
    },
    {
     "name": "stderr",
     "output_type": "stream",
     "text": [
      ">>>>>>>>>>>>>>>>>>>>>\n",
      "Main Epoch (Outer Loop):  14%|█▍        | 36/256 [02:23<15:28,  4.22s/it]"
     ]
    },
    {
     "name": "stdout",
     "output_type": "stream",
     "text": [
      "=====================  [EPOCH (35) LOGGING]  =====================\n",
      "| AVERAGES of THIS EPOCH:\n",
      "| ACCUMULATED LOSS: 6.1766181\n",
      "===========================================================\n"
     ]
    },
    {
     "name": "stderr",
     "output_type": "stream",
     "text": [
      ">>>>>>>>>>>>>>>>>>>>>\n",
      "Main Epoch (Outer Loop):  14%|█▍        | 37/256 [02:26<15:00,  4.11s/it]"
     ]
    },
    {
     "name": "stdout",
     "output_type": "stream",
     "text": [
      "=====================  [EPOCH (36) LOGGING]  =====================\n",
      "| AVERAGES of THIS EPOCH:\n",
      "| ACCUMULATED LOSS: 6.2245841\n",
      "===========================================================\n"
     ]
    },
    {
     "name": "stderr",
     "output_type": "stream",
     "text": [
      ">>>>>>>>>>>>>>>>>>>>>\n",
      "Main Epoch (Outer Loop):  15%|█▍        | 38/256 [02:30<14:48,  4.08s/it]"
     ]
    },
    {
     "name": "stdout",
     "output_type": "stream",
     "text": [
      "=====================  [EPOCH (37) LOGGING]  =====================\n",
      "| AVERAGES of THIS EPOCH:\n",
      "| ACCUMULATED LOSS: 6.1986849\n",
      "===========================================================\n"
     ]
    },
    {
     "name": "stderr",
     "output_type": "stream",
     "text": [
      ">>>>>>>>>>>>>>>>>>>>>\n",
      "Main Epoch (Outer Loop):  15%|█▌        | 39/256 [02:35<14:50,  4.11s/it]"
     ]
    },
    {
     "name": "stdout",
     "output_type": "stream",
     "text": [
      "=====================  [EPOCH (38) LOGGING]  =====================\n",
      "| AVERAGES of THIS EPOCH:\n",
      "| ACCUMULATED LOSS: 6.1984861\n",
      "===========================================================\n"
     ]
    },
    {
     "name": "stderr",
     "output_type": "stream",
     "text": [
      ">>>>>>>>>>>>>>>>>>>>>\n",
      "Main Epoch (Outer Loop):  16%|█▌        | 40/256 [02:39<14:46,  4.10s/it]"
     ]
    },
    {
     "name": "stdout",
     "output_type": "stream",
     "text": [
      "=====================  [EPOCH (39) LOGGING]  =====================\n",
      "| AVERAGES of THIS EPOCH:\n",
      "| ACCUMULATED LOSS: 6.2035447\n",
      "===========================================================\n"
     ]
    },
    {
     "name": "stderr",
     "output_type": "stream",
     "text": [
      ">>>>>>>>>>>>>>>>>>>>>\n",
      "Main Epoch (Outer Loop):  16%|█▌        | 41/256 [02:43<14:35,  4.07s/it]"
     ]
    },
    {
     "name": "stdout",
     "output_type": "stream",
     "text": [
      "=====================  [EPOCH (40) LOGGING]  =====================\n",
      "| AVERAGES of THIS EPOCH:\n",
      "| ACCUMULATED LOSS: 6.2040422\n",
      "===========================================================\n"
     ]
    },
    {
     "name": "stderr",
     "output_type": "stream",
     "text": [
      ">>>>>>>>>>>>>>>>>>>>>\n",
      "Main Epoch (Outer Loop):  16%|█▋        | 42/256 [02:47<14:25,  4.04s/it]"
     ]
    },
    {
     "name": "stdout",
     "output_type": "stream",
     "text": [
      "=====================  [EPOCH (41) LOGGING]  =====================\n",
      "| AVERAGES of THIS EPOCH:\n",
      "| ACCUMULATED LOSS: 6.1957667\n",
      "===========================================================\n"
     ]
    },
    {
     "name": "stderr",
     "output_type": "stream",
     "text": [
      ">>>>>>>>>>>>>>>>>>>>>\n",
      "Main Epoch (Outer Loop):  17%|█▋        | 43/256 [02:51<14:19,  4.04s/it]"
     ]
    },
    {
     "name": "stdout",
     "output_type": "stream",
     "text": [
      "=====================  [EPOCH (42) LOGGING]  =====================\n",
      "| AVERAGES of THIS EPOCH:\n",
      "| ACCUMULATED LOSS: 6.2087400\n",
      "===========================================================\n"
     ]
    },
    {
     "name": "stderr",
     "output_type": "stream",
     "text": [
      ">>>>>>>>>>>>>>>>>>>>>\n",
      "Main Epoch (Outer Loop):  17%|█▋        | 44/256 [02:55<14:03,  3.98s/it]"
     ]
    },
    {
     "name": "stdout",
     "output_type": "stream",
     "text": [
      "=====================  [EPOCH (43) LOGGING]  =====================\n",
      "| AVERAGES of THIS EPOCH:\n",
      "| ACCUMULATED LOSS: 6.2258707\n",
      "===========================================================\n"
     ]
    },
    {
     "name": "stderr",
     "output_type": "stream",
     "text": [
      ">>>>>>>>>>>>>>>>>>>>>\n",
      "Main Epoch (Outer Loop):  18%|█▊        | 45/256 [02:59<14:01,  3.99s/it]"
     ]
    },
    {
     "name": "stdout",
     "output_type": "stream",
     "text": [
      "=====================  [EPOCH (44) LOGGING]  =====================\n",
      "| AVERAGES of THIS EPOCH:\n",
      "| ACCUMULATED LOSS: 6.1593049\n",
      "===========================================================\n"
     ]
    },
    {
     "name": "stderr",
     "output_type": "stream",
     "text": [
      ">>>>>>>>>>>>>>>>>>>>>\n",
      "Main Epoch (Outer Loop):  18%|█▊        | 46/256 [03:02<13:51,  3.96s/it]"
     ]
    },
    {
     "name": "stdout",
     "output_type": "stream",
     "text": [
      "=====================  [EPOCH (45) LOGGING]  =====================\n",
      "| AVERAGES of THIS EPOCH:\n",
      "| ACCUMULATED LOSS: 6.2010659\n",
      "===========================================================\n"
     ]
    },
    {
     "name": "stderr",
     "output_type": "stream",
     "text": [
      ">>>>>>>>>>>>>>>>>>>>>\n",
      "Main Epoch (Outer Loop):  18%|█▊        | 47/256 [03:06<13:52,  3.98s/it]"
     ]
    },
    {
     "name": "stdout",
     "output_type": "stream",
     "text": [
      "=====================  [EPOCH (46) LOGGING]  =====================\n",
      "| AVERAGES of THIS EPOCH:\n",
      "| ACCUMULATED LOSS: 6.2399284\n",
      "===========================================================\n"
     ]
    },
    {
     "name": "stderr",
     "output_type": "stream",
     "text": [
      ">>>>>>>>>>>>>>>>>>>>>\n",
      "Main Epoch (Outer Loop):  19%|█▉        | 48/256 [03:10<13:40,  3.95s/it]"
     ]
    },
    {
     "name": "stdout",
     "output_type": "stream",
     "text": [
      "=====================  [EPOCH (47) LOGGING]  =====================\n",
      "| AVERAGES of THIS EPOCH:\n",
      "| ACCUMULATED LOSS: 6.2050335\n",
      "===========================================================\n"
     ]
    },
    {
     "name": "stderr",
     "output_type": "stream",
     "text": [
      ">>>>>>>>>>>>>>>>>>>>>\n",
      "Main Epoch (Outer Loop):  19%|█▉        | 49/256 [03:14<13:33,  3.93s/it]"
     ]
    },
    {
     "name": "stdout",
     "output_type": "stream",
     "text": [
      "=====================  [EPOCH (48) LOGGING]  =====================\n",
      "| AVERAGES of THIS EPOCH:\n",
      "| ACCUMULATED LOSS: 6.2063224\n",
      "===========================================================\n"
     ]
    },
    {
     "name": "stderr",
     "output_type": "stream",
     "text": [
      ">>>>>>>>>>>>>>>>>>>>>\n",
      "Main Epoch (Outer Loop):  20%|█▉        | 50/256 [03:18<13:31,  3.94s/it]"
     ]
    },
    {
     "name": "stdout",
     "output_type": "stream",
     "text": [
      "=====================  [EPOCH (49) LOGGING]  =====================\n",
      "| AVERAGES of THIS EPOCH:\n",
      "| ACCUMULATED LOSS: 6.2066997\n",
      "===========================================================\n"
     ]
    },
    {
     "name": "stderr",
     "output_type": "stream",
     "text": [
      ">>>>>>>>>>>>>>>>>>>>>\n",
      "Main Epoch (Outer Loop):  20%|█▉        | 51/256 [03:22<13:24,  3.92s/it]"
     ]
    },
    {
     "name": "stdout",
     "output_type": "stream",
     "text": [
      "=====================  [EPOCH (50) LOGGING]  =====================\n",
      "| AVERAGES of THIS EPOCH:\n",
      "| ACCUMULATED LOSS: 6.2515218\n",
      "===========================================================\n"
     ]
    },
    {
     "name": "stderr",
     "output_type": "stream",
     "text": [
      ">>>>>>>>>>>>>>>>>>>>>\n",
      "Main Epoch (Outer Loop):  20%|██        | 52/256 [03:26<13:23,  3.94s/it]"
     ]
    },
    {
     "name": "stdout",
     "output_type": "stream",
     "text": [
      "=====================  [EPOCH (51) LOGGING]  =====================\n",
      "| AVERAGES of THIS EPOCH:\n",
      "| ACCUMULATED LOSS: 6.2022931\n",
      "===========================================================\n"
     ]
    },
    {
     "name": "stderr",
     "output_type": "stream",
     "text": [
      ">>>>>>>>>>>>>>>>>>>>>\n",
      "Main Epoch (Outer Loop):  21%|██        | 53/256 [03:30<13:14,  3.91s/it]"
     ]
    },
    {
     "name": "stdout",
     "output_type": "stream",
     "text": [
      "=====================  [EPOCH (52) LOGGING]  =====================\n",
      "| AVERAGES of THIS EPOCH:\n",
      "| ACCUMULATED LOSS: 6.2094873\n",
      "===========================================================\n"
     ]
    },
    {
     "name": "stderr",
     "output_type": "stream",
     "text": [
      ">>>>>>>>>>>>>>>>>>>>>\n",
      "Main Epoch (Outer Loop):  21%|██        | 54/256 [03:34<12:59,  3.86s/it]"
     ]
    },
    {
     "name": "stdout",
     "output_type": "stream",
     "text": [
      "=====================  [EPOCH (53) LOGGING]  =====================\n",
      "| AVERAGES of THIS EPOCH:\n",
      "| ACCUMULATED LOSS: 6.1961886\n",
      "===========================================================\n"
     ]
    },
    {
     "name": "stderr",
     "output_type": "stream",
     "text": [
      ">>>>>>>>>>>>>>>>>>>>>\n",
      "Main Epoch (Outer Loop):  21%|██▏       | 55/256 [03:38<13:02,  3.89s/it]"
     ]
    },
    {
     "name": "stdout",
     "output_type": "stream",
     "text": [
      "=====================  [EPOCH (54) LOGGING]  =====================\n",
      "| AVERAGES of THIS EPOCH:\n",
      "| ACCUMULATED LOSS: 6.1522965\n",
      "===========================================================\n"
     ]
    },
    {
     "name": "stderr",
     "output_type": "stream",
     "text": [
      ">>>>>>>>>>>>>>>>>>>>>\n",
      "Main Epoch (Outer Loop):  22%|██▏       | 56/256 [03:42<13:11,  3.96s/it]"
     ]
    },
    {
     "name": "stdout",
     "output_type": "stream",
     "text": [
      "=====================  [EPOCH (55) LOGGING]  =====================\n",
      "| AVERAGES of THIS EPOCH:\n",
      "| ACCUMULATED LOSS: 6.2130675\n",
      "===========================================================\n"
     ]
    },
    {
     "name": "stderr",
     "output_type": "stream",
     "text": [
      ">>>>>>>>>>>>>>>>>>>>>\n",
      "Main Epoch (Outer Loop):  22%|██▏       | 57/256 [03:45<12:58,  3.91s/it]"
     ]
    },
    {
     "name": "stdout",
     "output_type": "stream",
     "text": [
      "=====================  [EPOCH (56) LOGGING]  =====================\n",
      "| AVERAGES of THIS EPOCH:\n",
      "| ACCUMULATED LOSS: 6.1762154\n",
      "===========================================================\n"
     ]
    },
    {
     "name": "stderr",
     "output_type": "stream",
     "text": [
      ">>>>>>>>>>>>>>>>>>>>>\n",
      "Main Epoch (Outer Loop):  23%|██▎       | 58/256 [03:49<12:48,  3.88s/it]"
     ]
    },
    {
     "name": "stdout",
     "output_type": "stream",
     "text": [
      "=====================  [EPOCH (57) LOGGING]  =====================\n",
      "| AVERAGES of THIS EPOCH:\n",
      "| ACCUMULATED LOSS: 6.2059616\n",
      "===========================================================\n"
     ]
    },
    {
     "name": "stderr",
     "output_type": "stream",
     "text": [
      ">>>>>>>>>>>>>>>>>>>>>\n",
      "Main Epoch (Outer Loop):  23%|██▎       | 59/256 [03:53<12:54,  3.93s/it]"
     ]
    },
    {
     "name": "stdout",
     "output_type": "stream",
     "text": [
      "=====================  [EPOCH (58) LOGGING]  =====================\n",
      "| AVERAGES of THIS EPOCH:\n",
      "| ACCUMULATED LOSS: 6.1805401\n",
      "===========================================================\n"
     ]
    },
    {
     "name": "stderr",
     "output_type": "stream",
     "text": [
      ">>>>>>>>>>>>>>>>>>>>>\n",
      "Main Epoch (Outer Loop):  23%|██▎       | 60/256 [03:57<12:54,  3.95s/it]"
     ]
    },
    {
     "name": "stdout",
     "output_type": "stream",
     "text": [
      "=====================  [EPOCH (59) LOGGING]  =====================\n",
      "| AVERAGES of THIS EPOCH:\n",
      "| ACCUMULATED LOSS: 6.1901916\n",
      "===========================================================\n"
     ]
    },
    {
     "name": "stderr",
     "output_type": "stream",
     "text": [
      ">>>>>>>>>>>>>>>>>>>>>\n",
      "Main Epoch (Outer Loop):  24%|██▍       | 61/256 [04:01<12:37,  3.89s/it]"
     ]
    },
    {
     "name": "stdout",
     "output_type": "stream",
     "text": [
      "=====================  [EPOCH (60) LOGGING]  =====================\n",
      "| AVERAGES of THIS EPOCH:\n",
      "| ACCUMULATED LOSS: 6.2020944\n",
      "===========================================================\n"
     ]
    },
    {
     "name": "stderr",
     "output_type": "stream",
     "text": [
      ">>>>>>>>>>>>>>>>>>>>>\n",
      "Main Epoch (Outer Loop):  24%|██▍       | 62/256 [04:05<12:38,  3.91s/it]"
     ]
    },
    {
     "name": "stdout",
     "output_type": "stream",
     "text": [
      "=====================  [EPOCH (61) LOGGING]  =====================\n",
      "| AVERAGES of THIS EPOCH:\n",
      "| ACCUMULATED LOSS: 6.2021414\n",
      "===========================================================\n"
     ]
    },
    {
     "name": "stderr",
     "output_type": "stream",
     "text": [
      ">>>>>>>>>>>>>>>>>>>>>\n",
      "Main Epoch (Outer Loop):  25%|██▍       | 63/256 [04:09<12:38,  3.93s/it]"
     ]
    },
    {
     "name": "stdout",
     "output_type": "stream",
     "text": [
      "=====================  [EPOCH (62) LOGGING]  =====================\n",
      "| AVERAGES of THIS EPOCH:\n",
      "| ACCUMULATED LOSS: 6.1707049\n",
      "===========================================================\n"
     ]
    },
    {
     "name": "stderr",
     "output_type": "stream",
     "text": []
    },
    {
     "name": "stdout",
     "output_type": "stream",
     "text": [
      "=====================  [EPOCH (63) LOGGING]  =====================\n",
      "| AVERAGES of THIS EPOCH:\n",
      "| ACCUMULATED LOSS: 6.1763434\n",
      "===========================================================\n"
     ]
    },
    {
     "name": "stderr",
     "output_type": "stream",
     "text": [
      ">>>>>>>>>>>>>>>>>>>>>\n",
      "Main Epoch (Outer Loop):  25%|██▌       | 64/256 [04:13<12:34,  3.93s/it]"
     ]
    },
    {
     "name": "stdout",
     "output_type": "stream",
     "text": [
      "===================  [Epoch (64/256)]  ===================\n",
      "Entire Validation Dataset Average Loss: 5.3610\n",
      "====================================================\n"
     ]
    },
    {
     "name": "stderr",
     "output_type": "stream",
     "text": [
      ">>>>>>>>>>>>>>>>>>>>>\n",
      "Main Epoch (Outer Loop):  25%|██▌       | 65/256 [04:17<12:38,  3.97s/it]"
     ]
    },
    {
     "name": "stdout",
     "output_type": "stream",
     "text": [
      "=====================  [EPOCH (64) LOGGING]  =====================\n",
      "| AVERAGES of THIS EPOCH:\n",
      "| ACCUMULATED LOSS: 6.2026312\n",
      "===========================================================\n"
     ]
    },
    {
     "name": "stderr",
     "output_type": "stream",
     "text": [
      ">>>>>>>>>>>>>>>>>>>>>\n",
      "Main Epoch (Outer Loop):  26%|██▌       | 66/256 [04:21<12:43,  4.02s/it]"
     ]
    },
    {
     "name": "stdout",
     "output_type": "stream",
     "text": [
      "=====================  [EPOCH (65) LOGGING]  =====================\n",
      "| AVERAGES of THIS EPOCH:\n",
      "| ACCUMULATED LOSS: 6.1969582\n",
      "===========================================================\n"
     ]
    },
    {
     "name": "stderr",
     "output_type": "stream",
     "text": [
      ">>>>>>>>>>>>>>>>>>>>>\n",
      "Main Epoch (Outer Loop):  26%|██▌       | 67/256 [04:25<12:36,  4.00s/it]"
     ]
    },
    {
     "name": "stdout",
     "output_type": "stream",
     "text": [
      "=====================  [EPOCH (66) LOGGING]  =====================\n",
      "| AVERAGES of THIS EPOCH:\n",
      "| ACCUMULATED LOSS: 6.1874972\n",
      "===========================================================\n"
     ]
    },
    {
     "name": "stderr",
     "output_type": "stream",
     "text": [
      ">>>>>>>>>>>>>>>>>>>>>\n",
      "Main Epoch (Outer Loop):  27%|██▋       | 68/256 [04:29<12:51,  4.10s/it]"
     ]
    },
    {
     "name": "stdout",
     "output_type": "stream",
     "text": [
      "=====================  [EPOCH (67) LOGGING]  =====================\n",
      "| AVERAGES of THIS EPOCH:\n",
      "| ACCUMULATED LOSS: 6.2061102\n",
      "===========================================================\n"
     ]
    },
    {
     "name": "stderr",
     "output_type": "stream",
     "text": [
      ">>>>>>>>>>>>>>>>>>>>>\n",
      "Main Epoch (Outer Loop):  27%|██▋       | 69/256 [04:34<13:01,  4.18s/it]"
     ]
    },
    {
     "name": "stdout",
     "output_type": "stream",
     "text": [
      "=====================  [EPOCH (68) LOGGING]  =====================\n",
      "| AVERAGES of THIS EPOCH:\n",
      "| ACCUMULATED LOSS: 6.1895084\n",
      "===========================================================\n"
     ]
    },
    {
     "name": "stderr",
     "output_type": "stream",
     "text": [
      ">>>>>>>>>>>>>>>>>>>>>\n",
      "Main Epoch (Outer Loop):  27%|██▋       | 70/256 [04:38<12:58,  4.19s/it]"
     ]
    },
    {
     "name": "stdout",
     "output_type": "stream",
     "text": [
      "=====================  [EPOCH (69) LOGGING]  =====================\n",
      "| AVERAGES of THIS EPOCH:\n",
      "| ACCUMULATED LOSS: 6.1775538\n",
      "===========================================================\n"
     ]
    },
    {
     "name": "stderr",
     "output_type": "stream",
     "text": [
      ">>>>>>>>>>>>>>>>>>>>>\n",
      "Main Epoch (Outer Loop):  28%|██▊       | 71/256 [04:42<12:58,  4.21s/it]"
     ]
    },
    {
     "name": "stdout",
     "output_type": "stream",
     "text": [
      "=====================  [EPOCH (70) LOGGING]  =====================\n",
      "| AVERAGES of THIS EPOCH:\n",
      "| ACCUMULATED LOSS: 6.1744952\n",
      "===========================================================\n"
     ]
    },
    {
     "name": "stderr",
     "output_type": "stream",
     "text": [
      ">>>>>>>>>>>>>>>>>>>>>\n",
      "Main Epoch (Outer Loop):  28%|██▊       | 72/256 [04:46<12:48,  4.18s/it]"
     ]
    },
    {
     "name": "stdout",
     "output_type": "stream",
     "text": [
      "=====================  [EPOCH (71) LOGGING]  =====================\n",
      "| AVERAGES of THIS EPOCH:\n",
      "| ACCUMULATED LOSS: 6.1914160\n",
      "===========================================================\n"
     ]
    },
    {
     "name": "stderr",
     "output_type": "stream",
     "text": [
      ">>>>>>>>>>>>>>>>>>>>>\n",
      "Main Epoch (Outer Loop):  29%|██▊       | 73/256 [04:51<12:42,  4.16s/it]"
     ]
    },
    {
     "name": "stdout",
     "output_type": "stream",
     "text": [
      "=====================  [EPOCH (72) LOGGING]  =====================\n",
      "| AVERAGES of THIS EPOCH:\n",
      "| ACCUMULATED LOSS: 6.2013288\n",
      "===========================================================\n"
     ]
    },
    {
     "name": "stderr",
     "output_type": "stream",
     "text": [
      ">>>>>>>>>>>>>>>>>>>>>\n",
      "Main Epoch (Outer Loop):  29%|██▉       | 74/256 [04:55<12:41,  4.18s/it]"
     ]
    },
    {
     "name": "stdout",
     "output_type": "stream",
     "text": [
      "=====================  [EPOCH (73) LOGGING]  =====================\n",
      "| AVERAGES of THIS EPOCH:\n",
      "| ACCUMULATED LOSS: 6.1832887\n",
      "===========================================================\n"
     ]
    },
    {
     "name": "stderr",
     "output_type": "stream",
     "text": [
      ">>>>>>>>>>>>>>>>>>>>>\n",
      "Main Epoch (Outer Loop):  29%|██▉       | 75/256 [04:59<12:29,  4.14s/it]"
     ]
    },
    {
     "name": "stdout",
     "output_type": "stream",
     "text": [
      "=====================  [EPOCH (74) LOGGING]  =====================\n",
      "| AVERAGES of THIS EPOCH:\n",
      "| ACCUMULATED LOSS: 6.1958693\n",
      "===========================================================\n"
     ]
    },
    {
     "name": "stderr",
     "output_type": "stream",
     "text": [
      ">>>>>>>>>>>>>>>>>>>>>\n",
      "Main Epoch (Outer Loop):  30%|██▉       | 76/256 [05:03<12:25,  4.14s/it]"
     ]
    },
    {
     "name": "stdout",
     "output_type": "stream",
     "text": [
      "=====================  [EPOCH (75) LOGGING]  =====================\n",
      "| AVERAGES of THIS EPOCH:\n",
      "| ACCUMULATED LOSS: 6.1974119\n",
      "===========================================================\n"
     ]
    },
    {
     "name": "stderr",
     "output_type": "stream",
     "text": [
      ">>>>>>>>>>>>>>>>>>>>>\n",
      "Main Epoch (Outer Loop):  30%|███       | 77/256 [05:07<12:25,  4.17s/it]"
     ]
    },
    {
     "name": "stdout",
     "output_type": "stream",
     "text": [
      "=====================  [EPOCH (76) LOGGING]  =====================\n",
      "| AVERAGES of THIS EPOCH:\n",
      "| ACCUMULATED LOSS: 6.1672012\n",
      "===========================================================\n"
     ]
    },
    {
     "name": "stderr",
     "output_type": "stream",
     "text": [
      ">>>>>>>>>>>>>>>>>>>>>\n",
      "Main Epoch (Outer Loop):  30%|███       | 78/256 [05:11<12:16,  4.14s/it]"
     ]
    },
    {
     "name": "stdout",
     "output_type": "stream",
     "text": [
      "=====================  [EPOCH (77) LOGGING]  =====================\n",
      "| AVERAGES of THIS EPOCH:\n",
      "| ACCUMULATED LOSS: 6.2079522\n",
      "===========================================================\n"
     ]
    },
    {
     "name": "stderr",
     "output_type": "stream",
     "text": [
      ">>>>>>>>>>>>>>>>>>>>>\n",
      "Main Epoch (Outer Loop):  31%|███       | 79/256 [05:15<12:10,  4.12s/it]"
     ]
    },
    {
     "name": "stdout",
     "output_type": "stream",
     "text": [
      "=====================  [EPOCH (78) LOGGING]  =====================\n",
      "| AVERAGES of THIS EPOCH:\n",
      "| ACCUMULATED LOSS: 6.1562767\n",
      "===========================================================\n"
     ]
    },
    {
     "name": "stderr",
     "output_type": "stream",
     "text": [
      ">>>>>>>>>>>>>>>>>>>>>\n",
      "Main Epoch (Outer Loop):  31%|███▏      | 80/256 [05:20<12:13,  4.17s/it]"
     ]
    },
    {
     "name": "stdout",
     "output_type": "stream",
     "text": [
      "=====================  [EPOCH (79) LOGGING]  =====================\n",
      "| AVERAGES of THIS EPOCH:\n",
      "| ACCUMULATED LOSS: 6.1713488\n",
      "===========================================================\n"
     ]
    },
    {
     "name": "stderr",
     "output_type": "stream",
     "text": [
      ">>>>>>>>>>>>>>>>>>>>>\n",
      "Main Epoch (Outer Loop):  32%|███▏      | 81/256 [05:24<12:00,  4.12s/it]"
     ]
    },
    {
     "name": "stdout",
     "output_type": "stream",
     "text": [
      "=====================  [EPOCH (80) LOGGING]  =====================\n",
      "| AVERAGES of THIS EPOCH:\n",
      "| ACCUMULATED LOSS: 6.1821668\n",
      "===========================================================\n"
     ]
    },
    {
     "name": "stderr",
     "output_type": "stream",
     "text": [
      ">>>>>>>>>>>>>>>>>>>>>\n",
      "Main Epoch (Outer Loop):  32%|███▏      | 82/256 [05:28<11:57,  4.12s/it]"
     ]
    },
    {
     "name": "stdout",
     "output_type": "stream",
     "text": [
      "=====================  [EPOCH (81) LOGGING]  =====================\n",
      "| AVERAGES of THIS EPOCH:\n",
      "| ACCUMULATED LOSS: 6.1803558\n",
      "===========================================================\n"
     ]
    },
    {
     "name": "stderr",
     "output_type": "stream",
     "text": [
      ">>>>>>>>>>>>>>>>>>>>>\n",
      "Main Epoch (Outer Loop):  32%|███▏      | 83/256 [05:32<11:46,  4.08s/it]"
     ]
    },
    {
     "name": "stdout",
     "output_type": "stream",
     "text": [
      "=====================  [EPOCH (82) LOGGING]  =====================\n",
      "| AVERAGES of THIS EPOCH:\n",
      "| ACCUMULATED LOSS: 6.1698354\n",
      "===========================================================\n"
     ]
    },
    {
     "name": "stderr",
     "output_type": "stream",
     "text": [
      ">>>>>>>>>>>>>>>>>>>>>\n",
      "Main Epoch (Outer Loop):  33%|███▎      | 84/256 [05:36<11:41,  4.08s/it]"
     ]
    },
    {
     "name": "stdout",
     "output_type": "stream",
     "text": [
      "=====================  [EPOCH (83) LOGGING]  =====================\n",
      "| AVERAGES of THIS EPOCH:\n",
      "| ACCUMULATED LOSS: 6.1507791\n",
      "===========================================================\n"
     ]
    },
    {
     "name": "stderr",
     "output_type": "stream",
     "text": [
      ">>>>>>>>>>>>>>>>>>>>>\n",
      "Main Epoch (Outer Loop):  33%|███▎      | 85/256 [05:40<11:44,  4.12s/it]"
     ]
    },
    {
     "name": "stdout",
     "output_type": "stream",
     "text": [
      "=====================  [EPOCH (84) LOGGING]  =====================\n",
      "| AVERAGES of THIS EPOCH:\n",
      "| ACCUMULATED LOSS: 6.1788627\n",
      "===========================================================\n"
     ]
    },
    {
     "name": "stderr",
     "output_type": "stream",
     "text": [
      ">>>>>>>>>>>>>>>>>>>>>\n",
      "Main Epoch (Outer Loop):  34%|███▎      | 86/256 [05:44<11:44,  4.14s/it]"
     ]
    },
    {
     "name": "stdout",
     "output_type": "stream",
     "text": [
      "=====================  [EPOCH (85) LOGGING]  =====================\n",
      "| AVERAGES of THIS EPOCH:\n",
      "| ACCUMULATED LOSS: 6.1585523\n",
      "===========================================================\n"
     ]
    },
    {
     "name": "stderr",
     "output_type": "stream",
     "text": [
      ">>>>>>>>>>>>>>>>>>>>>\n",
      "Main Epoch (Outer Loop):  34%|███▍      | 87/256 [05:48<11:33,  4.10s/it]"
     ]
    },
    {
     "name": "stdout",
     "output_type": "stream",
     "text": [
      "=====================  [EPOCH (86) LOGGING]  =====================\n",
      "| AVERAGES of THIS EPOCH:\n",
      "| ACCUMULATED LOSS: 6.1728246\n",
      "===========================================================\n"
     ]
    },
    {
     "name": "stderr",
     "output_type": "stream",
     "text": [
      ">>>>>>>>>>>>>>>>>>>>>\n",
      "Main Epoch (Outer Loop):  34%|███▍      | 88/256 [05:52<11:29,  4.11s/it]"
     ]
    },
    {
     "name": "stdout",
     "output_type": "stream",
     "text": [
      "=====================  [EPOCH (87) LOGGING]  =====================\n",
      "| AVERAGES of THIS EPOCH:\n",
      "| ACCUMULATED LOSS: 6.1624533\n",
      "===========================================================\n"
     ]
    },
    {
     "name": "stderr",
     "output_type": "stream",
     "text": [
      ">>>>>>>>>>>>>>>>>>>>>\n",
      "Main Epoch (Outer Loop):  35%|███▍      | 89/256 [05:56<11:25,  4.10s/it]"
     ]
    },
    {
     "name": "stdout",
     "output_type": "stream",
     "text": [
      "=====================  [EPOCH (88) LOGGING]  =====================\n",
      "| AVERAGES of THIS EPOCH:\n",
      "| ACCUMULATED LOSS: 6.1528706\n",
      "===========================================================\n"
     ]
    },
    {
     "name": "stderr",
     "output_type": "stream",
     "text": [
      ">>>>>>>>>>>>>>>>>>>>>\n",
      "Main Epoch (Outer Loop):  35%|███▌      | 90/256 [06:01<11:23,  4.11s/it]"
     ]
    },
    {
     "name": "stdout",
     "output_type": "stream",
     "text": [
      "=====================  [EPOCH (89) LOGGING]  =====================\n",
      "| AVERAGES of THIS EPOCH:\n",
      "| ACCUMULATED LOSS: 6.1870550\n",
      "===========================================================\n"
     ]
    },
    {
     "name": "stderr",
     "output_type": "stream",
     "text": [
      ">>>>>>>>>>>>>>>>>>>>>\n",
      "Main Epoch (Outer Loop):  36%|███▌      | 91/256 [06:05<11:22,  4.13s/it]"
     ]
    },
    {
     "name": "stdout",
     "output_type": "stream",
     "text": [
      "=====================  [EPOCH (90) LOGGING]  =====================\n",
      "| AVERAGES of THIS EPOCH:\n",
      "| ACCUMULATED LOSS: 6.1552135\n",
      "===========================================================\n"
     ]
    },
    {
     "name": "stderr",
     "output_type": "stream",
     "text": [
      ">>>>>>>>>>>>>>>>>>>>>\n",
      "Main Epoch (Outer Loop):  36%|███▌      | 92/256 [06:09<11:21,  4.15s/it]"
     ]
    },
    {
     "name": "stdout",
     "output_type": "stream",
     "text": [
      "=====================  [EPOCH (91) LOGGING]  =====================\n",
      "| AVERAGES of THIS EPOCH:\n",
      "| ACCUMULATED LOSS: 6.1930484\n",
      "===========================================================\n"
     ]
    },
    {
     "name": "stderr",
     "output_type": "stream",
     "text": [
      ">>>>>>>>>>>>>>>>>>>>>\n",
      "Main Epoch (Outer Loop):  36%|███▋      | 93/256 [06:13<11:11,  4.12s/it]"
     ]
    },
    {
     "name": "stdout",
     "output_type": "stream",
     "text": [
      "=====================  [EPOCH (92) LOGGING]  =====================\n",
      "| AVERAGES of THIS EPOCH:\n",
      "| ACCUMULATED LOSS: 6.1688804\n",
      "===========================================================\n"
     ]
    },
    {
     "name": "stderr",
     "output_type": "stream",
     "text": [
      ">>>>>>>>>>>>>>>>>>>>>\n",
      "Main Epoch (Outer Loop):  37%|███▋      | 94/256 [06:17<11:04,  4.10s/it]"
     ]
    },
    {
     "name": "stdout",
     "output_type": "stream",
     "text": [
      "=====================  [EPOCH (93) LOGGING]  =====================\n",
      "| AVERAGES of THIS EPOCH:\n",
      "| ACCUMULATED LOSS: 6.1571397\n",
      "===========================================================\n"
     ]
    },
    {
     "name": "stderr",
     "output_type": "stream",
     "text": [
      ">>>>>>>>>>>>>>>>>>>>>\n",
      "Main Epoch (Outer Loop):  37%|███▋      | 95/256 [06:21<10:54,  4.06s/it]"
     ]
    },
    {
     "name": "stdout",
     "output_type": "stream",
     "text": [
      "=====================  [EPOCH (94) LOGGING]  =====================\n",
      "| AVERAGES of THIS EPOCH:\n",
      "| ACCUMULATED LOSS: 6.1768401\n",
      "===========================================================\n"
     ]
    },
    {
     "name": "stderr",
     "output_type": "stream",
     "text": [
      ">>>>>>>>>>>>>>>>>>>>>\n",
      "Main Epoch (Outer Loop):  38%|███▊      | 96/256 [06:25<10:40,  4.01s/it]"
     ]
    },
    {
     "name": "stdout",
     "output_type": "stream",
     "text": [
      "=====================  [EPOCH (95) LOGGING]  =====================\n",
      "| AVERAGES of THIS EPOCH:\n",
      "| ACCUMULATED LOSS: 6.1603928\n",
      "===========================================================\n"
     ]
    },
    {
     "name": "stderr",
     "output_type": "stream",
     "text": [
      ">>>>>>>>>>>>>>>>>>>>>\n",
      "Main Epoch (Outer Loop):  38%|███▊      | 97/256 [06:29<10:28,  3.95s/it]"
     ]
    },
    {
     "name": "stdout",
     "output_type": "stream",
     "text": [
      "=====================  [EPOCH (96) LOGGING]  =====================\n",
      "| AVERAGES of THIS EPOCH:\n",
      "| ACCUMULATED LOSS: 6.1522964\n",
      "===========================================================\n"
     ]
    },
    {
     "name": "stderr",
     "output_type": "stream",
     "text": [
      ">>>>>>>>>>>>>>>>>>>>>\n",
      "Main Epoch (Outer Loop):  38%|███▊      | 98/256 [06:32<10:09,  3.86s/it]"
     ]
    },
    {
     "name": "stdout",
     "output_type": "stream",
     "text": [
      "=====================  [EPOCH (97) LOGGING]  =====================\n",
      "| AVERAGES of THIS EPOCH:\n",
      "| ACCUMULATED LOSS: 6.1902797\n",
      "===========================================================\n"
     ]
    },
    {
     "name": "stderr",
     "output_type": "stream",
     "text": [
      ">>>>>>>>>>>>>>>>>>>>>\n",
      "Main Epoch (Outer Loop):  39%|███▊      | 99/256 [06:36<10:02,  3.84s/it]"
     ]
    },
    {
     "name": "stdout",
     "output_type": "stream",
     "text": [
      "=====================  [EPOCH (98) LOGGING]  =====================\n",
      "| AVERAGES of THIS EPOCH:\n",
      "| ACCUMULATED LOSS: 6.1979465\n",
      "===========================================================\n"
     ]
    },
    {
     "name": "stderr",
     "output_type": "stream",
     "text": [
      ">>>>>>>>>>>>>>>>>>>>>\n",
      "Main Epoch (Outer Loop):  39%|███▉      | 100/256 [06:40<10:06,  3.89s/it]"
     ]
    },
    {
     "name": "stdout",
     "output_type": "stream",
     "text": [
      "=====================  [EPOCH (99) LOGGING]  =====================\n",
      "| AVERAGES of THIS EPOCH:\n",
      "| ACCUMULATED LOSS: 6.1641495\n",
      "===========================================================\n"
     ]
    },
    {
     "name": "stderr",
     "output_type": "stream",
     "text": [
      ">>>>>>>>>>>>>>>>>>>>>\n",
      "Main Epoch (Outer Loop):  39%|███▉      | 101/256 [06:44<09:54,  3.84s/it]"
     ]
    },
    {
     "name": "stdout",
     "output_type": "stream",
     "text": [
      "=====================  [EPOCH (100) LOGGING]  =====================\n",
      "| AVERAGES of THIS EPOCH:\n",
      "| ACCUMULATED LOSS: 6.1468313\n",
      "===========================================================\n"
     ]
    },
    {
     "name": "stderr",
     "output_type": "stream",
     "text": [
      ">>>>>>>>>>>>>>>>>>>>>\n",
      "Main Epoch (Outer Loop):  40%|███▉      | 102/256 [06:48<09:47,  3.81s/it]"
     ]
    },
    {
     "name": "stdout",
     "output_type": "stream",
     "text": [
      "=====================  [EPOCH (101) LOGGING]  =====================\n",
      "| AVERAGES of THIS EPOCH:\n",
      "| ACCUMULATED LOSS: 6.2025176\n",
      "===========================================================\n"
     ]
    },
    {
     "name": "stderr",
     "output_type": "stream",
     "text": [
      ">>>>>>>>>>>>>>>>>>>>>\n",
      "Main Epoch (Outer Loop):  40%|████      | 103/256 [06:51<09:45,  3.83s/it]"
     ]
    },
    {
     "name": "stdout",
     "output_type": "stream",
     "text": [
      "=====================  [EPOCH (102) LOGGING]  =====================\n",
      "| AVERAGES of THIS EPOCH:\n",
      "| ACCUMULATED LOSS: 6.1695905\n",
      "===========================================================\n"
     ]
    },
    {
     "name": "stderr",
     "output_type": "stream",
     "text": [
      ">>>>>>>>>>>>>>>>>>>>>\n",
      "Main Epoch (Outer Loop):  41%|████      | 104/256 [06:55<09:41,  3.82s/it]"
     ]
    },
    {
     "name": "stdout",
     "output_type": "stream",
     "text": [
      "=====================  [EPOCH (103) LOGGING]  =====================\n",
      "| AVERAGES of THIS EPOCH:\n",
      "| ACCUMULATED LOSS: 6.1697541\n",
      "===========================================================\n"
     ]
    },
    {
     "name": "stderr",
     "output_type": "stream",
     "text": [
      ">>>>>>>>>>>>>>>>>>>>>\n",
      "Main Epoch (Outer Loop):  41%|████      | 105/256 [06:59<09:32,  3.79s/it]"
     ]
    },
    {
     "name": "stdout",
     "output_type": "stream",
     "text": [
      "=====================  [EPOCH (104) LOGGING]  =====================\n",
      "| AVERAGES of THIS EPOCH:\n",
      "| ACCUMULATED LOSS: 6.1593360\n",
      "===========================================================\n"
     ]
    },
    {
     "name": "stderr",
     "output_type": "stream",
     "text": [
      ">>>>>>>>>>>>>>>>>>>>>\n",
      "Main Epoch (Outer Loop):  41%|████▏     | 106/256 [07:03<09:40,  3.87s/it]"
     ]
    },
    {
     "name": "stdout",
     "output_type": "stream",
     "text": [
      "=====================  [EPOCH (105) LOGGING]  =====================\n",
      "| AVERAGES of THIS EPOCH:\n",
      "| ACCUMULATED LOSS: 6.1884600\n",
      "===========================================================\n"
     ]
    },
    {
     "name": "stderr",
     "output_type": "stream",
     "text": [
      ">>>>>>>>>>>>>>>>>>>>>\n",
      "Main Epoch (Outer Loop):  42%|████▏     | 107/256 [07:07<09:41,  3.90s/it]"
     ]
    },
    {
     "name": "stdout",
     "output_type": "stream",
     "text": [
      "=====================  [EPOCH (106) LOGGING]  =====================\n",
      "| AVERAGES of THIS EPOCH:\n",
      "| ACCUMULATED LOSS: 6.1784723\n",
      "===========================================================\n"
     ]
    },
    {
     "name": "stderr",
     "output_type": "stream",
     "text": [
      ">>>>>>>>>>>>>>>>>>>>>\n",
      "Main Epoch (Outer Loop):  42%|████▏     | 108/256 [07:10<09:10,  3.72s/it]"
     ]
    },
    {
     "name": "stdout",
     "output_type": "stream",
     "text": [
      "=====================  [EPOCH (107) LOGGING]  =====================\n",
      "| AVERAGES of THIS EPOCH:\n",
      "| ACCUMULATED LOSS: 5.2126753\n",
      "===========================================================\n"
     ]
    },
    {
     "name": "stderr",
     "output_type": "stream",
     "text": [
      ">>>>>>>>>>>>>>>>>>>>>\n",
      "Main Epoch (Outer Loop):  43%|████▎     | 109/256 [07:14<08:51,  3.62s/it]"
     ]
    },
    {
     "name": "stdout",
     "output_type": "stream",
     "text": [
      "=====================  [EPOCH (108) LOGGING]  =====================\n",
      "| AVERAGES of THIS EPOCH:\n",
      "| ACCUMULATED LOSS: 5.1750395\n",
      "===========================================================\n"
     ]
    },
    {
     "name": "stderr",
     "output_type": "stream",
     "text": [
      ">>>>>>>>>>>>>>>>>>>>>\n",
      "Main Epoch (Outer Loop):  43%|████▎     | 110/256 [07:17<08:41,  3.57s/it]"
     ]
    },
    {
     "name": "stdout",
     "output_type": "stream",
     "text": [
      "=====================  [EPOCH (109) LOGGING]  =====================\n",
      "| AVERAGES of THIS EPOCH:\n",
      "| ACCUMULATED LOSS: 5.9489155\n",
      "===========================================================\n"
     ]
    },
    {
     "name": "stderr",
     "output_type": "stream",
     "text": [
      ">>>>>>>>>>>>>>>>>>>>>\n",
      "Main Epoch (Outer Loop):  43%|████▎     | 111/256 [07:21<08:46,  3.63s/it]"
     ]
    },
    {
     "name": "stdout",
     "output_type": "stream",
     "text": [
      "=====================  [EPOCH (110) LOGGING]  =====================\n",
      "| AVERAGES of THIS EPOCH:\n",
      "| ACCUMULATED LOSS: 6.1349653\n",
      "===========================================================\n"
     ]
    },
    {
     "name": "stderr",
     "output_type": "stream",
     "text": [
      ">>>>>>>>>>>>>>>>>>>>>\n",
      "Main Epoch (Outer Loop):  44%|████▍     | 112/256 [07:25<08:51,  3.69s/it]"
     ]
    },
    {
     "name": "stdout",
     "output_type": "stream",
     "text": [
      "=====================  [EPOCH (111) LOGGING]  =====================\n",
      "| AVERAGES of THIS EPOCH:\n",
      "| ACCUMULATED LOSS: 6.1723738\n",
      "===========================================================\n"
     ]
    },
    {
     "name": "stderr",
     "output_type": "stream",
     "text": [
      ">>>>>>>>>>>>>>>>>>>>>\n",
      "Main Epoch (Outer Loop):  44%|████▍     | 113/256 [07:29<08:59,  3.77s/it]"
     ]
    },
    {
     "name": "stdout",
     "output_type": "stream",
     "text": [
      "=====================  [EPOCH (112) LOGGING]  =====================\n",
      "| AVERAGES of THIS EPOCH:\n",
      "| ACCUMULATED LOSS: 6.1821499\n",
      "===========================================================\n"
     ]
    },
    {
     "name": "stderr",
     "output_type": "stream",
     "text": [
      ">>>>>>>>>>>>>>>>>>>>>\n",
      "Main Epoch (Outer Loop):  45%|████▍     | 114/256 [07:32<08:55,  3.77s/it]"
     ]
    },
    {
     "name": "stdout",
     "output_type": "stream",
     "text": [
      "=====================  [EPOCH (113) LOGGING]  =====================\n",
      "| AVERAGES of THIS EPOCH:\n",
      "| ACCUMULATED LOSS: 6.2019000\n",
      "===========================================================\n"
     ]
    },
    {
     "name": "stderr",
     "output_type": "stream",
     "text": [
      ">>>>>>>>>>>>>>>>>>>>>\n",
      "Main Epoch (Outer Loop):  45%|████▍     | 115/256 [07:36<08:55,  3.80s/it]"
     ]
    },
    {
     "name": "stdout",
     "output_type": "stream",
     "text": [
      "=====================  [EPOCH (114) LOGGING]  =====================\n",
      "| AVERAGES of THIS EPOCH:\n",
      "| ACCUMULATED LOSS: 6.1582082\n",
      "===========================================================\n"
     ]
    },
    {
     "name": "stderr",
     "output_type": "stream",
     "text": [
      ">>>>>>>>>>>>>>>>>>>>>\n",
      "Main Epoch (Outer Loop):  45%|████▌     | 116/256 [07:40<08:55,  3.83s/it]"
     ]
    },
    {
     "name": "stdout",
     "output_type": "stream",
     "text": [
      "=====================  [EPOCH (115) LOGGING]  =====================\n",
      "| AVERAGES of THIS EPOCH:\n",
      "| ACCUMULATED LOSS: 6.1846584\n",
      "===========================================================\n"
     ]
    },
    {
     "name": "stderr",
     "output_type": "stream",
     "text": [
      ">>>>>>>>>>>>>>>>>>>>>\n",
      "Main Epoch (Outer Loop):  46%|████▌     | 117/256 [07:44<08:52,  3.83s/it]"
     ]
    },
    {
     "name": "stdout",
     "output_type": "stream",
     "text": [
      "=====================  [EPOCH (116) LOGGING]  =====================\n",
      "| AVERAGES of THIS EPOCH:\n",
      "| ACCUMULATED LOSS: 6.1850305\n",
      "===========================================================\n"
     ]
    },
    {
     "name": "stderr",
     "output_type": "stream",
     "text": [
      ">>>>>>>>>>>>>>>>>>>>>\n",
      "Main Epoch (Outer Loop):  46%|████▌     | 118/256 [07:48<08:47,  3.82s/it]"
     ]
    },
    {
     "name": "stdout",
     "output_type": "stream",
     "text": [
      "=====================  [EPOCH (117) LOGGING]  =====================\n",
      "| AVERAGES of THIS EPOCH:\n",
      "| ACCUMULATED LOSS: 6.1728729\n",
      "===========================================================\n"
     ]
    },
    {
     "name": "stderr",
     "output_type": "stream",
     "text": [
      ">>>>>>>>>>>>>>>>>>>>>\n",
      "Main Epoch (Outer Loop):  46%|████▋     | 119/256 [07:52<08:48,  3.86s/it]"
     ]
    },
    {
     "name": "stdout",
     "output_type": "stream",
     "text": [
      "=====================  [EPOCH (118) LOGGING]  =====================\n",
      "| AVERAGES of THIS EPOCH:\n",
      "| ACCUMULATED LOSS: 6.1282972\n",
      "===========================================================\n"
     ]
    },
    {
     "name": "stderr",
     "output_type": "stream",
     "text": [
      ">>>>>>>>>>>>>>>>>>>>>\n",
      "Main Epoch (Outer Loop):  47%|████▋     | 120/256 [07:56<08:43,  3.85s/it]"
     ]
    },
    {
     "name": "stdout",
     "output_type": "stream",
     "text": [
      "=====================  [EPOCH (119) LOGGING]  =====================\n",
      "| AVERAGES of THIS EPOCH:\n",
      "| ACCUMULATED LOSS: 6.1689584\n",
      "===========================================================\n"
     ]
    },
    {
     "name": "stderr",
     "output_type": "stream",
     "text": [
      ">>>>>>>>>>>>>>>>>>>>>\n",
      "Main Epoch (Outer Loop):  47%|████▋     | 121/256 [08:00<08:39,  3.85s/it]"
     ]
    },
    {
     "name": "stdout",
     "output_type": "stream",
     "text": [
      "=====================  [EPOCH (120) LOGGING]  =====================\n",
      "| AVERAGES of THIS EPOCH:\n",
      "| ACCUMULATED LOSS: 6.1909093\n",
      "===========================================================\n"
     ]
    },
    {
     "name": "stderr",
     "output_type": "stream",
     "text": [
      ">>>>>>>>>>>>>>>>>>>>>\n",
      "Main Epoch (Outer Loop):  48%|████▊     | 122/256 [08:03<08:36,  3.85s/it]"
     ]
    },
    {
     "name": "stdout",
     "output_type": "stream",
     "text": [
      "=====================  [EPOCH (121) LOGGING]  =====================\n",
      "| AVERAGES of THIS EPOCH:\n",
      "| ACCUMULATED LOSS: 6.1853795\n",
      "===========================================================\n"
     ]
    },
    {
     "name": "stderr",
     "output_type": "stream",
     "text": [
      ">>>>>>>>>>>>>>>>>>>>>\n",
      "Main Epoch (Outer Loop):  48%|████▊     | 123/256 [08:08<08:59,  4.06s/it]"
     ]
    },
    {
     "name": "stdout",
     "output_type": "stream",
     "text": [
      "=====================  [EPOCH (122) LOGGING]  =====================\n",
      "| AVERAGES of THIS EPOCH:\n",
      "| ACCUMULATED LOSS: 6.1591087\n",
      "===========================================================\n"
     ]
    },
    {
     "name": "stderr",
     "output_type": "stream",
     "text": [
      ">>>>>>>>>>>>>>>>>>>>>\n",
      "Main Epoch (Outer Loop):  48%|████▊     | 124/256 [08:13<09:28,  4.31s/it]"
     ]
    },
    {
     "name": "stdout",
     "output_type": "stream",
     "text": [
      "=====================  [EPOCH (123) LOGGING]  =====================\n",
      "| AVERAGES of THIS EPOCH:\n",
      "| ACCUMULATED LOSS: 6.1156531\n",
      "===========================================================\n"
     ]
    },
    {
     "name": "stderr",
     "output_type": "stream",
     "text": [
      ">>>>>>>>>>>>>>>>>>>>>\n",
      "Main Epoch (Outer Loop):  49%|████▉     | 125/256 [08:17<09:26,  4.32s/it]"
     ]
    },
    {
     "name": "stdout",
     "output_type": "stream",
     "text": [
      "=====================  [EPOCH (124) LOGGING]  =====================\n",
      "| AVERAGES of THIS EPOCH:\n",
      "| ACCUMULATED LOSS: 6.1990584\n",
      "===========================================================\n"
     ]
    },
    {
     "name": "stderr",
     "output_type": "stream",
     "text": [
      ">>>>>>>>>>>>>>>>>>>>>\n",
      "Main Epoch (Outer Loop):  49%|████▉     | 126/256 [08:21<09:10,  4.24s/it]"
     ]
    },
    {
     "name": "stdout",
     "output_type": "stream",
     "text": [
      "=====================  [EPOCH (125) LOGGING]  =====================\n",
      "| AVERAGES of THIS EPOCH:\n",
      "| ACCUMULATED LOSS: 6.1770607\n",
      "===========================================================\n"
     ]
    },
    {
     "name": "stderr",
     "output_type": "stream",
     "text": [
      ">>>>>>>>>>>>>>>>>>>>>\n",
      "Main Epoch (Outer Loop):  50%|████▉     | 127/256 [08:25<09:02,  4.20s/it]"
     ]
    },
    {
     "name": "stdout",
     "output_type": "stream",
     "text": [
      "=====================  [EPOCH (126) LOGGING]  =====================\n",
      "| AVERAGES of THIS EPOCH:\n",
      "| ACCUMULATED LOSS: 6.1429688\n",
      "===========================================================\n"
     ]
    },
    {
     "name": "stderr",
     "output_type": "stream",
     "text": []
    },
    {
     "name": "stdout",
     "output_type": "stream",
     "text": [
      "=====================  [EPOCH (127) LOGGING]  =====================\n",
      "| AVERAGES of THIS EPOCH:\n",
      "| ACCUMULATED LOSS: 6.1424107\n",
      "===========================================================\n"
     ]
    },
    {
     "name": "stderr",
     "output_type": "stream",
     "text": [
      ">>>>>>>>>>>>>>>>>>>>>\n",
      "Main Epoch (Outer Loop):  50%|█████     | 128/256 [08:30<09:04,  4.25s/it]"
     ]
    },
    {
     "name": "stdout",
     "output_type": "stream",
     "text": [
      "===================  [Epoch (128/256)]  ===================\n",
      "Entire Validation Dataset Average Loss: 5.3341\n",
      "====================================================\n"
     ]
    },
    {
     "name": "stderr",
     "output_type": "stream",
     "text": [
      ">>>>>>>>>>>>>>>>>>>>>\n",
      "Main Epoch (Outer Loop):  50%|█████     | 129/256 [08:34<09:06,  4.30s/it]"
     ]
    },
    {
     "name": "stdout",
     "output_type": "stream",
     "text": [
      "=====================  [EPOCH (128) LOGGING]  =====================\n",
      "| AVERAGES of THIS EPOCH:\n",
      "| ACCUMULATED LOSS: 6.2074355\n",
      "===========================================================\n"
     ]
    },
    {
     "name": "stderr",
     "output_type": "stream",
     "text": [
      ">>>>>>>>>>>>>>>>>>>>>\n",
      "Main Epoch (Outer Loop):  51%|█████     | 130/256 [08:39<09:07,  4.35s/it]"
     ]
    },
    {
     "name": "stdout",
     "output_type": "stream",
     "text": [
      "=====================  [EPOCH (129) LOGGING]  =====================\n",
      "| AVERAGES of THIS EPOCH:\n",
      "| ACCUMULATED LOSS: 6.1920346\n",
      "===========================================================\n"
     ]
    },
    {
     "name": "stderr",
     "output_type": "stream",
     "text": [
      ">>>>>>>>>>>>>>>>>>>>>\n",
      "Main Epoch (Outer Loop):  51%|█████     | 131/256 [08:43<09:12,  4.42s/it]"
     ]
    },
    {
     "name": "stdout",
     "output_type": "stream",
     "text": [
      "=====================  [EPOCH (130) LOGGING]  =====================\n",
      "| AVERAGES of THIS EPOCH:\n",
      "| ACCUMULATED LOSS: 6.1582507\n",
      "===========================================================\n"
     ]
    },
    {
     "name": "stderr",
     "output_type": "stream",
     "text": [
      ">>>>>>>>>>>>>>>>>>>>>\n",
      "Main Epoch (Outer Loop):  52%|█████▏    | 132/256 [08:48<09:16,  4.49s/it]"
     ]
    },
    {
     "name": "stdout",
     "output_type": "stream",
     "text": [
      "=====================  [EPOCH (131) LOGGING]  =====================\n",
      "| AVERAGES of THIS EPOCH:\n",
      "| ACCUMULATED LOSS: 6.1538195\n",
      "===========================================================\n"
     ]
    },
    {
     "name": "stderr",
     "output_type": "stream",
     "text": [
      ">>>>>>>>>>>>>>>>>>>>>\n",
      "Main Epoch (Outer Loop):  52%|█████▏    | 133/256 [08:53<09:21,  4.57s/it]"
     ]
    },
    {
     "name": "stdout",
     "output_type": "stream",
     "text": [
      "=====================  [EPOCH (132) LOGGING]  =====================\n",
      "| AVERAGES of THIS EPOCH:\n",
      "| ACCUMULATED LOSS: 6.1524270\n",
      "===========================================================\n"
     ]
    },
    {
     "name": "stderr",
     "output_type": "stream",
     "text": [
      ">>>>>>>>>>>>>>>>>>>>>\n",
      "Main Epoch (Outer Loop):  52%|█████▏    | 134/256 [08:57<09:10,  4.51s/it]"
     ]
    },
    {
     "name": "stdout",
     "output_type": "stream",
     "text": [
      "=====================  [EPOCH (133) LOGGING]  =====================\n",
      "| AVERAGES of THIS EPOCH:\n",
      "| ACCUMULATED LOSS: 6.1020564\n",
      "===========================================================\n"
     ]
    },
    {
     "name": "stderr",
     "output_type": "stream",
     "text": [
      ">>>>>>>>>>>>>>>>>>>>>\n",
      "Main Epoch (Outer Loop):  53%|█████▎    | 135/256 [09:01<08:46,  4.36s/it]"
     ]
    },
    {
     "name": "stdout",
     "output_type": "stream",
     "text": [
      "=====================  [EPOCH (134) LOGGING]  =====================\n",
      "| AVERAGES of THIS EPOCH:\n",
      "| ACCUMULATED LOSS: 6.1145956\n",
      "===========================================================\n"
     ]
    },
    {
     "name": "stderr",
     "output_type": "stream",
     "text": [
      ">>>>>>>>>>>>>>>>>>>>>\n",
      "Main Epoch (Outer Loop):  53%|█████▎    | 136/256 [09:05<08:34,  4.29s/it]"
     ]
    },
    {
     "name": "stdout",
     "output_type": "stream",
     "text": [
      "=====================  [EPOCH (135) LOGGING]  =====================\n",
      "| AVERAGES of THIS EPOCH:\n",
      "| ACCUMULATED LOSS: 6.1640483\n",
      "===========================================================\n"
     ]
    },
    {
     "name": "stderr",
     "output_type": "stream",
     "text": [
      ">>>>>>>>>>>>>>>>>>>>>\n",
      "Main Epoch (Outer Loop):  54%|█████▎    | 137/256 [09:09<08:11,  4.13s/it]"
     ]
    },
    {
     "name": "stdout",
     "output_type": "stream",
     "text": [
      "=====================  [EPOCH (136) LOGGING]  =====================\n",
      "| AVERAGES of THIS EPOCH:\n",
      "| ACCUMULATED LOSS: 6.1383416\n",
      "===========================================================\n"
     ]
    },
    {
     "name": "stderr",
     "output_type": "stream",
     "text": [
      ">>>>>>>>>>>>>>>>>>>>>\n",
      "Main Epoch (Outer Loop):  54%|█████▍    | 138/256 [09:13<08:02,  4.09s/it]"
     ]
    },
    {
     "name": "stdout",
     "output_type": "stream",
     "text": [
      "=====================  [EPOCH (137) LOGGING]  =====================\n",
      "| AVERAGES of THIS EPOCH:\n",
      "| ACCUMULATED LOSS: 6.1645104\n",
      "===========================================================\n"
     ]
    },
    {
     "name": "stderr",
     "output_type": "stream",
     "text": [
      ">>>>>>>>>>>>>>>>>>>>>\n",
      "Main Epoch (Outer Loop):  54%|█████▍    | 139/256 [09:17<07:48,  4.01s/it]"
     ]
    },
    {
     "name": "stdout",
     "output_type": "stream",
     "text": [
      "=====================  [EPOCH (138) LOGGING]  =====================\n",
      "| AVERAGES of THIS EPOCH:\n",
      "| ACCUMULATED LOSS: 6.1599132\n",
      "===========================================================\n"
     ]
    },
    {
     "name": "stderr",
     "output_type": "stream",
     "text": [
      ">>>>>>>>>>>>>>>>>>>>>\n",
      "Main Epoch (Outer Loop):  55%|█████▍    | 140/256 [09:21<07:44,  4.00s/it]"
     ]
    },
    {
     "name": "stdout",
     "output_type": "stream",
     "text": [
      "=====================  [EPOCH (139) LOGGING]  =====================\n",
      "| AVERAGES of THIS EPOCH:\n",
      "| ACCUMULATED LOSS: 6.1587642\n",
      "===========================================================\n"
     ]
    },
    {
     "name": "stderr",
     "output_type": "stream",
     "text": [
      ">>>>>>>>>>>>>>>>>>>>>\n",
      "Main Epoch (Outer Loop):  55%|█████▌    | 141/256 [09:25<07:38,  3.98s/it]"
     ]
    },
    {
     "name": "stdout",
     "output_type": "stream",
     "text": [
      "=====================  [EPOCH (140) LOGGING]  =====================\n",
      "| AVERAGES of THIS EPOCH:\n",
      "| ACCUMULATED LOSS: 6.1604635\n",
      "===========================================================\n"
     ]
    },
    {
     "name": "stderr",
     "output_type": "stream",
     "text": [
      ">>>>>>>>>>>>>>>>>>>>>\n",
      "Main Epoch (Outer Loop):  55%|█████▌    | 142/256 [09:28<07:28,  3.93s/it]"
     ]
    },
    {
     "name": "stdout",
     "output_type": "stream",
     "text": [
      "=====================  [EPOCH (141) LOGGING]  =====================\n",
      "| AVERAGES of THIS EPOCH:\n",
      "| ACCUMULATED LOSS: 6.1294791\n",
      "===========================================================\n"
     ]
    },
    {
     "name": "stderr",
     "output_type": "stream",
     "text": [
      ">>>>>>>>>>>>>>>>>>>>>\n",
      "Main Epoch (Outer Loop):  56%|█████▌    | 143/256 [09:32<07:22,  3.92s/it]"
     ]
    },
    {
     "name": "stdout",
     "output_type": "stream",
     "text": [
      "=====================  [EPOCH (142) LOGGING]  =====================\n",
      "| AVERAGES of THIS EPOCH:\n",
      "| ACCUMULATED LOSS: 6.1435647\n",
      "===========================================================\n"
     ]
    },
    {
     "name": "stderr",
     "output_type": "stream",
     "text": [
      ">>>>>>>>>>>>>>>>>>>>>\n",
      "Main Epoch (Outer Loop):  56%|█████▋    | 144/256 [09:36<07:22,  3.95s/it]"
     ]
    },
    {
     "name": "stdout",
     "output_type": "stream",
     "text": [
      "=====================  [EPOCH (143) LOGGING]  =====================\n",
      "| AVERAGES of THIS EPOCH:\n",
      "| ACCUMULATED LOSS: 6.1304339\n",
      "===========================================================\n"
     ]
    },
    {
     "name": "stderr",
     "output_type": "stream",
     "text": [
      ">>>>>>>>>>>>>>>>>>>>>\n",
      "Main Epoch (Outer Loop):  57%|█████▋    | 145/256 [09:41<07:30,  4.06s/it]"
     ]
    },
    {
     "name": "stdout",
     "output_type": "stream",
     "text": [
      "=====================  [EPOCH (144) LOGGING]  =====================\n",
      "| AVERAGES of THIS EPOCH:\n",
      "| ACCUMULATED LOSS: 6.1758961\n",
      "===========================================================\n"
     ]
    },
    {
     "name": "stderr",
     "output_type": "stream",
     "text": [
      ">>>>>>>>>>>>>>>>>>>>>\n",
      "Main Epoch (Outer Loop):  57%|█████▋    | 146/256 [09:45<07:37,  4.16s/it]"
     ]
    },
    {
     "name": "stdout",
     "output_type": "stream",
     "text": [
      "=====================  [EPOCH (145) LOGGING]  =====================\n",
      "| AVERAGES of THIS EPOCH:\n",
      "| ACCUMULATED LOSS: 6.1730506\n",
      "===========================================================\n"
     ]
    },
    {
     "name": "stderr",
     "output_type": "stream",
     "text": [
      ">>>>>>>>>>>>>>>>>>>>>\n",
      "Main Epoch (Outer Loop):  57%|█████▋    | 147/256 [09:49<07:36,  4.19s/it]"
     ]
    },
    {
     "name": "stdout",
     "output_type": "stream",
     "text": [
      "=====================  [EPOCH (146) LOGGING]  =====================\n",
      "| AVERAGES of THIS EPOCH:\n",
      "| ACCUMULATED LOSS: 6.1358623\n",
      "===========================================================\n"
     ]
    },
    {
     "name": "stderr",
     "output_type": "stream",
     "text": [
      ">>>>>>>>>>>>>>>>>>>>>\n",
      "Main Epoch (Outer Loop):  58%|█████▊    | 148/256 [09:53<07:23,  4.11s/it]"
     ]
    },
    {
     "name": "stdout",
     "output_type": "stream",
     "text": [
      "=====================  [EPOCH (147) LOGGING]  =====================\n",
      "| AVERAGES of THIS EPOCH:\n",
      "| ACCUMULATED LOSS: 6.1609386\n",
      "===========================================================\n"
     ]
    },
    {
     "name": "stderr",
     "output_type": "stream",
     "text": [
      ">>>>>>>>>>>>>>>>>>>>>\n",
      "Main Epoch (Outer Loop):  58%|█████▊    | 149/256 [09:57<07:18,  4.10s/it]"
     ]
    },
    {
     "name": "stdout",
     "output_type": "stream",
     "text": [
      "=====================  [EPOCH (148) LOGGING]  =====================\n",
      "| AVERAGES of THIS EPOCH:\n",
      "| ACCUMULATED LOSS: 6.1246268\n",
      "===========================================================\n"
     ]
    },
    {
     "name": "stderr",
     "output_type": "stream",
     "text": [
      ">>>>>>>>>>>>>>>>>>>>>\n",
      "Main Epoch (Outer Loop):  59%|█████▊    | 150/256 [10:01<07:11,  4.07s/it]"
     ]
    },
    {
     "name": "stdout",
     "output_type": "stream",
     "text": [
      "=====================  [EPOCH (149) LOGGING]  =====================\n",
      "| AVERAGES of THIS EPOCH:\n",
      "| ACCUMULATED LOSS: 6.1566133\n",
      "===========================================================\n"
     ]
    },
    {
     "name": "stderr",
     "output_type": "stream",
     "text": [
      ">>>>>>>>>>>>>>>>>>>>>\n",
      "Main Epoch (Outer Loop):  59%|█████▉    | 151/256 [10:05<07:12,  4.12s/it]"
     ]
    },
    {
     "name": "stdout",
     "output_type": "stream",
     "text": [
      "=====================  [EPOCH (150) LOGGING]  =====================\n",
      "| AVERAGES of THIS EPOCH:\n",
      "| ACCUMULATED LOSS: 6.1989195\n",
      "===========================================================\n"
     ]
    },
    {
     "name": "stderr",
     "output_type": "stream",
     "text": [
      ">>>>>>>>>>>>>>>>>>>>>\n",
      "Main Epoch (Outer Loop):  59%|█████▉    | 152/256 [10:10<07:16,  4.20s/it]"
     ]
    },
    {
     "name": "stdout",
     "output_type": "stream",
     "text": [
      "=====================  [EPOCH (151) LOGGING]  =====================\n",
      "| AVERAGES of THIS EPOCH:\n",
      "| ACCUMULATED LOSS: 6.1564220\n",
      "===========================================================\n"
     ]
    },
    {
     "name": "stderr",
     "output_type": "stream",
     "text": [
      ">>>>>>>>>>>>>>>>>>>>>\n",
      "Main Epoch (Outer Loop):  60%|█████▉    | 153/256 [10:14<07:12,  4.19s/it]"
     ]
    },
    {
     "name": "stdout",
     "output_type": "stream",
     "text": [
      "=====================  [EPOCH (152) LOGGING]  =====================\n",
      "| AVERAGES of THIS EPOCH:\n",
      "| ACCUMULATED LOSS: 6.1344070\n",
      "===========================================================\n"
     ]
    },
    {
     "name": "stderr",
     "output_type": "stream",
     "text": [
      ">>>>>>>>>>>>>>>>>>>>>\n",
      "Main Epoch (Outer Loop):  60%|██████    | 154/256 [10:18<06:57,  4.09s/it]"
     ]
    },
    {
     "name": "stdout",
     "output_type": "stream",
     "text": [
      "=====================  [EPOCH (153) LOGGING]  =====================\n",
      "| AVERAGES of THIS EPOCH:\n",
      "| ACCUMULATED LOSS: 6.1590734\n",
      "===========================================================\n"
     ]
    },
    {
     "name": "stderr",
     "output_type": "stream",
     "text": [
      ">>>>>>>>>>>>>>>>>>>>>\n",
      "Main Epoch (Outer Loop):  61%|██████    | 155/256 [10:22<06:46,  4.03s/it]"
     ]
    },
    {
     "name": "stdout",
     "output_type": "stream",
     "text": [
      "=====================  [EPOCH (154) LOGGING]  =====================\n",
      "| AVERAGES of THIS EPOCH:\n",
      "| ACCUMULATED LOSS: 6.1831050\n",
      "===========================================================\n"
     ]
    },
    {
     "name": "stderr",
     "output_type": "stream",
     "text": [
      ">>>>>>>>>>>>>>>>>>>>>\n",
      "Main Epoch (Outer Loop):  61%|██████    | 156/256 [10:26<06:36,  3.96s/it]"
     ]
    },
    {
     "name": "stdout",
     "output_type": "stream",
     "text": [
      "=====================  [EPOCH (155) LOGGING]  =====================\n",
      "| AVERAGES of THIS EPOCH:\n",
      "| ACCUMULATED LOSS: 6.1660726\n",
      "===========================================================\n"
     ]
    },
    {
     "name": "stderr",
     "output_type": "stream",
     "text": [
      ">>>>>>>>>>>>>>>>>>>>>\n",
      "Main Epoch (Outer Loop):  61%|██████▏   | 157/256 [10:30<06:32,  3.96s/it]"
     ]
    },
    {
     "name": "stdout",
     "output_type": "stream",
     "text": [
      "=====================  [EPOCH (156) LOGGING]  =====================\n",
      "| AVERAGES of THIS EPOCH:\n",
      "| ACCUMULATED LOSS: 6.1617371\n",
      "===========================================================\n"
     ]
    },
    {
     "name": "stderr",
     "output_type": "stream",
     "text": [
      ">>>>>>>>>>>>>>>>>>>>>\n",
      "Main Epoch (Outer Loop):  62%|██████▏   | 158/256 [10:33<06:23,  3.91s/it]"
     ]
    },
    {
     "name": "stdout",
     "output_type": "stream",
     "text": [
      "=====================  [EPOCH (157) LOGGING]  =====================\n",
      "| AVERAGES of THIS EPOCH:\n",
      "| ACCUMULATED LOSS: 6.1336804\n",
      "===========================================================\n"
     ]
    },
    {
     "name": "stderr",
     "output_type": "stream",
     "text": [
      ">>>>>>>>>>>>>>>>>>>>>\n",
      "Main Epoch (Outer Loop):  62%|██████▏   | 159/256 [10:37<06:15,  3.87s/it]"
     ]
    },
    {
     "name": "stdout",
     "output_type": "stream",
     "text": [
      "=====================  [EPOCH (158) LOGGING]  =====================\n",
      "| AVERAGES of THIS EPOCH:\n",
      "| ACCUMULATED LOSS: 6.1495047\n",
      "===========================================================\n"
     ]
    },
    {
     "name": "stderr",
     "output_type": "stream",
     "text": [
      ">>>>>>>>>>>>>>>>>>>>>\n",
      "Main Epoch (Outer Loop):  62%|██████▎   | 160/256 [10:41<06:10,  3.86s/it]"
     ]
    },
    {
     "name": "stdout",
     "output_type": "stream",
     "text": [
      "=====================  [EPOCH (159) LOGGING]  =====================\n",
      "| AVERAGES of THIS EPOCH:\n",
      "| ACCUMULATED LOSS: 6.1531937\n",
      "===========================================================\n"
     ]
    },
    {
     "name": "stderr",
     "output_type": "stream",
     "text": [
      ">>>>>>>>>>>>>>>>>>>>>\n",
      "Main Epoch (Outer Loop):  63%|██████▎   | 161/256 [10:45<06:00,  3.79s/it]"
     ]
    },
    {
     "name": "stdout",
     "output_type": "stream",
     "text": [
      "=====================  [EPOCH (160) LOGGING]  =====================\n",
      "| AVERAGES of THIS EPOCH:\n",
      "| ACCUMULATED LOSS: 6.1274064\n",
      "===========================================================\n"
     ]
    },
    {
     "name": "stderr",
     "output_type": "stream",
     "text": [
      ">>>>>>>>>>>>>>>>>>>>>\n",
      "Main Epoch (Outer Loop):  63%|██████▎   | 162/256 [10:48<05:56,  3.79s/it]"
     ]
    },
    {
     "name": "stdout",
     "output_type": "stream",
     "text": [
      "=====================  [EPOCH (161) LOGGING]  =====================\n",
      "| AVERAGES of THIS EPOCH:\n",
      "| ACCUMULATED LOSS: 6.1806005\n",
      "===========================================================\n"
     ]
    },
    {
     "name": "stderr",
     "output_type": "stream",
     "text": [
      ">>>>>>>>>>>>>>>>>>>>>\n",
      "Main Epoch (Outer Loop):  64%|██████▎   | 163/256 [10:52<05:54,  3.81s/it]"
     ]
    },
    {
     "name": "stdout",
     "output_type": "stream",
     "text": [
      "=====================  [EPOCH (162) LOGGING]  =====================\n",
      "| AVERAGES of THIS EPOCH:\n",
      "| ACCUMULATED LOSS: 6.1770494\n",
      "===========================================================\n"
     ]
    },
    {
     "name": "stderr",
     "output_type": "stream",
     "text": [
      ">>>>>>>>>>>>>>>>>>>>>\n",
      "Main Epoch (Outer Loop):  64%|██████▍   | 164/256 [10:56<05:53,  3.85s/it]"
     ]
    },
    {
     "name": "stdout",
     "output_type": "stream",
     "text": [
      "=====================  [EPOCH (163) LOGGING]  =====================\n",
      "| AVERAGES of THIS EPOCH:\n",
      "| ACCUMULATED LOSS: 6.1792636\n",
      "===========================================================\n"
     ]
    },
    {
     "name": "stderr",
     "output_type": "stream",
     "text": [
      ">>>>>>>>>>>>>>>>>>>>>\n",
      "Main Epoch (Outer Loop):  64%|██████▍   | 165/256 [11:00<05:46,  3.81s/it]"
     ]
    },
    {
     "name": "stdout",
     "output_type": "stream",
     "text": [
      "=====================  [EPOCH (164) LOGGING]  =====================\n",
      "| AVERAGES of THIS EPOCH:\n",
      "| ACCUMULATED LOSS: 6.1597451\n",
      "===========================================================\n"
     ]
    },
    {
     "name": "stderr",
     "output_type": "stream",
     "text": [
      ">>>>>>>>>>>>>>>>>>>>>\n",
      "Main Epoch (Outer Loop):  65%|██████▍   | 166/256 [11:04<05:50,  3.89s/it]"
     ]
    },
    {
     "name": "stdout",
     "output_type": "stream",
     "text": [
      "=====================  [EPOCH (165) LOGGING]  =====================\n",
      "| AVERAGES of THIS EPOCH:\n",
      "| ACCUMULATED LOSS: 6.1488404\n",
      "===========================================================\n"
     ]
    },
    {
     "name": "stderr",
     "output_type": "stream",
     "text": [
      ">>>>>>>>>>>>>>>>>>>>>\n",
      "Main Epoch (Outer Loop):  65%|██████▌   | 167/256 [11:08<05:40,  3.83s/it]"
     ]
    },
    {
     "name": "stdout",
     "output_type": "stream",
     "text": [
      "=====================  [EPOCH (166) LOGGING]  =====================\n",
      "| AVERAGES of THIS EPOCH:\n",
      "| ACCUMULATED LOSS: 6.1274202\n",
      "===========================================================\n"
     ]
    },
    {
     "name": "stderr",
     "output_type": "stream",
     "text": [
      ">>>>>>>>>>>>>>>>>>>>>\n",
      "Main Epoch (Outer Loop):  66%|██████▌   | 168/256 [11:11<05:32,  3.78s/it]"
     ]
    },
    {
     "name": "stdout",
     "output_type": "stream",
     "text": [
      "=====================  [EPOCH (167) LOGGING]  =====================\n",
      "| AVERAGES of THIS EPOCH:\n",
      "| ACCUMULATED LOSS: 6.1509708\n",
      "===========================================================\n"
     ]
    },
    {
     "name": "stderr",
     "output_type": "stream",
     "text": [
      ">>>>>>>>>>>>>>>>>>>>>\n",
      "Main Epoch (Outer Loop):  66%|██████▌   | 169/256 [11:15<05:27,  3.76s/it]"
     ]
    },
    {
     "name": "stdout",
     "output_type": "stream",
     "text": [
      "=====================  [EPOCH (168) LOGGING]  =====================\n",
      "| AVERAGES of THIS EPOCH:\n",
      "| ACCUMULATED LOSS: 6.0887016\n",
      "===========================================================\n"
     ]
    },
    {
     "name": "stderr",
     "output_type": "stream",
     "text": [
      ">>>>>>>>>>>>>>>>>>>>>\n",
      "Main Epoch (Outer Loop):  66%|██████▋   | 170/256 [11:19<05:24,  3.78s/it]"
     ]
    },
    {
     "name": "stdout",
     "output_type": "stream",
     "text": [
      "=====================  [EPOCH (169) LOGGING]  =====================\n",
      "| AVERAGES of THIS EPOCH:\n",
      "| ACCUMULATED LOSS: 6.1625624\n",
      "===========================================================\n"
     ]
    },
    {
     "name": "stderr",
     "output_type": "stream",
     "text": [
      ">>>>>>>>>>>>>>>>>>>>>\n",
      "Main Epoch (Outer Loop):  67%|██████▋   | 171/256 [11:22<05:16,  3.72s/it]"
     ]
    },
    {
     "name": "stdout",
     "output_type": "stream",
     "text": [
      "=====================  [EPOCH (170) LOGGING]  =====================\n",
      "| AVERAGES of THIS EPOCH:\n",
      "| ACCUMULATED LOSS: 6.1521680\n",
      "===========================================================\n"
     ]
    },
    {
     "name": "stderr",
     "output_type": "stream",
     "text": [
      ">>>>>>>>>>>>>>>>>>>>>\n",
      "Main Epoch (Outer Loop):  67%|██████▋   | 172/256 [11:26<05:17,  3.77s/it]"
     ]
    },
    {
     "name": "stdout",
     "output_type": "stream",
     "text": [
      "=====================  [EPOCH (171) LOGGING]  =====================\n",
      "| AVERAGES of THIS EPOCH:\n",
      "| ACCUMULATED LOSS: 6.1182777\n",
      "===========================================================\n"
     ]
    },
    {
     "name": "stderr",
     "output_type": "stream",
     "text": [
      ">>>>>>>>>>>>>>>>>>>>>\n",
      "Main Epoch (Outer Loop):  68%|██████▊   | 173/256 [11:30<05:19,  3.85s/it]"
     ]
    },
    {
     "name": "stdout",
     "output_type": "stream",
     "text": [
      "=====================  [EPOCH (172) LOGGING]  =====================\n",
      "| AVERAGES of THIS EPOCH:\n",
      "| ACCUMULATED LOSS: 6.1815232\n",
      "===========================================================\n"
     ]
    },
    {
     "name": "stderr",
     "output_type": "stream",
     "text": [
      ">>>>>>>>>>>>>>>>>>>>>\n",
      "Main Epoch (Outer Loop):  68%|██████▊   | 174/256 [11:34<05:11,  3.80s/it]"
     ]
    },
    {
     "name": "stdout",
     "output_type": "stream",
     "text": [
      "=====================  [EPOCH (173) LOGGING]  =====================\n",
      "| AVERAGES of THIS EPOCH:\n",
      "| ACCUMULATED LOSS: 6.1456809\n",
      "===========================================================\n"
     ]
    },
    {
     "name": "stderr",
     "output_type": "stream",
     "text": [
      ">>>>>>>>>>>>>>>>>>>>>\n",
      "Main Epoch (Outer Loop):  68%|██████▊   | 175/256 [11:38<05:09,  3.82s/it]"
     ]
    },
    {
     "name": "stdout",
     "output_type": "stream",
     "text": [
      "=====================  [EPOCH (174) LOGGING]  =====================\n",
      "| AVERAGES of THIS EPOCH:\n",
      "| ACCUMULATED LOSS: 6.1539018\n",
      "===========================================================\n"
     ]
    },
    {
     "name": "stderr",
     "output_type": "stream",
     "text": [
      ">>>>>>>>>>>>>>>>>>>>>\n",
      "Main Epoch (Outer Loop):  69%|██████▉   | 176/256 [11:42<05:08,  3.85s/it]"
     ]
    },
    {
     "name": "stdout",
     "output_type": "stream",
     "text": [
      "=====================  [EPOCH (175) LOGGING]  =====================\n",
      "| AVERAGES of THIS EPOCH:\n",
      "| ACCUMULATED LOSS: 6.1229864\n",
      "===========================================================\n"
     ]
    },
    {
     "name": "stderr",
     "output_type": "stream",
     "text": [
      ">>>>>>>>>>>>>>>>>>>>>\n",
      "Main Epoch (Outer Loop):  69%|██████▉   | 177/256 [11:46<05:00,  3.81s/it]"
     ]
    },
    {
     "name": "stdout",
     "output_type": "stream",
     "text": [
      "=====================  [EPOCH (176) LOGGING]  =====================\n",
      "| AVERAGES of THIS EPOCH:\n",
      "| ACCUMULATED LOSS: 6.1444376\n",
      "===========================================================\n"
     ]
    },
    {
     "name": "stderr",
     "output_type": "stream",
     "text": [
      ">>>>>>>>>>>>>>>>>>>>>\n",
      "Main Epoch (Outer Loop):  70%|██████▉   | 178/256 [11:49<04:54,  3.78s/it]"
     ]
    },
    {
     "name": "stdout",
     "output_type": "stream",
     "text": [
      "=====================  [EPOCH (177) LOGGING]  =====================\n",
      "| AVERAGES of THIS EPOCH:\n",
      "| ACCUMULATED LOSS: 6.1336952\n",
      "===========================================================\n"
     ]
    },
    {
     "name": "stderr",
     "output_type": "stream",
     "text": [
      ">>>>>>>>>>>>>>>>>>>>>\n",
      "Main Epoch (Outer Loop):  70%|██████▉   | 179/256 [11:53<04:52,  3.80s/it]"
     ]
    },
    {
     "name": "stdout",
     "output_type": "stream",
     "text": [
      "=====================  [EPOCH (178) LOGGING]  =====================\n",
      "| AVERAGES of THIS EPOCH:\n",
      "| ACCUMULATED LOSS: 6.1292615\n",
      "===========================================================\n"
     ]
    },
    {
     "name": "stderr",
     "output_type": "stream",
     "text": [
      ">>>>>>>>>>>>>>>>>>>>>\n",
      "Main Epoch (Outer Loop):  70%|███████   | 180/256 [11:57<04:48,  3.80s/it]"
     ]
    },
    {
     "name": "stdout",
     "output_type": "stream",
     "text": [
      "=====================  [EPOCH (179) LOGGING]  =====================\n",
      "| AVERAGES of THIS EPOCH:\n",
      "| ACCUMULATED LOSS: 6.1537897\n",
      "===========================================================\n"
     ]
    },
    {
     "name": "stderr",
     "output_type": "stream",
     "text": [
      ">>>>>>>>>>>>>>>>>>>>>\n",
      "Main Epoch (Outer Loop):  71%|███████   | 181/256 [12:01<04:47,  3.83s/it]"
     ]
    },
    {
     "name": "stdout",
     "output_type": "stream",
     "text": [
      "=====================  [EPOCH (180) LOGGING]  =====================\n",
      "| AVERAGES of THIS EPOCH:\n",
      "| ACCUMULATED LOSS: 6.1549960\n",
      "===========================================================\n"
     ]
    },
    {
     "name": "stderr",
     "output_type": "stream",
     "text": [
      ">>>>>>>>>>>>>>>>>>>>>\n",
      "Main Epoch (Outer Loop):  71%|███████   | 182/256 [12:05<04:47,  3.89s/it]"
     ]
    },
    {
     "name": "stdout",
     "output_type": "stream",
     "text": [
      "=====================  [EPOCH (181) LOGGING]  =====================\n",
      "| AVERAGES of THIS EPOCH:\n",
      "| ACCUMULATED LOSS: 6.1584917\n",
      "===========================================================\n"
     ]
    },
    {
     "name": "stderr",
     "output_type": "stream",
     "text": [
      ">>>>>>>>>>>>>>>>>>>>>\n",
      "Main Epoch (Outer Loop):  71%|███████▏  | 183/256 [12:09<04:58,  4.09s/it]"
     ]
    },
    {
     "name": "stdout",
     "output_type": "stream",
     "text": [
      "=====================  [EPOCH (182) LOGGING]  =====================\n",
      "| AVERAGES of THIS EPOCH:\n",
      "| ACCUMULATED LOSS: 6.1553163\n",
      "===========================================================\n"
     ]
    },
    {
     "name": "stderr",
     "output_type": "stream",
     "text": [
      ">>>>>>>>>>>>>>>>>>>>>\n",
      "Main Epoch (Outer Loop):  72%|███████▏  | 184/256 [12:14<05:02,  4.20s/it]"
     ]
    },
    {
     "name": "stdout",
     "output_type": "stream",
     "text": [
      "=====================  [EPOCH (183) LOGGING]  =====================\n",
      "| AVERAGES of THIS EPOCH:\n",
      "| ACCUMULATED LOSS: 6.1266475\n",
      "===========================================================\n"
     ]
    },
    {
     "name": "stderr",
     "output_type": "stream",
     "text": [
      ">>>>>>>>>>>>>>>>>>>>>\n",
      "Main Epoch (Outer Loop):  72%|███████▏  | 185/256 [12:18<04:52,  4.12s/it]"
     ]
    },
    {
     "name": "stdout",
     "output_type": "stream",
     "text": [
      "=====================  [EPOCH (184) LOGGING]  =====================\n",
      "| AVERAGES of THIS EPOCH:\n",
      "| ACCUMULATED LOSS: 6.1500169\n",
      "===========================================================\n"
     ]
    },
    {
     "name": "stderr",
     "output_type": "stream",
     "text": [
      ">>>>>>>>>>>>>>>>>>>>>\n",
      "Main Epoch (Outer Loop):  73%|███████▎  | 186/256 [12:22<04:47,  4.10s/it]"
     ]
    },
    {
     "name": "stdout",
     "output_type": "stream",
     "text": [
      "=====================  [EPOCH (185) LOGGING]  =====================\n",
      "| AVERAGES of THIS EPOCH:\n",
      "| ACCUMULATED LOSS: 6.1496194\n",
      "===========================================================\n"
     ]
    },
    {
     "name": "stderr",
     "output_type": "stream",
     "text": [
      ">>>>>>>>>>>>>>>>>>>>>\n",
      "Main Epoch (Outer Loop):  73%|███████▎  | 187/256 [12:26<04:42,  4.09s/it]"
     ]
    },
    {
     "name": "stdout",
     "output_type": "stream",
     "text": [
      "=====================  [EPOCH (186) LOGGING]  =====================\n",
      "| AVERAGES of THIS EPOCH:\n",
      "| ACCUMULATED LOSS: 6.1495950\n",
      "===========================================================\n"
     ]
    },
    {
     "name": "stderr",
     "output_type": "stream",
     "text": [
      ">>>>>>>>>>>>>>>>>>>>>\n",
      "Main Epoch (Outer Loop):  73%|███████▎  | 188/256 [12:30<04:33,  4.03s/it]"
     ]
    },
    {
     "name": "stdout",
     "output_type": "stream",
     "text": [
      "=====================  [EPOCH (187) LOGGING]  =====================\n",
      "| AVERAGES of THIS EPOCH:\n",
      "| ACCUMULATED LOSS: 6.1621441\n",
      "===========================================================\n"
     ]
    },
    {
     "name": "stderr",
     "output_type": "stream",
     "text": [
      ">>>>>>>>>>>>>>>>>>>>>\n",
      "Main Epoch (Outer Loop):  74%|███████▍  | 189/256 [12:34<04:32,  4.07s/it]"
     ]
    },
    {
     "name": "stdout",
     "output_type": "stream",
     "text": [
      "=====================  [EPOCH (188) LOGGING]  =====================\n",
      "| AVERAGES of THIS EPOCH:\n",
      "| ACCUMULATED LOSS: 6.1485044\n",
      "===========================================================\n"
     ]
    },
    {
     "name": "stderr",
     "output_type": "stream",
     "text": [
      ">>>>>>>>>>>>>>>>>>>>>\n",
      "Main Epoch (Outer Loop):  74%|███████▍  | 190/256 [12:38<04:27,  4.06s/it]"
     ]
    },
    {
     "name": "stdout",
     "output_type": "stream",
     "text": [
      "=====================  [EPOCH (189) LOGGING]  =====================\n",
      "| AVERAGES of THIS EPOCH:\n",
      "| ACCUMULATED LOSS: 6.1565562\n",
      "===========================================================\n"
     ]
    },
    {
     "name": "stderr",
     "output_type": "stream",
     "text": [
      ">>>>>>>>>>>>>>>>>>>>>\n",
      "Main Epoch (Outer Loop):  75%|███████▍  | 191/256 [12:42<04:21,  4.03s/it]"
     ]
    },
    {
     "name": "stdout",
     "output_type": "stream",
     "text": [
      "=====================  [EPOCH (190) LOGGING]  =====================\n",
      "| AVERAGES of THIS EPOCH:\n",
      "| ACCUMULATED LOSS: 6.1585158\n",
      "===========================================================\n"
     ]
    },
    {
     "name": "stderr",
     "output_type": "stream",
     "text": []
    },
    {
     "name": "stdout",
     "output_type": "stream",
     "text": [
      "=====================  [EPOCH (191) LOGGING]  =====================\n",
      "| AVERAGES of THIS EPOCH:\n",
      "| ACCUMULATED LOSS: 6.1292827\n",
      "===========================================================\n"
     ]
    },
    {
     "name": "stderr",
     "output_type": "stream",
     "text": [
      ">>>>>>>>>>>>>>>>>>>>>\n",
      "Main Epoch (Outer Loop):  75%|███████▌  | 192/256 [12:46<04:17,  4.02s/it]"
     ]
    },
    {
     "name": "stdout",
     "output_type": "stream",
     "text": [
      "===================  [Epoch (192/256)]  ===================\n",
      "Entire Validation Dataset Average Loss: 5.3667\n",
      "====================================================\n"
     ]
    },
    {
     "name": "stderr",
     "output_type": "stream",
     "text": [
      ">>>>>>>>>>>>>>>>>>>>>\n",
      "Main Epoch (Outer Loop):  75%|███████▌  | 193/256 [12:50<04:13,  4.02s/it]"
     ]
    },
    {
     "name": "stdout",
     "output_type": "stream",
     "text": [
      "=====================  [EPOCH (192) LOGGING]  =====================\n",
      "| AVERAGES of THIS EPOCH:\n",
      "| ACCUMULATED LOSS: 6.1357511\n",
      "===========================================================\n"
     ]
    },
    {
     "name": "stderr",
     "output_type": "stream",
     "text": [
      ">>>>>>>>>>>>>>>>>>>>>\n",
      "Main Epoch (Outer Loop):  76%|███████▌  | 194/256 [12:54<04:07,  3.99s/it]"
     ]
    },
    {
     "name": "stdout",
     "output_type": "stream",
     "text": [
      "=====================  [EPOCH (193) LOGGING]  =====================\n",
      "| AVERAGES of THIS EPOCH:\n",
      "| ACCUMULATED LOSS: 6.1288257\n",
      "===========================================================\n"
     ]
    },
    {
     "name": "stderr",
     "output_type": "stream",
     "text": [
      ">>>>>>>>>>>>>>>>>>>>>\n",
      "Main Epoch (Outer Loop):  76%|███████▌  | 195/256 [12:58<04:04,  4.01s/it]"
     ]
    },
    {
     "name": "stdout",
     "output_type": "stream",
     "text": [
      "=====================  [EPOCH (194) LOGGING]  =====================\n",
      "| AVERAGES of THIS EPOCH:\n",
      "| ACCUMULATED LOSS: 6.1450991\n",
      "===========================================================\n"
     ]
    },
    {
     "name": "stderr",
     "output_type": "stream",
     "text": [
      ">>>>>>>>>>>>>>>>>>>>>\n",
      "Main Epoch (Outer Loop):  77%|███████▋  | 196/256 [13:02<04:00,  4.01s/it]"
     ]
    },
    {
     "name": "stdout",
     "output_type": "stream",
     "text": [
      "=====================  [EPOCH (195) LOGGING]  =====================\n",
      "| AVERAGES of THIS EPOCH:\n",
      "| ACCUMULATED LOSS: 6.1009817\n",
      "===========================================================\n"
     ]
    },
    {
     "name": "stderr",
     "output_type": "stream",
     "text": [
      ">>>>>>>>>>>>>>>>>>>>>\n",
      "Main Epoch (Outer Loop):  77%|███████▋  | 197/256 [13:06<03:54,  3.97s/it]"
     ]
    },
    {
     "name": "stdout",
     "output_type": "stream",
     "text": [
      "=====================  [EPOCH (196) LOGGING]  =====================\n",
      "| AVERAGES of THIS EPOCH:\n",
      "| ACCUMULATED LOSS: 6.1344578\n",
      "===========================================================\n"
     ]
    },
    {
     "name": "stderr",
     "output_type": "stream",
     "text": [
      ">>>>>>>>>>>>>>>>>>>>>\n",
      "Main Epoch (Outer Loop):  77%|███████▋  | 198/256 [13:10<03:51,  4.00s/it]"
     ]
    },
    {
     "name": "stdout",
     "output_type": "stream",
     "text": [
      "=====================  [EPOCH (197) LOGGING]  =====================\n",
      "| AVERAGES of THIS EPOCH:\n",
      "| ACCUMULATED LOSS: 6.1874533\n",
      "===========================================================\n"
     ]
    },
    {
     "name": "stderr",
     "output_type": "stream",
     "text": [
      ">>>>>>>>>>>>>>>>>>>>>\n",
      "Main Epoch (Outer Loop):  78%|███████▊  | 199/256 [13:14<03:50,  4.04s/it]"
     ]
    },
    {
     "name": "stdout",
     "output_type": "stream",
     "text": [
      "=====================  [EPOCH (198) LOGGING]  =====================\n",
      "| AVERAGES of THIS EPOCH:\n",
      "| ACCUMULATED LOSS: 6.1670494\n",
      "===========================================================\n"
     ]
    },
    {
     "name": "stderr",
     "output_type": "stream",
     "text": [
      ">>>>>>>>>>>>>>>>>>>>>\n",
      "Main Epoch (Outer Loop):  78%|███████▊  | 200/256 [13:18<03:44,  4.01s/it]"
     ]
    },
    {
     "name": "stdout",
     "output_type": "stream",
     "text": [
      "=====================  [EPOCH (199) LOGGING]  =====================\n",
      "| AVERAGES of THIS EPOCH:\n",
      "| ACCUMULATED LOSS: 6.1526850\n",
      "===========================================================\n"
     ]
    },
    {
     "name": "stderr",
     "output_type": "stream",
     "text": [
      ">>>>>>>>>>>>>>>>>>>>>\n",
      "Main Epoch (Outer Loop):  79%|███████▊  | 201/256 [13:22<03:39,  3.99s/it]"
     ]
    },
    {
     "name": "stdout",
     "output_type": "stream",
     "text": [
      "=====================  [EPOCH (200) LOGGING]  =====================\n",
      "| AVERAGES of THIS EPOCH:\n",
      "| ACCUMULATED LOSS: 6.1315164\n",
      "===========================================================\n"
     ]
    },
    {
     "name": "stderr",
     "output_type": "stream",
     "text": [
      ">>>>>>>>>>>>>>>>>>>>>\n",
      "Main Epoch (Outer Loop):  79%|███████▉  | 202/256 [13:26<03:37,  4.03s/it]"
     ]
    },
    {
     "name": "stdout",
     "output_type": "stream",
     "text": [
      "=====================  [EPOCH (201) LOGGING]  =====================\n",
      "| AVERAGES of THIS EPOCH:\n",
      "| ACCUMULATED LOSS: 6.1448063\n",
      "===========================================================\n"
     ]
    },
    {
     "name": "stderr",
     "output_type": "stream",
     "text": [
      ">>>>>>>>>>>>>>>>>>>>>\n",
      "Main Epoch (Outer Loop):  79%|███████▉  | 203/256 [13:30<03:30,  3.97s/it]"
     ]
    },
    {
     "name": "stdout",
     "output_type": "stream",
     "text": [
      "=====================  [EPOCH (202) LOGGING]  =====================\n",
      "| AVERAGES of THIS EPOCH:\n",
      "| ACCUMULATED LOSS: 6.1902001\n",
      "===========================================================\n"
     ]
    },
    {
     "name": "stderr",
     "output_type": "stream",
     "text": [
      ">>>>>>>>>>>>>>>>>>>>>\n",
      "Main Epoch (Outer Loop):  80%|███████▉  | 204/256 [13:34<03:30,  4.05s/it]"
     ]
    },
    {
     "name": "stdout",
     "output_type": "stream",
     "text": [
      "=====================  [EPOCH (203) LOGGING]  =====================\n",
      "| AVERAGES of THIS EPOCH:\n",
      "| ACCUMULATED LOSS: 6.1656745\n",
      "===========================================================\n"
     ]
    },
    {
     "name": "stderr",
     "output_type": "stream",
     "text": [
      ">>>>>>>>>>>>>>>>>>>>>\n",
      "Main Epoch (Outer Loop):  80%|████████  | 205/256 [13:39<03:32,  4.16s/it]"
     ]
    },
    {
     "name": "stdout",
     "output_type": "stream",
     "text": [
      "=====================  [EPOCH (204) LOGGING]  =====================\n",
      "| AVERAGES of THIS EPOCH:\n",
      "| ACCUMULATED LOSS: 6.1005433\n",
      "===========================================================\n"
     ]
    },
    {
     "name": "stderr",
     "output_type": "stream",
     "text": [
      ">>>>>>>>>>>>>>>>>>>>>\n",
      "Main Epoch (Outer Loop):  80%|████████  | 206/256 [13:43<03:31,  4.23s/it]"
     ]
    },
    {
     "name": "stdout",
     "output_type": "stream",
     "text": [
      "=====================  [EPOCH (205) LOGGING]  =====================\n",
      "| AVERAGES of THIS EPOCH:\n",
      "| ACCUMULATED LOSS: 6.1583091\n",
      "===========================================================\n"
     ]
    },
    {
     "name": "stderr",
     "output_type": "stream",
     "text": [
      ">>>>>>>>>>>>>>>>>>>>>\n",
      "Main Epoch (Outer Loop):  81%|████████  | 207/256 [13:47<03:29,  4.27s/it]"
     ]
    },
    {
     "name": "stdout",
     "output_type": "stream",
     "text": [
      "=====================  [EPOCH (206) LOGGING]  =====================\n",
      "| AVERAGES of THIS EPOCH:\n",
      "| ACCUMULATED LOSS: 6.1138882\n",
      "===========================================================\n"
     ]
    },
    {
     "name": "stderr",
     "output_type": "stream",
     "text": [
      ">>>>>>>>>>>>>>>>>>>>>\n",
      "Main Epoch (Outer Loop):  81%|████████▏ | 208/256 [13:52<03:26,  4.30s/it]"
     ]
    },
    {
     "name": "stdout",
     "output_type": "stream",
     "text": [
      "=====================  [EPOCH (207) LOGGING]  =====================\n",
      "| AVERAGES of THIS EPOCH:\n",
      "| ACCUMULATED LOSS: 6.1616968\n",
      "===========================================================\n"
     ]
    },
    {
     "name": "stderr",
     "output_type": "stream",
     "text": [
      ">>>>>>>>>>>>>>>>>>>>>\n",
      "Main Epoch (Outer Loop):  82%|████████▏ | 209/256 [13:56<03:22,  4.31s/it]"
     ]
    },
    {
     "name": "stdout",
     "output_type": "stream",
     "text": [
      "=====================  [EPOCH (208) LOGGING]  =====================\n",
      "| AVERAGES of THIS EPOCH:\n",
      "| ACCUMULATED LOSS: 6.1358601\n",
      "===========================================================\n"
     ]
    },
    {
     "name": "stderr",
     "output_type": "stream",
     "text": [
      ">>>>>>>>>>>>>>>>>>>>>\n",
      "Main Epoch (Outer Loop):  82%|████████▏ | 210/256 [14:00<03:19,  4.34s/it]"
     ]
    },
    {
     "name": "stdout",
     "output_type": "stream",
     "text": [
      "=====================  [EPOCH (209) LOGGING]  =====================\n",
      "| AVERAGES of THIS EPOCH:\n",
      "| ACCUMULATED LOSS: 6.1519956\n",
      "===========================================================\n"
     ]
    },
    {
     "name": "stderr",
     "output_type": "stream",
     "text": [
      ">>>>>>>>>>>>>>>>>>>>>\n",
      "Main Epoch (Outer Loop):  82%|████████▏ | 211/256 [14:05<03:15,  4.33s/it]"
     ]
    },
    {
     "name": "stdout",
     "output_type": "stream",
     "text": [
      "=====================  [EPOCH (210) LOGGING]  =====================\n",
      "| AVERAGES of THIS EPOCH:\n",
      "| ACCUMULATED LOSS: 6.1563087\n",
      "===========================================================\n"
     ]
    },
    {
     "name": "stderr",
     "output_type": "stream",
     "text": [
      ">>>>>>>>>>>>>>>>>>>>>\n",
      "Main Epoch (Outer Loop):  83%|████████▎ | 212/256 [14:09<03:09,  4.31s/it]"
     ]
    },
    {
     "name": "stdout",
     "output_type": "stream",
     "text": [
      "=====================  [EPOCH (211) LOGGING]  =====================\n",
      "| AVERAGES of THIS EPOCH:\n",
      "| ACCUMULATED LOSS: 6.1707931\n",
      "===========================================================\n"
     ]
    },
    {
     "name": "stderr",
     "output_type": "stream",
     "text": [
      ">>>>>>>>>>>>>>>>>>>>>\n",
      "Main Epoch (Outer Loop):  83%|████████▎ | 213/256 [14:13<03:06,  4.34s/it]"
     ]
    },
    {
     "name": "stdout",
     "output_type": "stream",
     "text": [
      "=====================  [EPOCH (212) LOGGING]  =====================\n",
      "| AVERAGES of THIS EPOCH:\n",
      "| ACCUMULATED LOSS: 6.1427419\n",
      "===========================================================\n"
     ]
    },
    {
     "name": "stderr",
     "output_type": "stream",
     "text": [
      ">>>>>>>>>>>>>>>>>>>>>\n",
      "Main Epoch (Outer Loop):  84%|████████▎ | 214/256 [14:18<03:04,  4.38s/it]"
     ]
    },
    {
     "name": "stdout",
     "output_type": "stream",
     "text": [
      "=====================  [EPOCH (213) LOGGING]  =====================\n",
      "| AVERAGES of THIS EPOCH:\n",
      "| ACCUMULATED LOSS: 6.1638968\n",
      "===========================================================\n"
     ]
    },
    {
     "name": "stderr",
     "output_type": "stream",
     "text": [
      ">>>>>>>>>>>>>>>>>>>>>\n",
      "Main Epoch (Outer Loop):  84%|████████▍ | 215/256 [14:22<03:01,  4.43s/it]"
     ]
    },
    {
     "name": "stdout",
     "output_type": "stream",
     "text": [
      "=====================  [EPOCH (214) LOGGING]  =====================\n",
      "| AVERAGES of THIS EPOCH:\n",
      "| ACCUMULATED LOSS: 6.1585171\n",
      "===========================================================\n"
     ]
    },
    {
     "name": "stderr",
     "output_type": "stream",
     "text": [
      ">>>>>>>>>>>>>>>>>>>>>\n",
      "Main Epoch (Outer Loop):  84%|████████▍ | 216/256 [14:27<02:59,  4.48s/it]"
     ]
    },
    {
     "name": "stdout",
     "output_type": "stream",
     "text": [
      "=====================  [EPOCH (215) LOGGING]  =====================\n",
      "| AVERAGES of THIS EPOCH:\n",
      "| ACCUMULATED LOSS: 6.1172703\n",
      "===========================================================\n"
     ]
    },
    {
     "name": "stderr",
     "output_type": "stream",
     "text": [
      ">>>>>>>>>>>>>>>>>>>>>\n",
      "Main Epoch (Outer Loop):  85%|████████▍ | 217/256 [14:32<02:56,  4.53s/it]"
     ]
    },
    {
     "name": "stdout",
     "output_type": "stream",
     "text": [
      "=====================  [EPOCH (216) LOGGING]  =====================\n",
      "| AVERAGES of THIS EPOCH:\n",
      "| ACCUMULATED LOSS: 6.1461734\n",
      "===========================================================\n"
     ]
    },
    {
     "name": "stderr",
     "output_type": "stream",
     "text": [
      ">>>>>>>>>>>>>>>>>>>>>\n",
      "Main Epoch (Outer Loop):  85%|████████▌ | 218/256 [14:36<02:53,  4.56s/it]"
     ]
    },
    {
     "name": "stdout",
     "output_type": "stream",
     "text": [
      "=====================  [EPOCH (217) LOGGING]  =====================\n",
      "| AVERAGES of THIS EPOCH:\n",
      "| ACCUMULATED LOSS: 6.1619771\n",
      "===========================================================\n"
     ]
    },
    {
     "name": "stderr",
     "output_type": "stream",
     "text": [
      ">>>>>>>>>>>>>>>>>>>>>\n",
      "Main Epoch (Outer Loop):  86%|████████▌ | 219/256 [14:41<02:49,  4.59s/it]"
     ]
    },
    {
     "name": "stdout",
     "output_type": "stream",
     "text": [
      "=====================  [EPOCH (218) LOGGING]  =====================\n",
      "| AVERAGES of THIS EPOCH:\n",
      "| ACCUMULATED LOSS: 6.1716881\n",
      "===========================================================\n"
     ]
    },
    {
     "name": "stderr",
     "output_type": "stream",
     "text": [
      ">>>>>>>>>>>>>>>>>>>>>\n",
      "Main Epoch (Outer Loop):  86%|████████▌ | 220/256 [14:46<02:45,  4.61s/it]"
     ]
    },
    {
     "name": "stdout",
     "output_type": "stream",
     "text": [
      "=====================  [EPOCH (219) LOGGING]  =====================\n",
      "| AVERAGES of THIS EPOCH:\n",
      "| ACCUMULATED LOSS: 6.1337899\n",
      "===========================================================\n"
     ]
    },
    {
     "name": "stderr",
     "output_type": "stream",
     "text": [
      ">>>>>>>>>>>>>>>>>>>>>\n",
      "Main Epoch (Outer Loop):  86%|████████▋ | 221/256 [14:50<02:42,  4.65s/it]"
     ]
    },
    {
     "name": "stdout",
     "output_type": "stream",
     "text": [
      "=====================  [EPOCH (220) LOGGING]  =====================\n",
      "| AVERAGES of THIS EPOCH:\n",
      "| ACCUMULATED LOSS: 6.1166536\n",
      "===========================================================\n"
     ]
    },
    {
     "name": "stderr",
     "output_type": "stream",
     "text": [
      ">>>>>>>>>>>>>>>>>>>>>\n",
      "Main Epoch (Outer Loop):  87%|████████▋ | 222/256 [14:55<02:36,  4.61s/it]"
     ]
    },
    {
     "name": "stdout",
     "output_type": "stream",
     "text": [
      "=====================  [EPOCH (221) LOGGING]  =====================\n",
      "| AVERAGES of THIS EPOCH:\n",
      "| ACCUMULATED LOSS: 6.1477140\n",
      "===========================================================\n"
     ]
    },
    {
     "name": "stderr",
     "output_type": "stream",
     "text": [
      ">>>>>>>>>>>>>>>>>>>>>\n",
      "Main Epoch (Outer Loop):  87%|████████▋ | 223/256 [14:59<02:32,  4.61s/it]"
     ]
    },
    {
     "name": "stdout",
     "output_type": "stream",
     "text": [
      "=====================  [EPOCH (222) LOGGING]  =====================\n",
      "| AVERAGES of THIS EPOCH:\n",
      "| ACCUMULATED LOSS: 6.1250277\n",
      "===========================================================\n"
     ]
    },
    {
     "name": "stderr",
     "output_type": "stream",
     "text": [
      ">>>>>>>>>>>>>>>>>>>>>\n",
      "Main Epoch (Outer Loop):  88%|████████▊ | 224/256 [15:04<02:28,  4.63s/it]"
     ]
    },
    {
     "name": "stdout",
     "output_type": "stream",
     "text": [
      "=====================  [EPOCH (223) LOGGING]  =====================\n",
      "| AVERAGES of THIS EPOCH:\n",
      "| ACCUMULATED LOSS: 6.1471218\n",
      "===========================================================\n"
     ]
    },
    {
     "name": "stderr",
     "output_type": "stream",
     "text": [
      ">>>>>>>>>>>>>>>>>>>>>\n",
      "Main Epoch (Outer Loop):  88%|████████▊ | 225/256 [15:09<02:22,  4.61s/it]"
     ]
    },
    {
     "name": "stdout",
     "output_type": "stream",
     "text": [
      "=====================  [EPOCH (224) LOGGING]  =====================\n",
      "| AVERAGES of THIS EPOCH:\n",
      "| ACCUMULATED LOSS: 6.1743987\n",
      "===========================================================\n"
     ]
    },
    {
     "name": "stderr",
     "output_type": "stream",
     "text": [
      ">>>>>>>>>>>>>>>>>>>>>\n",
      "Main Epoch (Outer Loop):  88%|████████▊ | 226/256 [15:13<02:18,  4.61s/it]"
     ]
    },
    {
     "name": "stdout",
     "output_type": "stream",
     "text": [
      "=====================  [EPOCH (225) LOGGING]  =====================\n",
      "| AVERAGES of THIS EPOCH:\n",
      "| ACCUMULATED LOSS: 6.1230437\n",
      "===========================================================\n"
     ]
    },
    {
     "name": "stderr",
     "output_type": "stream",
     "text": [
      ">>>>>>>>>>>>>>>>>>>>>\n",
      "Main Epoch (Outer Loop):  89%|████████▊ | 227/256 [15:18<02:12,  4.59s/it]"
     ]
    },
    {
     "name": "stdout",
     "output_type": "stream",
     "text": [
      "=====================  [EPOCH (226) LOGGING]  =====================\n",
      "| AVERAGES of THIS EPOCH:\n",
      "| ACCUMULATED LOSS: 6.1435791\n",
      "===========================================================\n"
     ]
    },
    {
     "name": "stderr",
     "output_type": "stream",
     "text": [
      ">>>>>>>>>>>>>>>>>>>>>\n",
      "Main Epoch (Outer Loop):  89%|████████▉ | 228/256 [15:22<02:08,  4.58s/it]"
     ]
    },
    {
     "name": "stdout",
     "output_type": "stream",
     "text": [
      "=====================  [EPOCH (227) LOGGING]  =====================\n",
      "| AVERAGES of THIS EPOCH:\n",
      "| ACCUMULATED LOSS: 6.1248958\n",
      "===========================================================\n"
     ]
    },
    {
     "name": "stderr",
     "output_type": "stream",
     "text": [
      ">>>>>>>>>>>>>>>>>>>>>\n",
      "Main Epoch (Outer Loop):  89%|████████▉ | 229/256 [15:27<02:05,  4.66s/it]"
     ]
    },
    {
     "name": "stdout",
     "output_type": "stream",
     "text": [
      "=====================  [EPOCH (228) LOGGING]  =====================\n",
      "| AVERAGES of THIS EPOCH:\n",
      "| ACCUMULATED LOSS: 6.1120138\n",
      "===========================================================\n"
     ]
    },
    {
     "name": "stderr",
     "output_type": "stream",
     "text": [
      ">>>>>>>>>>>>>>>>>>>>>\n",
      "Main Epoch (Outer Loop):  90%|████████▉ | 230/256 [15:32<02:00,  4.65s/it]"
     ]
    },
    {
     "name": "stdout",
     "output_type": "stream",
     "text": [
      "=====================  [EPOCH (229) LOGGING]  =====================\n",
      "| AVERAGES of THIS EPOCH:\n",
      "| ACCUMULATED LOSS: 6.1472568\n",
      "===========================================================\n"
     ]
    },
    {
     "name": "stderr",
     "output_type": "stream",
     "text": [
      ">>>>>>>>>>>>>>>>>>>>>\n",
      "Main Epoch (Outer Loop):  90%|█████████ | 231/256 [15:36<01:55,  4.64s/it]"
     ]
    },
    {
     "name": "stdout",
     "output_type": "stream",
     "text": [
      "=====================  [EPOCH (230) LOGGING]  =====================\n",
      "| AVERAGES of THIS EPOCH:\n",
      "| ACCUMULATED LOSS: 6.1219097\n",
      "===========================================================\n"
     ]
    },
    {
     "name": "stderr",
     "output_type": "stream",
     "text": [
      ">>>>>>>>>>>>>>>>>>>>>\n",
      "Main Epoch (Outer Loop):  91%|█████████ | 232/256 [15:40<01:44,  4.36s/it]"
     ]
    },
    {
     "name": "stdout",
     "output_type": "stream",
     "text": [
      "=====================  [EPOCH (231) LOGGING]  =====================\n",
      "| AVERAGES of THIS EPOCH:\n",
      "| ACCUMULATED LOSS: 6.1141235\n",
      "===========================================================\n"
     ]
    },
    {
     "name": "stderr",
     "output_type": "stream",
     "text": [
      ">>>>>>>>>>>>>>>>>>>>>\n",
      "Main Epoch (Outer Loop):  91%|█████████ | 233/256 [15:44<01:34,  4.09s/it]"
     ]
    },
    {
     "name": "stdout",
     "output_type": "stream",
     "text": [
      "=====================  [EPOCH (232) LOGGING]  =====================\n",
      "| AVERAGES of THIS EPOCH:\n",
      "| ACCUMULATED LOSS: 6.1459709\n",
      "===========================================================\n"
     ]
    },
    {
     "name": "stderr",
     "output_type": "stream",
     "text": [
      ">>>>>>>>>>>>>>>>>>>>>\n",
      "Main Epoch (Outer Loop):  91%|█████████▏| 234/256 [15:47<01:27,  3.99s/it]"
     ]
    },
    {
     "name": "stdout",
     "output_type": "stream",
     "text": [
      "=====================  [EPOCH (233) LOGGING]  =====================\n",
      "| AVERAGES of THIS EPOCH:\n",
      "| ACCUMULATED LOSS: 6.1258248\n",
      "===========================================================\n"
     ]
    },
    {
     "name": "stderr",
     "output_type": "stream",
     "text": [
      ">>>>>>>>>>>>>>>>>>>>>\n",
      "Main Epoch (Outer Loop):  92%|█████████▏| 235/256 [15:51<01:23,  3.96s/it]"
     ]
    },
    {
     "name": "stdout",
     "output_type": "stream",
     "text": [
      "=====================  [EPOCH (234) LOGGING]  =====================\n",
      "| AVERAGES of THIS EPOCH:\n",
      "| ACCUMULATED LOSS: 6.1556421\n",
      "===========================================================\n"
     ]
    },
    {
     "name": "stderr",
     "output_type": "stream",
     "text": [
      ">>>>>>>>>>>>>>>>>>>>>\n",
      "Main Epoch (Outer Loop):  92%|█████████▏| 236/256 [15:55<01:18,  3.90s/it]"
     ]
    },
    {
     "name": "stdout",
     "output_type": "stream",
     "text": [
      "=====================  [EPOCH (235) LOGGING]  =====================\n",
      "| AVERAGES of THIS EPOCH:\n",
      "| ACCUMULATED LOSS: 6.1337475\n",
      "===========================================================\n"
     ]
    },
    {
     "name": "stderr",
     "output_type": "stream",
     "text": [
      ">>>>>>>>>>>>>>>>>>>>>\n",
      "Main Epoch (Outer Loop):  93%|█████████▎| 237/256 [15:59<01:13,  3.86s/it]"
     ]
    },
    {
     "name": "stdout",
     "output_type": "stream",
     "text": [
      "=====================  [EPOCH (236) LOGGING]  =====================\n",
      "| AVERAGES of THIS EPOCH:\n",
      "| ACCUMULATED LOSS: 6.1253083\n",
      "===========================================================\n"
     ]
    },
    {
     "name": "stderr",
     "output_type": "stream",
     "text": [
      ">>>>>>>>>>>>>>>>>>>>>\n",
      "Main Epoch (Outer Loop):  93%|█████████▎| 238/256 [16:03<01:08,  3.82s/it]"
     ]
    },
    {
     "name": "stdout",
     "output_type": "stream",
     "text": [
      "=====================  [EPOCH (237) LOGGING]  =====================\n",
      "| AVERAGES of THIS EPOCH:\n",
      "| ACCUMULATED LOSS: 6.1682057\n",
      "===========================================================\n"
     ]
    },
    {
     "name": "stderr",
     "output_type": "stream",
     "text": [
      ">>>>>>>>>>>>>>>>>>>>>\n",
      "Main Epoch (Outer Loop):  93%|█████████▎| 239/256 [16:06<01:04,  3.80s/it]"
     ]
    },
    {
     "name": "stdout",
     "output_type": "stream",
     "text": [
      "=====================  [EPOCH (238) LOGGING]  =====================\n",
      "| AVERAGES of THIS EPOCH:\n",
      "| ACCUMULATED LOSS: 6.1342065\n",
      "===========================================================\n"
     ]
    },
    {
     "name": "stderr",
     "output_type": "stream",
     "text": [
      ">>>>>>>>>>>>>>>>>>>>>\n",
      "Main Epoch (Outer Loop):  94%|█████████▍| 240/256 [16:10<00:59,  3.74s/it]"
     ]
    },
    {
     "name": "stdout",
     "output_type": "stream",
     "text": [
      "=====================  [EPOCH (239) LOGGING]  =====================\n",
      "| AVERAGES of THIS EPOCH:\n",
      "| ACCUMULATED LOSS: 6.1459959\n",
      "===========================================================\n"
     ]
    },
    {
     "name": "stderr",
     "output_type": "stream",
     "text": [
      ">>>>>>>>>>>>>>>>>>>>>\n",
      "Main Epoch (Outer Loop):  94%|█████████▍| 241/256 [16:14<00:55,  3.73s/it]"
     ]
    },
    {
     "name": "stdout",
     "output_type": "stream",
     "text": [
      "=====================  [EPOCH (240) LOGGING]  =====================\n",
      "| AVERAGES of THIS EPOCH:\n",
      "| ACCUMULATED LOSS: 6.1548342\n",
      "===========================================================\n"
     ]
    },
    {
     "name": "stderr",
     "output_type": "stream",
     "text": [
      ">>>>>>>>>>>>>>>>>>>>>\n",
      "Main Epoch (Outer Loop):  95%|█████████▍| 242/256 [16:17<00:52,  3.75s/it]"
     ]
    },
    {
     "name": "stdout",
     "output_type": "stream",
     "text": [
      "=====================  [EPOCH (241) LOGGING]  =====================\n",
      "| AVERAGES of THIS EPOCH:\n",
      "| ACCUMULATED LOSS: 6.1414287\n",
      "===========================================================\n"
     ]
    },
    {
     "name": "stderr",
     "output_type": "stream",
     "text": [
      ">>>>>>>>>>>>>>>>>>>>>\n",
      "Main Epoch (Outer Loop):  95%|█████████▍| 243/256 [16:21<00:49,  3.82s/it]"
     ]
    },
    {
     "name": "stdout",
     "output_type": "stream",
     "text": [
      "=====================  [EPOCH (242) LOGGING]  =====================\n",
      "| AVERAGES of THIS EPOCH:\n",
      "| ACCUMULATED LOSS: 6.1403972\n",
      "===========================================================\n"
     ]
    },
    {
     "name": "stderr",
     "output_type": "stream",
     "text": [
      ">>>>>>>>>>>>>>>>>>>>>\n",
      "Main Epoch (Outer Loop):  95%|█████████▌| 244/256 [16:25<00:45,  3.82s/it]"
     ]
    },
    {
     "name": "stdout",
     "output_type": "stream",
     "text": [
      "=====================  [EPOCH (243) LOGGING]  =====================\n",
      "| AVERAGES of THIS EPOCH:\n",
      "| ACCUMULATED LOSS: 6.1661044\n",
      "===========================================================\n"
     ]
    },
    {
     "name": "stderr",
     "output_type": "stream",
     "text": [
      ">>>>>>>>>>>>>>>>>>>>>\n",
      "Main Epoch (Outer Loop):  96%|█████████▌| 245/256 [16:29<00:42,  3.86s/it]"
     ]
    },
    {
     "name": "stdout",
     "output_type": "stream",
     "text": [
      "=====================  [EPOCH (244) LOGGING]  =====================\n",
      "| AVERAGES of THIS EPOCH:\n",
      "| ACCUMULATED LOSS: 6.1647582\n",
      "===========================================================\n"
     ]
    },
    {
     "name": "stderr",
     "output_type": "stream",
     "text": [
      ">>>>>>>>>>>>>>>>>>>>>\n",
      "Main Epoch (Outer Loop):  96%|█████████▌| 246/256 [16:33<00:38,  3.89s/it]"
     ]
    },
    {
     "name": "stdout",
     "output_type": "stream",
     "text": [
      "=====================  [EPOCH (245) LOGGING]  =====================\n",
      "| AVERAGES of THIS EPOCH:\n",
      "| ACCUMULATED LOSS: 6.1166954\n",
      "===========================================================\n"
     ]
    },
    {
     "name": "stderr",
     "output_type": "stream",
     "text": [
      ">>>>>>>>>>>>>>>>>>>>>\n",
      "Main Epoch (Outer Loop):  96%|█████████▋| 247/256 [16:37<00:35,  3.90s/it]"
     ]
    },
    {
     "name": "stdout",
     "output_type": "stream",
     "text": [
      "=====================  [EPOCH (246) LOGGING]  =====================\n",
      "| AVERAGES of THIS EPOCH:\n",
      "| ACCUMULATED LOSS: 6.1748125\n",
      "===========================================================\n"
     ]
    },
    {
     "name": "stderr",
     "output_type": "stream",
     "text": [
      ">>>>>>>>>>>>>>>>>>>>>\n",
      "Main Epoch (Outer Loop):  97%|█████████▋| 248/256 [16:41<00:30,  3.85s/it]"
     ]
    },
    {
     "name": "stdout",
     "output_type": "stream",
     "text": [
      "=====================  [EPOCH (247) LOGGING]  =====================\n",
      "| AVERAGES of THIS EPOCH:\n",
      "| ACCUMULATED LOSS: 6.1322388\n",
      "===========================================================\n"
     ]
    },
    {
     "name": "stderr",
     "output_type": "stream",
     "text": [
      ">>>>>>>>>>>>>>>>>>>>>\n",
      "Main Epoch (Outer Loop):  97%|█████████▋| 249/256 [16:45<00:27,  3.92s/it]"
     ]
    },
    {
     "name": "stdout",
     "output_type": "stream",
     "text": [
      "=====================  [EPOCH (248) LOGGING]  =====================\n",
      "| AVERAGES of THIS EPOCH:\n",
      "| ACCUMULATED LOSS: 6.1457475\n",
      "===========================================================\n"
     ]
    },
    {
     "name": "stderr",
     "output_type": "stream",
     "text": [
      ">>>>>>>>>>>>>>>>>>>>>\n",
      "Main Epoch (Outer Loop):  98%|█████████▊| 250/256 [16:49<00:23,  3.93s/it]"
     ]
    },
    {
     "name": "stdout",
     "output_type": "stream",
     "text": [
      "=====================  [EPOCH (249) LOGGING]  =====================\n",
      "| AVERAGES of THIS EPOCH:\n",
      "| ACCUMULATED LOSS: 6.1701623\n",
      "===========================================================\n"
     ]
    },
    {
     "name": "stderr",
     "output_type": "stream",
     "text": [
      ">>>>>>>>>>>>>>>>>>>>>\n",
      "Main Epoch (Outer Loop):  98%|█████████▊| 251/256 [16:53<00:19,  3.93s/it]"
     ]
    },
    {
     "name": "stdout",
     "output_type": "stream",
     "text": [
      "=====================  [EPOCH (250) LOGGING]  =====================\n",
      "| AVERAGES of THIS EPOCH:\n",
      "| ACCUMULATED LOSS: 6.1361916\n",
      "===========================================================\n"
     ]
    },
    {
     "name": "stderr",
     "output_type": "stream",
     "text": [
      ">>>>>>>>>>>>>>>>>>>>>\n",
      "Main Epoch (Outer Loop):  98%|█████████▊| 252/256 [16:57<00:15,  3.90s/it]"
     ]
    },
    {
     "name": "stdout",
     "output_type": "stream",
     "text": [
      "=====================  [EPOCH (251) LOGGING]  =====================\n",
      "| AVERAGES of THIS EPOCH:\n",
      "| ACCUMULATED LOSS: 6.1816784\n",
      "===========================================================\n"
     ]
    },
    {
     "name": "stderr",
     "output_type": "stream",
     "text": [
      ">>>>>>>>>>>>>>>>>>>>>\n",
      "Main Epoch (Outer Loop):  99%|█████████▉| 253/256 [17:01<00:11,  3.98s/it]"
     ]
    },
    {
     "name": "stdout",
     "output_type": "stream",
     "text": [
      "=====================  [EPOCH (252) LOGGING]  =====================\n",
      "| AVERAGES of THIS EPOCH:\n",
      "| ACCUMULATED LOSS: 6.1409998\n",
      "===========================================================\n"
     ]
    },
    {
     "name": "stderr",
     "output_type": "stream",
     "text": [
      ">>>>>>>>>>>>>>>>>>>>>\n",
      "Main Epoch (Outer Loop):  99%|█████████▉| 254/256 [17:05<00:07,  3.94s/it]"
     ]
    },
    {
     "name": "stdout",
     "output_type": "stream",
     "text": [
      "=====================  [EPOCH (253) LOGGING]  =====================\n",
      "| AVERAGES of THIS EPOCH:\n",
      "| ACCUMULATED LOSS: 6.1398152\n",
      "===========================================================\n"
     ]
    },
    {
     "name": "stderr",
     "output_type": "stream",
     "text": [
      ">>>>>>>>>>>>>>>>>>>>>\n",
      "Main Epoch (Outer Loop): 100%|█████████▉| 255/256 [17:08<00:03,  3.93s/it]"
     ]
    },
    {
     "name": "stdout",
     "output_type": "stream",
     "text": [
      "=====================  [EPOCH (254) LOGGING]  =====================\n",
      "| AVERAGES of THIS EPOCH:\n",
      "| ACCUMULATED LOSS: 6.1056655\n",
      "===========================================================\n"
     ]
    },
    {
     "name": "stderr",
     "output_type": "stream",
     "text": []
    },
    {
     "name": "stdout",
     "output_type": "stream",
     "text": [
      "=====================  [EPOCH (255) LOGGING]  =====================\n",
      "| AVERAGES of THIS EPOCH:\n",
      "| ACCUMULATED LOSS: 6.1670715\n",
      "===========================================================\n"
     ]
    },
    {
     "name": "stderr",
     "output_type": "stream",
     "text": [
      ">>>>>>>>>>>>>>>>>>>>>\n",
      ">>>>>>>>>>>>>>>>>>>>>p): 100%|██████████| 256/256 [17:13<00:00,  4.02s/it]\n",
      "Main Epoch (Outer Loop): 100%|██████████| 256/256 [17:13<00:00,  4.04s/it]"
     ]
    },
    {
     "name": "stdout",
     "output_type": "stream",
     "text": [
      "===================  [Epoch (256/256)]  ===================\n",
      "Entire Validation Dataset Average Loss: 5.4399\n",
      "====================================================\n",
      "FINISHED MODEL TRAINING. \n",
      "TRAINING TOOK: 0 Hours, 17 Minutes, and 14.497 Seconds\n",
      "\n",
      "TESTING THE TRAINED POLICY:\n"
     ]
    },
    {
     "name": "stderr",
     "output_type": "stream",
     "text": [
      "\n"
     ]
    },
    {
     "name": "stdout",
     "output_type": "stream",
     "text": [
      "===============================================\n",
      "Entire Dataset Average Loss: 5.6981 \n",
      "=====================================================\n",
      "Parent directory 'models' created to store the model.\n",
      "Model weights saved in: models/Weather-Agent_01.pt\n",
      "FINISHED MAIN SCRIPT\n",
      "OVERALL DURATION: 0 Hours, 17 Minutes, and 14.815 Seconds\n",
      "TERMINATING PROGRAM\n"
     ]
    }
   ],
   "source": [
    "# Example usage (assuming you have a way to call this function, e.g., in a main block)\n",
    "if __name__ == '__main__':\n",
    "    # --- Begin Timing Main Script Execution Time ---\n",
    "    main_start_time=time.time()\n",
    "\n",
    "    parser = argparse.ArgumentParser(description=\"Train and evaluate a Regression Agent.\")\n",
    "\n",
    "    parser.add_argument('--epochs', type=int, default=8,\n",
    "        help='(int, default=8) Number of training epochs to run.')\n",
    "\n",
    "    parser.add_argument('--learning_rate', type=float, default=0.0003,\n",
    "        help='(float, default=0.0003) Learning rate used by the optimizer.')\n",
    "    \n",
    "    parser.add_argument('--max_grad_norm', type=float, default=3.0,\n",
    "        help='(float, default=3.0) The Maximum L2 Norm of the gradients for Gradient Clipping.')\n",
    "\n",
    "    parser.add_argument('--dataloader_batch_size', type=int, default=64,\n",
    "        help='(int, default=64) Batch size used by the dataloaders for training, validation, and testing.')\n",
    "\n",
    "    parser.add_argument('--dataloader_pin_memory', action='store_false',\n",
    "        help='(bool, default=True) Disable pinned memory in dataloaders (enabled by default).')\n",
    "\n",
    "    parser.add_argument('--dataloader_num_workers', type=int, default=0,\n",
    "        help='(int, default=0) Number of subprocesses to use for data loading.')\n",
    "\n",
    "    parser.add_argument('--log_iterations', type=int, default=32,\n",
    "        help='(int, default=32) Frequency (in iterations) to log training progress.')\n",
    "\n",
    "    parser.add_argument('--eval_iterations', type=int, default=32,\n",
    "        help='(int, default=32) Frequency (in iterations) to evaluate the model.')\n",
    "\n",
    "    parser.add_argument('--use_cuda', action='store_true',\n",
    "        help='(bool, default=False) Enable CUDA for training if available.')\n",
    "\n",
    "    parser.add_argument('--device', type=str, default='cpu',\n",
    "        help='(str, default=\"cpu\") Device to use for training (e.g., \"cpu\", \"cuda:0\"). Overrides --use_cuda.')\n",
    "\n",
    "    parser.add_argument('--save_model', action='store_true',\n",
    "        help='(bool, default=False) Save the trained model after training.')\n",
    "\n",
    "    parser.add_argument('--model_output_path', type=str, default='models/Weather-Agent.pt',\n",
    "        help='(str, default=\"models/Weather-Agent.pt\") File path to save the trained model.')\n",
    "\n",
    "\n",
    "    # # Parse the arguments (disabled for ipynb testing)\n",
    "    # args = parser.parse_args()\n",
    "\n",
    "    # For ipynb testing\n",
    "    simulated_args = [\n",
    "        '--epochs', '256',\n",
    "        '--learning_rate', '0.003',\n",
    "        '--log_iterations', '256',  # Basically turns logging off\n",
    "        '--eval_iterations', '64',\n",
    "        '--save_model',\n",
    "        '--model_output_path', 'models/Weather-Agent_01.pt'\n",
    "        #Everything else is default\n",
    "    ]\n",
    "    args = parser.parse_args(args=simulated_args)\n",
    "    print(args)\n",
    "    ## End of ipynb testing\n",
    "\n",
    "    ret = main(args)\n",
    "\n",
    "    main_end_time=time.time()\n",
    "\n",
    "    # --- Calculate Main Script Execution Time --- \n",
    "\n",
    "    elapsed_time= main_end_time - main_start_time\n",
    "    hrs = int(elapsed_time / 3600)\n",
    "    min = int((elapsed_time % 3600) / 60)\n",
    "    seconds_remaining = elapsed_time - (hrs * 3600 ) - (min * 60)\n",
    "\n",
    "    print(f\"FINISHED MAIN SCRIPT\\nOVERALL DURATION: {hrs} Hours, {min} Minutes, and {seconds_remaining:.3f} Seconds\")\n",
    "    if ret == 0:\n",
    "        print(\"TERMINATING PROGRAM\")\n",
    "    else: \n",
    "        print(\"Main Scipt Error\")"
   ]
  }
 ],
 "metadata": {
  "kernelspec": {
   "display_name": "WP_env",
   "language": "python",
   "name": "python3"
  },
  "language_info": {
   "codemirror_mode": {
    "name": "ipython",
    "version": 3
   },
   "file_extension": ".py",
   "mimetype": "text/x-python",
   "name": "python",
   "nbconvert_exporter": "python",
   "pygments_lexer": "ipython3",
   "version": "3.10.18"
  }
 },
 "nbformat": 4,
 "nbformat_minor": 5
}
